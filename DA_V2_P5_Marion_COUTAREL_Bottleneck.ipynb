{
 "cells": [
  {
   "cell_type": "markdown",
   "metadata": {},
   "source": [
    "<font size= 3><b>Marion Coutarel</b><br>\n",
    "[Open Classrooms](https://openclassrooms.com/fr/paths/324-data-analyst)   \n",
    "    <right> Parcours Data Analyst V2 - Projet 5</right><br>\n",
    "    Juin 2021</font>"
   ]
  },
  {
   "cell_type": "markdown",
   "metadata": {},
   "source": [
    "<img src=\"data/logoBottleNeck.png\" title=\"logo Bottleneck\"  width=\"300\" />"
   ]
  },
  {
   "cell_type": "code",
   "execution_count": 1,
   "metadata": {},
   "outputs": [
    {
     "data": {
      "text/html": [
       "<style>\n",
       "p{font-size : 1.5em}\n",
       "b{color:#AD283B}\n",
       "a{color:#4a824b}\n",
       "h1{color : #AD283B ; font-family: cursive, Verdana, sans-serif; text-shadow:1px 1px grey}\n",
       "h2{font-family: cursive, Verdana, sans-serif; text-shadow:1px 1px grey;}\n",
       "h3{color: #4a824b; text-shadow:1px 1px #e2e2e2}\n",
       "h4{color: #000283}   \n",
       "</style>\n"
      ],
      "text/plain": [
       "<IPython.core.display.HTML object>"
      ]
     },
     "metadata": {},
     "output_type": "display_data"
    }
   ],
   "source": [
    "%%html\n",
    "<style>\n",
    "p{font-size : 1.5em}\n",
    "b{color:#AD283B}\n",
    "a{color:#4a824b}\n",
    "h1{color : #AD283B ; font-family: cursive, Verdana, sans-serif; text-shadow:1px 1px grey}\n",
    "h2{font-family: cursive, Verdana, sans-serif; text-shadow:1px 1px grey;}\n",
    "h3{color: #4a824b; text-shadow:1px 1px #e2e2e2}\n",
    "h4{color: #000283}   \n",
    "</style>"
   ]
  },
  {
   "cell_type": "code",
   "execution_count": 2,
   "metadata": {},
   "outputs": [],
   "source": [
    "#theme colours\n",
    "colours = ['#AD283B', '#4a824b'] "
   ]
  },
  {
   "cell_type": "markdown",
   "metadata": {},
   "source": [
    "<h1>Librairies</h1>"
   ]
  },
  {
   "cell_type": "code",
   "execution_count": 3,
   "metadata": {},
   "outputs": [],
   "source": [
    "import lux\n",
    "import pandas as pd\n",
    "import numpy as np\n",
    "import matplotlib.pyplot as plt\n",
    "%matplotlib inline\n",
    "plt.style.use('seaborn-deep')\n",
    "import seaborn as sns"
   ]
  },
  {
   "cell_type": "code",
   "execution_count": 4,
   "metadata": {},
   "outputs": [],
   "source": [
    "pd.set_option('display.max_colwidth',None)"
   ]
  },
  {
   "cell_type": "code",
   "execution_count": 5,
   "metadata": {},
   "outputs": [],
   "source": [
    "lux.config.default_display = \"pandas\""
   ]
  },
  {
   "cell_type": "markdown",
   "metadata": {},
   "source": [
    "<h1> importation des données</h1>"
   ]
  },
  {
   "cell_type": "markdown",
   "metadata": {},
   "source": [
    "<h2> Données de liaisons </h2>"
   ]
  },
  {
   "cell_type": "markdown",
   "metadata": {},
   "source": [
    "<h3>importation du fichier de liaison préparer par Sylvie</h3>"
   ]
  },
  {
   "cell_type": "code",
   "execution_count": 6,
   "metadata": {
    "scrolled": true
   },
   "outputs": [],
   "source": [
    "liaison=pd.read_excel('data/liaison.xlsx')\n"
   ]
  },
  {
   "cell_type": "code",
   "execution_count": 7,
   "metadata": {},
   "outputs": [
    {
     "name": "stderr",
     "output_type": "stream",
     "text": [
      "C:\\Users\\mario\\anaconda3\\lib\\site-packages\\IPython\\core\\formatters.py:345: UserWarning:\n",
      "Lux defaults to Pandas when there are no valid actions defined.\n"
     ]
    },
    {
     "data": {
      "text/html": [
       "<div>\n",
       "<style scoped>\n",
       "    .dataframe tbody tr th:only-of-type {\n",
       "        vertical-align: middle;\n",
       "    }\n",
       "\n",
       "    .dataframe tbody tr th {\n",
       "        vertical-align: top;\n",
       "    }\n",
       "\n",
       "    .dataframe thead th {\n",
       "        text-align: right;\n",
       "    }\n",
       "</style>\n",
       "<table border=\"1\" class=\"dataframe\">\n",
       "  <thead>\n",
       "    <tr style=\"text-align: right;\">\n",
       "      <th></th>\n",
       "      <th>product_id</th>\n",
       "      <th>id_web</th>\n",
       "    </tr>\n",
       "  </thead>\n",
       "  <tbody>\n",
       "    <tr>\n",
       "      <th>0</th>\n",
       "      <td>3847</td>\n",
       "      <td>15298</td>\n",
       "    </tr>\n",
       "    <tr>\n",
       "      <th>1</th>\n",
       "      <td>3849</td>\n",
       "      <td>15296</td>\n",
       "    </tr>\n",
       "    <tr>\n",
       "      <th>2</th>\n",
       "      <td>3850</td>\n",
       "      <td>15300</td>\n",
       "    </tr>\n",
       "    <tr>\n",
       "      <th>3</th>\n",
       "      <td>4032</td>\n",
       "      <td>19814</td>\n",
       "    </tr>\n",
       "    <tr>\n",
       "      <th>4</th>\n",
       "      <td>4039</td>\n",
       "      <td>19815</td>\n",
       "    </tr>\n",
       "    <tr>\n",
       "      <th>...</th>\n",
       "      <td>...</td>\n",
       "      <td>...</td>\n",
       "    </tr>\n",
       "    <tr>\n",
       "      <th>820</th>\n",
       "      <td>7203</td>\n",
       "      <td>NaN</td>\n",
       "    </tr>\n",
       "    <tr>\n",
       "      <th>821</th>\n",
       "      <td>7204</td>\n",
       "      <td>NaN</td>\n",
       "    </tr>\n",
       "    <tr>\n",
       "      <th>822</th>\n",
       "      <td>7247</td>\n",
       "      <td>13127-1</td>\n",
       "    </tr>\n",
       "    <tr>\n",
       "      <th>823</th>\n",
       "      <td>7329</td>\n",
       "      <td>14680-1</td>\n",
       "    </tr>\n",
       "    <tr>\n",
       "      <th>824</th>\n",
       "      <td>7338</td>\n",
       "      <td>16230</td>\n",
       "    </tr>\n",
       "  </tbody>\n",
       "</table>\n",
       "<p>825 rows × 2 columns</p>\n",
       "</div>"
      ],
      "text/plain": [
       "     product_id   id_web\n",
       "0          3847    15298\n",
       "1          3849    15296\n",
       "2          3850    15300\n",
       "3          4032    19814\n",
       "4          4039    19815\n",
       "..          ...      ...\n",
       "820        7203      NaN\n",
       "821        7204      NaN\n",
       "822        7247  13127-1\n",
       "823        7329  14680-1\n",
       "824        7338    16230\n",
       "\n",
       "[825 rows x 2 columns]"
      ]
     },
     "metadata": {},
     "output_type": "display_data"
    },
    {
     "data": {
      "text/plain": []
     },
     "execution_count": 7,
     "metadata": {},
     "output_type": "execute_result"
    }
   ],
   "source": [
    "liaison"
   ]
  },
  {
   "cell_type": "markdown",
   "metadata": {},
   "source": [
    "<h3> profiler les données</h3>"
   ]
  },
  {
   "cell_type": "markdown",
   "metadata": {},
   "source": [
    "<h4>Taille et type des données</h4>"
   ]
  },
  {
   "cell_type": "code",
   "execution_count": 8,
   "metadata": {},
   "outputs": [
    {
     "name": "stdout",
     "output_type": "stream",
     "text": [
      "<class 'lux.core.frame.LuxDataFrame'>\n",
      "RangeIndex: 825 entries, 0 to 824\n",
      "Data columns (total 2 columns):\n",
      " #   Column      Non-Null Count  Dtype \n",
      "---  ------      --------------  ----- \n",
      " 0   product_id  825 non-null    int64 \n",
      " 1   id_web      734 non-null    object\n",
      "dtypes: int64(1), object(1)\n",
      "memory usage: 13.0+ KB\n"
     ]
    }
   ],
   "source": [
    "liaison.info()"
   ]
  },
  {
   "cell_type": "markdown",
   "metadata": {},
   "source": [
    "<h4>Vérification des données manquantes (en vert)</h4>"
   ]
  },
  {
   "cell_type": "code",
   "execution_count": 9,
   "metadata": {
    "scrolled": true
   },
   "outputs": [
    {
     "data": {
      "text/plain": [
       "<AxesSubplot:>"
      ]
     },
     "execution_count": 9,
     "metadata": {},
     "output_type": "execute_result"
    },
    {
     "data": {
      "image/png": "[encoded data removed]",
      "text/plain": [
       "<Figure size 432x288 with 2 Axes>"
      ]
     },
     "metadata": {
      "needs_background": "light"
     },
     "output_type": "display_data"
    }
   ],
   "source": [
    "sns.heatmap(liaison[liaison.columns].isnull(), cmap=sns.color_palette(colours))\n"
   ]
  },
  {
   "cell_type": "markdown",
   "metadata": {},
   "source": [
    "<h4>références de produits pour lesquelles nous n'avons pas la correspondance web</h4>"
   ]
  },
  {
   "cell_type": "code",
   "execution_count": 10,
   "metadata": {},
   "outputs": [],
   "source": [
    "product_id_manquant=liaison.loc[liaison.id_web.isnull(),:]"
   ]
  },
  {
   "cell_type": "markdown",
   "metadata": {},
   "source": [
    "<h4> suppression des lignes pour lesquelles nous n'avons pas de correspondances</h4>"
   ]
  },
  {
   "cell_type": "code",
   "execution_count": 11,
   "metadata": {},
   "outputs": [],
   "source": [
    "liaison.dropna(inplace=True)"
   ]
  },
  {
   "cell_type": "code",
   "execution_count": 12,
   "metadata": {},
   "outputs": [
    {
     "name": "stdout",
     "output_type": "stream",
     "text": [
      "nombre de valeur unique dans la colonne product_id:\n",
      "100.0%\n",
      "nombre de valeur unique dans la colonne id_web:\n",
      "100.0%\n"
     ]
    }
   ],
   "source": [
    "print('nombre de valeur unique dans la colonne product_id:')\n",
    "print(\"{}%\".format(liaison.product_id.nunique()*100/len(liaison)))\n",
    "print('nombre de valeur unique dans la colonne id_web:')\n",
    "print(\"{}%\".format(liaison.id_web.nunique()*100/len(liaison)))\n"
   ]
  },
  {
   "cell_type": "markdown",
   "metadata": {},
   "source": [
    "<h2> données ERP</h2>"
   ]
  },
  {
   "cell_type": "markdown",
   "metadata": {},
   "source": [
    "<h3> importation des données</h3>"
   ]
  },
  {
   "cell_type": "code",
   "execution_count": 13,
   "metadata": {},
   "outputs": [
    {
     "data": {
      "application/vnd.jupyter.widget-view+json": {
       "model_id": "1efe4f9f3290411490d17f25be29b8c5",
       "version_major": 2,
       "version_minor": 0
      },
      "text/plain": [
       "Button(description='Toggle Pandas/Lux', layout=Layout(top='5px', width='140px'), style=ButtonStyle())"
      ]
     },
     "metadata": {},
     "output_type": "display_data"
    },
    {
     "data": {
      "application/vnd.jupyter.widget-view+json": {
       "model_id": "c0cf98f3abe94a599a855085f81aa08c",
       "version_major": 2,
       "version_minor": 0
      },
      "text/plain": [
       "Output()"
      ]
     },
     "metadata": {},
     "output_type": "display_data"
    },
    {
     "data": {
      "text/plain": []
     },
     "execution_count": 13,
     "metadata": {},
     "output_type": "execute_result"
    }
   ],
   "source": [
    "ERP=pd.read_excel('data/erp.xlsx')\n",
    "ERP"
   ]
  },
  {
   "cell_type": "markdown",
   "metadata": {},
   "source": [
    "<h3> profilage des données</h3>"
   ]
  },
  {
   "cell_type": "markdown",
   "metadata": {},
   "source": [
    "<h4> vérification des données manquantes  </h4>"
   ]
  },
  {
   "cell_type": "code",
   "execution_count": 14,
   "metadata": {},
   "outputs": [
    {
     "name": "stdout",
     "output_type": "stream",
     "text": [
      "product_id - 0%\n",
      "onsale_web - 0%\n",
      "price - 0%\n",
      "stock_quantity - 0%\n",
      "stock_status - 0%\n"
     ]
    }
   ],
   "source": [
    "for col in ERP.columns:\n",
    "    pct_missing = np.mean(ERP[col].isnull())\n",
    "    print('{} - {}%'.format(col, round(pct_missing*100)))"
   ]
  },
  {
   "cell_type": "code",
   "execution_count": 15,
   "metadata": {},
   "outputs": [
    {
     "data": {
      "text/plain": [
       "(825, 5)"
      ]
     },
     "execution_count": 15,
     "metadata": {},
     "output_type": "execute_result"
    }
   ],
   "source": [
    "ERP.shape"
   ]
  },
  {
   "cell_type": "code",
   "execution_count": 16,
   "metadata": {},
   "outputs": [
    {
     "name": "stdout",
     "output_type": "stream",
     "text": [
      "<class 'lux.core.frame.LuxDataFrame'>\n",
      "RangeIndex: 825 entries, 0 to 824\n",
      "Data columns (total 5 columns):\n",
      " #   Column          Non-Null Count  Dtype  \n",
      "---  ------          --------------  -----  \n",
      " 0   product_id      825 non-null    int64  \n",
      " 1   onsale_web      825 non-null    int64  \n",
      " 2   price           825 non-null    float64\n",
      " 3   stock_quantity  825 non-null    int64  \n",
      " 4   stock_status    825 non-null    object \n",
      "dtypes: float64(1), int64(3), object(1)\n",
      "memory usage: 32.4+ KB\n"
     ]
    }
   ],
   "source": [
    "ERP.info()"
   ]
  },
  {
   "cell_type": "code",
   "execution_count": 17,
   "metadata": {},
   "outputs": [
    {
     "data": {
      "text/plain": [
       "array([1, 0], dtype=int64)"
      ]
     },
     "execution_count": 17,
     "metadata": {},
     "output_type": "execute_result"
    }
   ],
   "source": [
    "ERP.onsale_web.unique()"
   ]
  },
  {
   "cell_type": "code",
   "execution_count": 18,
   "metadata": {},
   "outputs": [
    {
     "data": {
      "text/plain": [
       "array(['outofstock', 'instock'], dtype=object)"
      ]
     },
     "execution_count": 18,
     "metadata": {},
     "output_type": "execute_result"
    }
   ],
   "source": [
    "ERP.stock_status.unique()"
   ]
  },
  {
   "cell_type": "code",
   "execution_count": 19,
   "metadata": {},
   "outputs": [
    {
     "data": {
      "application/vnd.jupyter.widget-view+json": {
       "model_id": "9c689ffdca404977b894250ca9f389ba",
       "version_major": 2,
       "version_minor": 0
      },
      "text/plain": [
       "Button(description='Toggle Pandas/Lux', layout=Layout(top='5px', width='140px'), style=ButtonStyle())"
      ]
     },
     "metadata": {},
     "output_type": "display_data"
    },
    {
     "data": {
      "application/vnd.jupyter.widget-view+json": {
       "model_id": "199d69e9e36845dbb37f12b5aec3eabc",
       "version_major": 2,
       "version_minor": 0
      },
      "text/plain": [
       "Output()"
      ]
     },
     "metadata": {},
     "output_type": "display_data"
    },
    {
     "data": {
      "text/plain": []
     },
     "execution_count": 19,
     "metadata": {},
     "output_type": "execute_result"
    }
   ],
   "source": [
    "ERP.stock_quantity.describe()"
   ]
  },
  {
   "cell_type": "code",
   "execution_count": 20,
   "metadata": {},
   "outputs": [
    {
     "data": {
      "application/vnd.jupyter.widget-view+json": {
       "model_id": "cb2b277e136f4e5bb087af105b9aec85",
       "version_major": 2,
       "version_minor": 0
      },
      "text/plain": [
       "Button(description='Toggle Pandas/Lux', layout=Layout(top='5px', width='140px'), style=ButtonStyle())"
      ]
     },
     "metadata": {},
     "output_type": "display_data"
    },
    {
     "data": {
      "application/vnd.jupyter.widget-view+json": {
       "model_id": "352f6fb8d05b42d890e1659ac0aa95b5",
       "version_major": 2,
       "version_minor": 0
      },
      "text/plain": [
       "Output()"
      ]
     },
     "metadata": {},
     "output_type": "display_data"
    },
    {
     "data": {
      "text/plain": []
     },
     "execution_count": 20,
     "metadata": {},
     "output_type": "execute_result"
    }
   ],
   "source": [
    "ERP.stock_quantity.value_counts()"
   ]
  },
  {
   "cell_type": "markdown",
   "metadata": {},
   "source": [
    "<font color= red> pourquoi un stock à zéro et un status instock ?</color>"
   ]
  },
  {
   "cell_type": "code",
   "execution_count": 21,
   "metadata": {},
   "outputs": [
    {
     "data": {
      "text/html": [
       "<div>\n",
       "<style scoped>\n",
       "    .dataframe tbody tr th:only-of-type {\n",
       "        vertical-align: middle;\n",
       "    }\n",
       "\n",
       "    .dataframe tbody tr th {\n",
       "        vertical-align: top;\n",
       "    }\n",
       "\n",
       "    .dataframe thead th {\n",
       "        text-align: right;\n",
       "    }\n",
       "</style>\n",
       "<table border=\"1\" class=\"dataframe\">\n",
       "  <thead>\n",
       "    <tr style=\"text-align: right;\">\n",
       "      <th></th>\n",
       "      <th>product_id</th>\n",
       "      <th>onsale_web</th>\n",
       "      <th>price</th>\n",
       "      <th>stock_quantity</th>\n",
       "      <th>stock_status</th>\n",
       "    </tr>\n",
       "  </thead>\n",
       "  <tbody>\n",
       "    <tr>\n",
       "      <th>443</th>\n",
       "      <td>4954</td>\n",
       "      <td>1</td>\n",
       "      <td>25.0</td>\n",
       "      <td>0</td>\n",
       "      <td>instock</td>\n",
       "    </tr>\n",
       "  </tbody>\n",
       "</table>\n",
       "</div>"
      ],
      "text/plain": [
       "     product_id  onsale_web  price  stock_quantity stock_status\n",
       "443        4954           1   25.0               0      instock"
      ]
     },
     "metadata": {},
     "output_type": "display_data"
    },
    {
     "data": {
      "text/plain": []
     },
     "execution_count": 21,
     "metadata": {},
     "output_type": "execute_result"
    }
   ],
   "source": [
    "ERP.query(\"stock_quantity==0 & stock_status=='instock'\")"
   ]
  },
  {
   "cell_type": "code",
   "execution_count": 22,
   "metadata": {},
   "outputs": [
    {
     "data": {
      "text/html": [
       "<div>\n",
       "<style scoped>\n",
       "    .dataframe tbody tr th:only-of-type {\n",
       "        vertical-align: middle;\n",
       "    }\n",
       "\n",
       "    .dataframe tbody tr th {\n",
       "        vertical-align: top;\n",
       "    }\n",
       "\n",
       "    .dataframe thead th {\n",
       "        text-align: right;\n",
       "    }\n",
       "</style>\n",
       "<table border=\"1\" class=\"dataframe\">\n",
       "  <thead>\n",
       "    <tr style=\"text-align: right;\">\n",
       "      <th></th>\n",
       "      <th>product_id</th>\n",
       "      <th>onsale_web</th>\n",
       "      <th>price</th>\n",
       "      <th>stock_quantity</th>\n",
       "      <th>stock_status</th>\n",
       "    </tr>\n",
       "  </thead>\n",
       "  <tbody>\n",
       "  </tbody>\n",
       "</table>\n",
       "</div>"
      ],
      "text/plain": [
       "Empty DataFrame\n",
       "Columns: [product_id, onsale_web, price, stock_quantity, stock_status]\n",
       "Index: []"
      ]
     },
     "metadata": {},
     "output_type": "display_data"
    },
    {
     "data": {
      "text/plain": []
     },
     "execution_count": 22,
     "metadata": {},
     "output_type": "execute_result"
    }
   ],
   "source": [
    "ERP.query(\"stock_quantity!=0 & stock_status=='outofstock'\")"
   ]
  },
  {
   "cell_type": "code",
   "execution_count": 23,
   "metadata": {},
   "outputs": [
    {
     "data": {
      "text/plain": [
       "[]"
      ]
     },
     "execution_count": 23,
     "metadata": {},
     "output_type": "execute_result"
    }
   ],
   "source": [
    "CheckERP= list(set(liaison.product_id.unique()).difference(ERP.product_id.unique()))\n",
    "CheckERP"
   ]
  },
  {
   "cell_type": "markdown",
   "metadata": {},
   "source": [
    "<h2> Données web</h2>"
   ]
  },
  {
   "cell_type": "markdown",
   "metadata": {},
   "source": [
    "<h3> importation des données</h3>"
   ]
  },
  {
   "cell_type": "code",
   "execution_count": 24,
   "metadata": {},
   "outputs": [],
   "source": [
    "WEB=pd.read_excel('data/web.xlsx')"
   ]
  },
  {
   "cell_type": "code",
   "execution_count": 25,
   "metadata": {},
   "outputs": [
    {
     "name": "stdout",
     "output_type": "stream",
     "text": [
      "<class 'lux.core.frame.LuxDataFrame'>\n",
      "RangeIndex: 1513 entries, 0 to 1512\n",
      "Data columns (total 28 columns):\n",
      " #   Column                 Non-Null Count  Dtype         \n",
      "---  ------                 --------------  -----         \n",
      " 0   sku                    1428 non-null   object        \n",
      " 1   virtual                1513 non-null   int64         \n",
      " 2   downloadable           1513 non-null   int64         \n",
      " 3   rating_count           1513 non-null   int64         \n",
      " 4   average_rating         1430 non-null   float64       \n",
      " 5   total_sales            1430 non-null   float64       \n",
      " 6   tax_status             716 non-null    object        \n",
      " 7   tax_class              0 non-null      float64       \n",
      " 8   post_author            1430 non-null   float64       \n",
      " 9   post_date              1430 non-null   datetime64[ns]\n",
      " 10  post_date_gmt          1430 non-null   datetime64[ns]\n",
      " 11  post_content           0 non-null      float64       \n",
      " 12  post_title             1430 non-null   object        \n",
      " 13  post_excerpt           716 non-null    object        \n",
      " 14  post_status            1430 non-null   object        \n",
      " 15  comment_status         1430 non-null   object        \n",
      " 16  ping_status            1430 non-null   object        \n",
      " 17  post_password          0 non-null      float64       \n",
      " 18  post_name              1430 non-null   object        \n",
      " 19  post_modified          1430 non-null   datetime64[ns]\n",
      " 20  post_modified_gmt      1430 non-null   datetime64[ns]\n",
      " 21  post_content_filtered  0 non-null      float64       \n",
      " 22  post_parent            1430 non-null   float64       \n",
      " 23  guid                   1430 non-null   object        \n",
      " 24  menu_order             1430 non-null   float64       \n",
      " 25  post_type              1430 non-null   object        \n",
      " 26  post_mime_type         714 non-null    object        \n",
      " 27  comment_count          1430 non-null   float64       \n",
      "dtypes: datetime64[ns](4), float64(10), int64(3), object(11)\n",
      "memory usage: 331.1+ KB\n"
     ]
    }
   ],
   "source": [
    "WEB.info()"
   ]
  },
  {
   "cell_type": "code",
   "execution_count": 26,
   "metadata": {},
   "outputs": [
    {
     "data": {
      "text/html": [
       "<div>\n",
       "<style scoped>\n",
       "    .dataframe tbody tr th:only-of-type {\n",
       "        vertical-align: middle;\n",
       "    }\n",
       "\n",
       "    .dataframe tbody tr th {\n",
       "        vertical-align: top;\n",
       "    }\n",
       "\n",
       "    .dataframe thead th {\n",
       "        text-align: right;\n",
       "    }\n",
       "</style>\n",
       "<table border=\"1\" class=\"dataframe\">\n",
       "  <thead>\n",
       "    <tr style=\"text-align: right;\">\n",
       "      <th></th>\n",
       "      <th>sku</th>\n",
       "      <th>virtual</th>\n",
       "      <th>downloadable</th>\n",
       "      <th>rating_count</th>\n",
       "      <th>average_rating</th>\n",
       "      <th>total_sales</th>\n",
       "      <th>tax_status</th>\n",
       "      <th>tax_class</th>\n",
       "      <th>post_author</th>\n",
       "      <th>post_date</th>\n",
       "      <th>...</th>\n",
       "      <th>post_name</th>\n",
       "      <th>post_modified</th>\n",
       "      <th>post_modified_gmt</th>\n",
       "      <th>post_content_filtered</th>\n",
       "      <th>post_parent</th>\n",
       "      <th>guid</th>\n",
       "      <th>menu_order</th>\n",
       "      <th>post_type</th>\n",
       "      <th>post_mime_type</th>\n",
       "      <th>comment_count</th>\n",
       "    </tr>\n",
       "  </thead>\n",
       "  <tbody>\n",
       "    <tr>\n",
       "      <th>0</th>\n",
       "      <td>bon-cadeau-25-euros</td>\n",
       "      <td>0</td>\n",
       "      <td>0</td>\n",
       "      <td>0</td>\n",
       "      <td>0.0</td>\n",
       "      <td>10.0</td>\n",
       "      <td>taxable</td>\n",
       "      <td>NaN</td>\n",
       "      <td>1.0</td>\n",
       "      <td>2018-06-01 13:53:46</td>\n",
       "      <td>...</td>\n",
       "      <td>bon-cadeau-de-25-euros</td>\n",
       "      <td>2018-06-01 14:13:57</td>\n",
       "      <td>2018-06-01 12:13:57</td>\n",
       "      <td>NaN</td>\n",
       "      <td>0.0</td>\n",
       "      <td>https://www.bottle-neck.fr/?post_type=product&amp;#038;p=4954</td>\n",
       "      <td>0.0</td>\n",
       "      <td>product</td>\n",
       "      <td>NaN</td>\n",
       "      <td>0.0</td>\n",
       "    </tr>\n",
       "    <tr>\n",
       "      <th>1</th>\n",
       "      <td>15298</td>\n",
       "      <td>0</td>\n",
       "      <td>0</td>\n",
       "      <td>0</td>\n",
       "      <td>0.0</td>\n",
       "      <td>6.0</td>\n",
       "      <td>taxable</td>\n",
       "      <td>NaN</td>\n",
       "      <td>2.0</td>\n",
       "      <td>2018-02-08 12:58:52</td>\n",
       "      <td>...</td>\n",
       "      <td>pierre-jean-villa-saint-joseph-preface-2018</td>\n",
       "      <td>2019-12-30 09:30:29</td>\n",
       "      <td>2019-12-30 08:30:29</td>\n",
       "      <td>NaN</td>\n",
       "      <td>0.0</td>\n",
       "      <td>https://www.bottle-neck.fr/?post_type=product&amp;#038;p=3847</td>\n",
       "      <td>0.0</td>\n",
       "      <td>product</td>\n",
       "      <td>NaN</td>\n",
       "      <td>0.0</td>\n",
       "    </tr>\n",
       "    <tr>\n",
       "      <th>2</th>\n",
       "      <td>15296</td>\n",
       "      <td>0</td>\n",
       "      <td>0</td>\n",
       "      <td>0</td>\n",
       "      <td>0.0</td>\n",
       "      <td>0.0</td>\n",
       "      <td>taxable</td>\n",
       "      <td>NaN</td>\n",
       "      <td>2.0</td>\n",
       "      <td>2018-02-08 13:49:41</td>\n",
       "      <td>...</td>\n",
       "      <td>pierre-jean-villa-saint-joseph-tilde-2017</td>\n",
       "      <td>2019-12-21 09:00:17</td>\n",
       "      <td>2019-12-21 08:00:17</td>\n",
       "      <td>NaN</td>\n",
       "      <td>0.0</td>\n",
       "      <td>https://www.bottle-neck.fr/?post_type=product&amp;#038;p=3849</td>\n",
       "      <td>0.0</td>\n",
       "      <td>product</td>\n",
       "      <td>NaN</td>\n",
       "      <td>0.0</td>\n",
       "    </tr>\n",
       "    <tr>\n",
       "      <th>3</th>\n",
       "      <td>15300</td>\n",
       "      <td>0</td>\n",
       "      <td>0</td>\n",
       "      <td>0</td>\n",
       "      <td>0.0</td>\n",
       "      <td>0.0</td>\n",
       "      <td>taxable</td>\n",
       "      <td>NaN</td>\n",
       "      <td>2.0</td>\n",
       "      <td>2018-02-08 14:08:36</td>\n",
       "      <td>...</td>\n",
       "      <td>pierre-jean-villa-croze-hermitage-accroche-coeur-2018</td>\n",
       "      <td>2020-06-26 18:15:03</td>\n",
       "      <td>2020-06-26 16:15:03</td>\n",
       "      <td>NaN</td>\n",
       "      <td>0.0</td>\n",
       "      <td>https://www.bottle-neck.fr/?post_type=product&amp;#038;p=3850</td>\n",
       "      <td>0.0</td>\n",
       "      <td>product</td>\n",
       "      <td>NaN</td>\n",
       "      <td>0.0</td>\n",
       "    </tr>\n",
       "    <tr>\n",
       "      <th>4</th>\n",
       "      <td>19814</td>\n",
       "      <td>0</td>\n",
       "      <td>0</td>\n",
       "      <td>0</td>\n",
       "      <td>0.0</td>\n",
       "      <td>3.0</td>\n",
       "      <td>taxable</td>\n",
       "      <td>NaN</td>\n",
       "      <td>2.0</td>\n",
       "      <td>2018-02-09 14:01:05</td>\n",
       "      <td>...</td>\n",
       "      <td>pierre-jean-villa-igp-gamine-2018</td>\n",
       "      <td>2020-01-04 16:36:01</td>\n",
       "      <td>2020-01-04 15:36:01</td>\n",
       "      <td>NaN</td>\n",
       "      <td>0.0</td>\n",
       "      <td>https://www.bottle-neck.fr/?post_type=product&amp;#038;p=4032</td>\n",
       "      <td>0.0</td>\n",
       "      <td>product</td>\n",
       "      <td>NaN</td>\n",
       "      <td>0.0</td>\n",
       "    </tr>\n",
       "    <tr>\n",
       "      <th>...</th>\n",
       "      <td>...</td>\n",
       "      <td>...</td>\n",
       "      <td>...</td>\n",
       "      <td>...</td>\n",
       "      <td>...</td>\n",
       "      <td>...</td>\n",
       "      <td>...</td>\n",
       "      <td>...</td>\n",
       "      <td>...</td>\n",
       "      <td>...</td>\n",
       "      <td>...</td>\n",
       "      <td>...</td>\n",
       "      <td>...</td>\n",
       "      <td>...</td>\n",
       "      <td>...</td>\n",
       "      <td>...</td>\n",
       "      <td>...</td>\n",
       "      <td>...</td>\n",
       "      <td>...</td>\n",
       "      <td>...</td>\n",
       "      <td>...</td>\n",
       "    </tr>\n",
       "    <tr>\n",
       "      <th>1508</th>\n",
       "      <td>16135</td>\n",
       "      <td>0</td>\n",
       "      <td>0</td>\n",
       "      <td>0</td>\n",
       "      <td>0.0</td>\n",
       "      <td>5.0</td>\n",
       "      <td>NaN</td>\n",
       "      <td>NaN</td>\n",
       "      <td>2.0</td>\n",
       "      <td>2020-04-25 13:22:38</td>\n",
       "      <td>...</td>\n",
       "      <td>mouthes-le-bihan-aime-chai-2015</td>\n",
       "      <td>2020-08-26 17:35:03</td>\n",
       "      <td>2020-08-26 15:35:03</td>\n",
       "      <td>NaN</td>\n",
       "      <td>0.0</td>\n",
       "      <td>https://www.bottle-neck.fr/wp-content/uploads/2020/03/mouthes-le-bihan-aime-chai-2015.jpg</td>\n",
       "      <td>0.0</td>\n",
       "      <td>attachment</td>\n",
       "      <td>image/jpeg</td>\n",
       "      <td>0.0</td>\n",
       "    </tr>\n",
       "    <tr>\n",
       "      <th>1509</th>\n",
       "      <td>15891</td>\n",
       "      <td>0</td>\n",
       "      <td>0</td>\n",
       "      <td>0</td>\n",
       "      <td>0.0</td>\n",
       "      <td>0.0</td>\n",
       "      <td>NaN</td>\n",
       "      <td>NaN</td>\n",
       "      <td>2.0</td>\n",
       "      <td>2020-05-02 14:53:40</td>\n",
       "      <td>...</td>\n",
       "      <td>camin-larredya-jurancon-sec-la-virada-2018</td>\n",
       "      <td>2020-08-26 17:35:02</td>\n",
       "      <td>2020-08-26 15:35:02</td>\n",
       "      <td>NaN</td>\n",
       "      <td>0.0</td>\n",
       "      <td>https://www.bottle-neck.fr/wp-content/uploads/2020/03/camin-larredya-jurancon-sec-la-virada-2018.jpg</td>\n",
       "      <td>0.0</td>\n",
       "      <td>attachment</td>\n",
       "      <td>image/jpeg</td>\n",
       "      <td>0.0</td>\n",
       "    </tr>\n",
       "    <tr>\n",
       "      <th>1510</th>\n",
       "      <td>15887</td>\n",
       "      <td>0</td>\n",
       "      <td>0</td>\n",
       "      <td>0</td>\n",
       "      <td>0.0</td>\n",
       "      <td>0.0</td>\n",
       "      <td>NaN</td>\n",
       "      <td>NaN</td>\n",
       "      <td>2.0</td>\n",
       "      <td>2020-05-02 15:00:54</td>\n",
       "      <td>...</td>\n",
       "      <td>jamet-cote-rotie-fructus-voluptas-2018</td>\n",
       "      <td>2020-08-14 18:15:03</td>\n",
       "      <td>2020-08-14 16:15:03</td>\n",
       "      <td>NaN</td>\n",
       "      <td>0.0</td>\n",
       "      <td>https://www.bottle-neck.fr/wp-content/uploads/2020/03/jamet-cote-rotie-fructus-voluptas-2018.jpg</td>\n",
       "      <td>0.0</td>\n",
       "      <td>attachment</td>\n",
       "      <td>image/jpeg</td>\n",
       "      <td>0.0</td>\n",
       "    </tr>\n",
       "    <tr>\n",
       "      <th>1511</th>\n",
       "      <td>13127-1</td>\n",
       "      <td>0</td>\n",
       "      <td>0</td>\n",
       "      <td>0</td>\n",
       "      <td>0.0</td>\n",
       "      <td>0.0</td>\n",
       "      <td>NaN</td>\n",
       "      <td>NaN</td>\n",
       "      <td>2.0</td>\n",
       "      <td>2020-06-09 15:42:04</td>\n",
       "      <td>...</td>\n",
       "      <td>clos-du-mont-olivet-chateauneuf-du-pape-2007-2</td>\n",
       "      <td>2020-07-20 17:09:06</td>\n",
       "      <td>2020-07-20 15:09:06</td>\n",
       "      <td>NaN</td>\n",
       "      <td>0.0</td>\n",
       "      <td>https://www.bottle-neck.fr/wp-content/uploads/2020/03/clos-du-mont-olivet-chateauneuf-du-pape-2007-2.jpg</td>\n",
       "      <td>0.0</td>\n",
       "      <td>attachment</td>\n",
       "      <td>image/jpeg</td>\n",
       "      <td>0.0</td>\n",
       "    </tr>\n",
       "    <tr>\n",
       "      <th>1512</th>\n",
       "      <td>16230</td>\n",
       "      <td>0</td>\n",
       "      <td>0</td>\n",
       "      <td>0</td>\n",
       "      <td>0.0</td>\n",
       "      <td>0.0</td>\n",
       "      <td>NaN</td>\n",
       "      <td>NaN</td>\n",
       "      <td>2.0</td>\n",
       "      <td>2020-07-20 11:00:00</td>\n",
       "      <td>...</td>\n",
       "      <td>domaine-saint-nicolas-fiefs-vendeens-blanc-les-clous-2019</td>\n",
       "      <td>2020-08-13 10:45:03</td>\n",
       "      <td>2020-08-13 08:45:03</td>\n",
       "      <td>NaN</td>\n",
       "      <td>0.0</td>\n",
       "      <td>https://www.bottle-neck.fr/wp-content/uploads/2020/03/domaine-saint-nicolas-fiefs-vendeens-blanc-les-clous-2019.jpg</td>\n",
       "      <td>0.0</td>\n",
       "      <td>attachment</td>\n",
       "      <td>image/jpeg</td>\n",
       "      <td>0.0</td>\n",
       "    </tr>\n",
       "  </tbody>\n",
       "</table>\n",
       "<p>1513 rows × 28 columns</p>\n",
       "</div>"
      ],
      "text/plain": [
       "                      sku  virtual  downloadable  rating_count  \\\n",
       "0     bon-cadeau-25-euros        0             0             0   \n",
       "1                   15298        0             0             0   \n",
       "2                   15296        0             0             0   \n",
       "3                   15300        0             0             0   \n",
       "4                   19814        0             0             0   \n",
       "...                   ...      ...           ...           ...   \n",
       "1508                16135        0             0             0   \n",
       "1509                15891        0             0             0   \n",
       "1510                15887        0             0             0   \n",
       "1511              13127-1        0             0             0   \n",
       "1512                16230        0             0             0   \n",
       "\n",
       "      average_rating  total_sales tax_status  tax_class  post_author  \\\n",
       "0                0.0         10.0    taxable        NaN          1.0   \n",
       "1                0.0          6.0    taxable        NaN          2.0   \n",
       "2                0.0          0.0    taxable        NaN          2.0   \n",
       "3                0.0          0.0    taxable        NaN          2.0   \n",
       "4                0.0          3.0    taxable        NaN          2.0   \n",
       "...              ...          ...        ...        ...          ...   \n",
       "1508             0.0          5.0        NaN        NaN          2.0   \n",
       "1509             0.0          0.0        NaN        NaN          2.0   \n",
       "1510             0.0          0.0        NaN        NaN          2.0   \n",
       "1511             0.0          0.0        NaN        NaN          2.0   \n",
       "1512             0.0          0.0        NaN        NaN          2.0   \n",
       "\n",
       "               post_date  ...  \\\n",
       "0    2018-06-01 13:53:46  ...   \n",
       "1    2018-02-08 12:58:52  ...   \n",
       "2    2018-02-08 13:49:41  ...   \n",
       "3    2018-02-08 14:08:36  ...   \n",
       "4    2018-02-09 14:01:05  ...   \n",
       "...                  ...  ...   \n",
       "1508 2020-04-25 13:22:38  ...   \n",
       "1509 2020-05-02 14:53:40  ...   \n",
       "1510 2020-05-02 15:00:54  ...   \n",
       "1511 2020-06-09 15:42:04  ...   \n",
       "1512 2020-07-20 11:00:00  ...   \n",
       "\n",
       "                                                      post_name  \\\n",
       "0                                        bon-cadeau-de-25-euros   \n",
       "1                   pierre-jean-villa-saint-joseph-preface-2018   \n",
       "2                     pierre-jean-villa-saint-joseph-tilde-2017   \n",
       "3         pierre-jean-villa-croze-hermitage-accroche-coeur-2018   \n",
       "4                             pierre-jean-villa-igp-gamine-2018   \n",
       "...                                                         ...   \n",
       "1508                            mouthes-le-bihan-aime-chai-2015   \n",
       "1509                 camin-larredya-jurancon-sec-la-virada-2018   \n",
       "1510                     jamet-cote-rotie-fructus-voluptas-2018   \n",
       "1511             clos-du-mont-olivet-chateauneuf-du-pape-2007-2   \n",
       "1512  domaine-saint-nicolas-fiefs-vendeens-blanc-les-clous-2019   \n",
       "\n",
       "           post_modified   post_modified_gmt post_content_filtered  \\\n",
       "0    2018-06-01 14:13:57 2018-06-01 12:13:57                   NaN   \n",
       "1    2019-12-30 09:30:29 2019-12-30 08:30:29                   NaN   \n",
       "2    2019-12-21 09:00:17 2019-12-21 08:00:17                   NaN   \n",
       "3    2020-06-26 18:15:03 2020-06-26 16:15:03                   NaN   \n",
       "4    2020-01-04 16:36:01 2020-01-04 15:36:01                   NaN   \n",
       "...                  ...                 ...                   ...   \n",
       "1508 2020-08-26 17:35:03 2020-08-26 15:35:03                   NaN   \n",
       "1509 2020-08-26 17:35:02 2020-08-26 15:35:02                   NaN   \n",
       "1510 2020-08-14 18:15:03 2020-08-14 16:15:03                   NaN   \n",
       "1511 2020-07-20 17:09:06 2020-07-20 15:09:06                   NaN   \n",
       "1512 2020-08-13 10:45:03 2020-08-13 08:45:03                   NaN   \n",
       "\n",
       "     post_parent  \\\n",
       "0            0.0   \n",
       "1            0.0   \n",
       "2            0.0   \n",
       "3            0.0   \n",
       "4            0.0   \n",
       "...          ...   \n",
       "1508         0.0   \n",
       "1509         0.0   \n",
       "1510         0.0   \n",
       "1511         0.0   \n",
       "1512         0.0   \n",
       "\n",
       "                                                                                                                     guid  \\\n",
       "0                                                               https://www.bottle-neck.fr/?post_type=product&#038;p=4954   \n",
       "1                                                               https://www.bottle-neck.fr/?post_type=product&#038;p=3847   \n",
       "2                                                               https://www.bottle-neck.fr/?post_type=product&#038;p=3849   \n",
       "3                                                               https://www.bottle-neck.fr/?post_type=product&#038;p=3850   \n",
       "4                                                               https://www.bottle-neck.fr/?post_type=product&#038;p=4032   \n",
       "...                                                                                                                   ...   \n",
       "1508                            https://www.bottle-neck.fr/wp-content/uploads/2020/03/mouthes-le-bihan-aime-chai-2015.jpg   \n",
       "1509                 https://www.bottle-neck.fr/wp-content/uploads/2020/03/camin-larredya-jurancon-sec-la-virada-2018.jpg   \n",
       "1510                     https://www.bottle-neck.fr/wp-content/uploads/2020/03/jamet-cote-rotie-fructus-voluptas-2018.jpg   \n",
       "1511             https://www.bottle-neck.fr/wp-content/uploads/2020/03/clos-du-mont-olivet-chateauneuf-du-pape-2007-2.jpg   \n",
       "1512  https://www.bottle-neck.fr/wp-content/uploads/2020/03/domaine-saint-nicolas-fiefs-vendeens-blanc-les-clous-2019.jpg   \n",
       "\n",
       "     menu_order   post_type post_mime_type comment_count  \n",
       "0           0.0     product            NaN           0.0  \n",
       "1           0.0     product            NaN           0.0  \n",
       "2           0.0     product            NaN           0.0  \n",
       "3           0.0     product            NaN           0.0  \n",
       "4           0.0     product            NaN           0.0  \n",
       "...         ...         ...            ...           ...  \n",
       "1508        0.0  attachment     image/jpeg           0.0  \n",
       "1509        0.0  attachment     image/jpeg           0.0  \n",
       "1510        0.0  attachment     image/jpeg           0.0  \n",
       "1511        0.0  attachment     image/jpeg           0.0  \n",
       "1512        0.0  attachment     image/jpeg           0.0  \n",
       "\n",
       "[1513 rows x 28 columns]"
      ]
     },
     "metadata": {},
     "output_type": "display_data"
    },
    {
     "data": {
      "text/plain": []
     },
     "execution_count": 26,
     "metadata": {},
     "output_type": "execute_result"
    }
   ],
   "source": [
    "WEB"
   ]
  },
  {
   "cell_type": "markdown",
   "metadata": {},
   "source": [
    "<h3>profilage des données</h3>"
   ]
  },
  {
   "cell_type": "markdown",
   "metadata": {},
   "source": [
    "<h4> données manquantes</h4>"
   ]
  },
  {
   "cell_type": "code",
   "execution_count": 27,
   "metadata": {
    "scrolled": true
   },
   "outputs": [
    {
     "name": "stdout",
     "output_type": "stream",
     "text": [
      "sku - 6%\n",
      "virtual - 0%\n",
      "downloadable - 0%\n",
      "rating_count - 0%\n",
      "average_rating - 5%\n",
      "total_sales - 5%\n",
      "tax_status - 53%\n",
      "tax_class - 100%\n",
      "post_author - 5%\n",
      "post_date - 5%\n",
      "post_date_gmt - 5%\n",
      "post_content - 100%\n",
      "post_title - 5%\n",
      "post_excerpt - 53%\n",
      "post_status - 5%\n",
      "comment_status - 5%\n",
      "ping_status - 5%\n",
      "post_password - 100%\n",
      "post_name - 5%\n",
      "post_modified - 5%\n",
      "post_modified_gmt - 5%\n",
      "post_content_filtered - 100%\n",
      "post_parent - 5%\n",
      "guid - 5%\n",
      "menu_order - 5%\n",
      "post_type - 5%\n",
      "post_mime_type - 53%\n",
      "comment_count - 5%\n"
     ]
    }
   ],
   "source": [
    "for col in WEB.columns:\n",
    "    pct_missing = np.mean(WEB[col].isnull())\n",
    "    print('{} - {}%'.format(col, round(pct_missing*100)))"
   ]
  },
  {
   "cell_type": "markdown",
   "metadata": {},
   "source": [
    "4 colonnes sont vides: tax_class, post_content, post_password, post_content_filtered. Nous les supprimons"
   ]
  },
  {
   "cell_type": "code",
   "execution_count": 28,
   "metadata": {},
   "outputs": [],
   "source": [
    "WEB.drop(['tax_class', 'post_content', 'post_password', 'post_content_filtered'], axis=1, inplace=True)"
   ]
  },
  {
   "cell_type": "code",
   "execution_count": 29,
   "metadata": {
    "hide_input": true
   },
   "outputs": [
    {
     "name": "stdout",
     "output_type": "stream",
     "text": [
      "virtual-[0]\n",
      "downloadable-[0]\n",
      "rating_count-[0]\n",
      "average_rating-[ 0. nan]\n",
      "tax_status-['taxable' nan]\n",
      "post_status-['publish' nan]\n",
      "comment_status-['closed' nan]\n",
      "ping_status-['closed' nan]\n",
      "post_parent-[ 0. nan]\n",
      "menu_order-[ 0. nan]\n",
      "post_mime_type-[nan 'image/jpeg']\n",
      "comment_count-[ 0. nan]\n"
     ]
    }
   ],
   "source": [
    "for col in WEB.columns:\n",
    "    N_unique= WEB[col].nunique()\n",
    "    if N_unique ==1 :\n",
    "        valeur_unique= WEB[col].unique()\n",
    "        print('{}-{}'.format(col,valeur_unique))"
   ]
  },
  {
   "cell_type": "markdown",
   "metadata": {},
   "source": [
    "12 colonnes ne contiennent pas ou peu d'information. Pour l'instant je conserve 'tax-status'. le reste est supprimé"
   ]
  },
  {
   "cell_type": "code",
   "execution_count": 30,
   "metadata": {},
   "outputs": [],
   "source": [
    "WEB.drop(['virtual', 'downloadable', 'rating_count', 'average_rating', 'post_status',\n",
    "        'comment_status', 'ping_status', 'post_parent', 'menu_order', 'post_mime_type', 'comment_count'], axis = 1, inplace = True)"
   ]
  },
  {
   "cell_type": "markdown",
   "metadata": {},
   "source": [
    "certains rang sont vides. On les supprime."
   ]
  },
  {
   "cell_type": "code",
   "execution_count": 32,
   "metadata": {},
   "outputs": [],
   "source": [
    "WEB.dropna(how='all', inplace=True)"
   ]
  },
  {
   "cell_type": "code",
   "execution_count": 33,
   "metadata": {},
   "outputs": [
    {
     "name": "stdout",
     "output_type": "stream",
     "text": [
      "<class 'lux.core.frame.LuxDataFrame'>\n",
      "Int64Index: 1430 entries, 0 to 1512\n",
      "Data columns (total 13 columns):\n",
      " #   Column             Non-Null Count  Dtype         \n",
      "---  ------             --------------  -----         \n",
      " 0   sku                1428 non-null   object        \n",
      " 1   total_sales        1430 non-null   float64       \n",
      " 2   tax_status         716 non-null    object        \n",
      " 3   post_author        1430 non-null   float64       \n",
      " 4   post_date          1430 non-null   datetime64[ns]\n",
      " 5   post_date_gmt      1430 non-null   datetime64[ns]\n",
      " 6   post_title         1430 non-null   object        \n",
      " 7   post_excerpt       716 non-null    object        \n",
      " 8   post_name          1430 non-null   object        \n",
      " 9   post_modified      1430 non-null   datetime64[ns]\n",
      " 10  post_modified_gmt  1430 non-null   datetime64[ns]\n",
      " 11  guid               1430 non-null   object        \n",
      " 12  post_type          1430 non-null   object        \n",
      "dtypes: datetime64[ns](4), float64(2), object(7)\n",
      "memory usage: 156.4+ KB\n"
     ]
    }
   ],
   "source": [
    "WEB.info()"
   ]
  },
  {
   "cell_type": "markdown",
   "metadata": {},
   "source": [
    "On a encore 2 rangs sans sku. Je les mets de côté et je les supprime du DF"
   ]
  },
  {
   "cell_type": "code",
   "execution_count": 34,
   "metadata": {},
   "outputs": [],
   "source": [
    "WEB_sku_null = WEB[WEB.sku.isnull()]"
   ]
  },
  {
   "cell_type": "code",
   "execution_count": 35,
   "metadata": {},
   "outputs": [
    {
     "data": {
      "text/html": [
       "<div>\n",
       "<style scoped>\n",
       "    .dataframe tbody tr th:only-of-type {\n",
       "        vertical-align: middle;\n",
       "    }\n",
       "\n",
       "    .dataframe tbody tr th {\n",
       "        vertical-align: top;\n",
       "    }\n",
       "\n",
       "    .dataframe thead th {\n",
       "        text-align: right;\n",
       "    }\n",
       "</style>\n",
       "<table border=\"1\" class=\"dataframe\">\n",
       "  <thead>\n",
       "    <tr style=\"text-align: right;\">\n",
       "      <th></th>\n",
       "      <th>sku</th>\n",
       "      <th>total_sales</th>\n",
       "      <th>tax_status</th>\n",
       "      <th>post_author</th>\n",
       "      <th>post_date</th>\n",
       "      <th>post_date_gmt</th>\n",
       "      <th>post_title</th>\n",
       "      <th>post_excerpt</th>\n",
       "      <th>post_name</th>\n",
       "      <th>post_modified</th>\n",
       "      <th>post_modified_gmt</th>\n",
       "      <th>guid</th>\n",
       "      <th>post_type</th>\n",
       "    </tr>\n",
       "  </thead>\n",
       "  <tbody>\n",
       "    <tr>\n",
       "      <th>470</th>\n",
       "      <td>NaN</td>\n",
       "      <td>0.0</td>\n",
       "      <td>taxable</td>\n",
       "      <td>2.0</td>\n",
       "      <td>2018-07-31 12:07:23</td>\n",
       "      <td>2018-07-31 10:07:23</td>\n",
       "      <td>Pierre Jean Villa Côte Rôtie Fongeant 2017</td>\n",
       "      <td>Fongeant 2017 explose sur un fruit brillant, préserve par un élevage fin. C'est la démonstration qu'une cuvée bâtie pour la garde peut exprimer de la finesse dès sa jeunesse.</td>\n",
       "      <td>pierre-jean-villa-cote-rotie-fongeant-2017</td>\n",
       "      <td>2019-11-02 13:24:15</td>\n",
       "      <td>2019-11-02 12:24:15</td>\n",
       "      <td>https://www.bottle-neck.fr/?post_type=product&amp;#038;p=5070</td>\n",
       "      <td>product</td>\n",
       "    </tr>\n",
       "    <tr>\n",
       "      <th>471</th>\n",
       "      <td>NaN</td>\n",
       "      <td>0.0</td>\n",
       "      <td>taxable</td>\n",
       "      <td>2.0</td>\n",
       "      <td>2018-08-08 11:23:43</td>\n",
       "      <td>2018-08-08 09:23:43</td>\n",
       "      <td>Pierre Jean Villa Condrieu Jardin Suspendu 2018</td>\n",
       "      <td>&lt;span id=\"u1194-83\"&gt;Le nez séduit par ses parfums de fruit blancs pochés et de verveine. Délicate, juste et maîtrisée, sa longueur est saisissant&lt;/span&gt;&lt;span id=\"u1194-84\"&gt;e&lt;/span&gt;.</td>\n",
       "      <td>pierre-jean-villa-condrieu-suspendu-2018</td>\n",
       "      <td>2019-11-02 13:24:01</td>\n",
       "      <td>2019-11-02 12:24:01</td>\n",
       "      <td>https://www.bottle-neck.fr/?post_type=product&amp;#038;p=5075</td>\n",
       "      <td>product</td>\n",
       "    </tr>\n",
       "  </tbody>\n",
       "</table>\n",
       "</div>"
      ],
      "text/plain": [
       "     sku  total_sales tax_status  post_author           post_date  \\\n",
       "470  NaN          0.0    taxable          2.0 2018-07-31 12:07:23   \n",
       "471  NaN          0.0    taxable          2.0 2018-08-08 11:23:43   \n",
       "\n",
       "          post_date_gmt                                       post_title  \\\n",
       "470 2018-07-31 10:07:23       Pierre Jean Villa Côte Rôtie Fongeant 2017   \n",
       "471 2018-08-08 09:23:43  Pierre Jean Villa Condrieu Jardin Suspendu 2018   \n",
       "\n",
       "                                                                                                                                                                              post_excerpt  \\\n",
       "470         Fongeant 2017 explose sur un fruit brillant, préserve par un élevage fin. C'est la démonstration qu'une cuvée bâtie pour la garde peut exprimer de la finesse dès sa jeunesse.   \n",
       "471  <span id=\"u1194-83\">Le nez séduit par ses parfums de fruit blancs pochés et de verveine. Délicate, juste et maîtrisée, sa longueur est saisissant</span><span id=\"u1194-84\">e</span>.   \n",
       "\n",
       "                                      post_name       post_modified  \\\n",
       "470  pierre-jean-villa-cote-rotie-fongeant-2017 2019-11-02 13:24:15   \n",
       "471    pierre-jean-villa-condrieu-suspendu-2018 2019-11-02 13:24:01   \n",
       "\n",
       "      post_modified_gmt  \\\n",
       "470 2019-11-02 12:24:15   \n",
       "471 2019-11-02 12:24:01   \n",
       "\n",
       "                                                          guid post_type  \n",
       "470  https://www.bottle-neck.fr/?post_type=product&#038;p=5070   product  \n",
       "471  https://www.bottle-neck.fr/?post_type=product&#038;p=5075   product  "
      ]
     },
     "metadata": {},
     "output_type": "display_data"
    },
    {
     "data": {
      "text/plain": []
     },
     "execution_count": 35,
     "metadata": {},
     "output_type": "execute_result"
    }
   ],
   "source": [
    "WEB[WEB.sku.isnull()]"
   ]
  },
  {
   "cell_type": "code",
   "execution_count": 36,
   "metadata": {},
   "outputs": [],
   "source": [
    "WEB=WEB[WEB.sku.notna()]"
   ]
  },
  {
   "cell_type": "code",
   "execution_count": 37,
   "metadata": {},
   "outputs": [
    {
     "name": "stdout",
     "output_type": "stream",
     "text": [
      "<class 'lux.core.frame.LuxDataFrame'>\n",
      "Int64Index: 1428 entries, 0 to 1512\n",
      "Data columns (total 13 columns):\n",
      " #   Column             Non-Null Count  Dtype         \n",
      "---  ------             --------------  -----         \n",
      " 0   sku                1428 non-null   object        \n",
      " 1   total_sales        1428 non-null   float64       \n",
      " 2   tax_status         714 non-null    object        \n",
      " 3   post_author        1428 non-null   float64       \n",
      " 4   post_date          1428 non-null   datetime64[ns]\n",
      " 5   post_date_gmt      1428 non-null   datetime64[ns]\n",
      " 6   post_title         1428 non-null   object        \n",
      " 7   post_excerpt       714 non-null    object        \n",
      " 8   post_name          1428 non-null   object        \n",
      " 9   post_modified      1428 non-null   datetime64[ns]\n",
      " 10  post_modified_gmt  1428 non-null   datetime64[ns]\n",
      " 11  guid               1428 non-null   object        \n",
      " 12  post_type          1428 non-null   object        \n",
      "dtypes: datetime64[ns](4), float64(2), object(7)\n",
      "memory usage: 156.2+ KB\n"
     ]
    }
   ],
   "source": [
    "WEB.info()"
   ]
  },
  {
   "cell_type": "markdown",
   "metadata": {},
   "source": [
    "<h4> Colonne sku </h4>\n"
   ]
  },
  {
   "cell_type": "markdown",
   "metadata": {},
   "source": [
    "L'ensemble des sku sont dans le fichier liaison (l'inverse n'est pas vrai)"
   ]
  },
  {
   "cell_type": "code",
   "execution_count": 38,
   "metadata": {
    "scrolled": true
   },
   "outputs": [
    {
     "data": {
      "text/plain": [
       "[]"
      ]
     },
     "execution_count": 38,
     "metadata": {},
     "output_type": "execute_result"
    }
   ],
   "source": [
    "CheckSKU= list(set(WEB.sku.unique()).difference(liaison.id_web.unique()))\n",
    "CheckSKU"
   ]
  },
  {
   "cell_type": "code",
   "execution_count": 127,
   "metadata": {},
   "outputs": [
    {
     "data": {
      "text/plain": [
       "[13577,\n",
       " 14730,\n",
       " 15630,\n",
       " 14360,\n",
       " 15272,\n",
       " 14377,\n",
       " 15529,\n",
       " 14379,\n",
       " 15154,\n",
       " 14648,\n",
       " 12601,\n",
       " 14785,\n",
       " 13771,\n",
       " 15065,\n",
       " 14689,\n",
       " 15586,\n",
       " '14680-1',\n",
       " 15608,\n",
       " 15609,\n",
       " 14715]"
      ]
     },
     "execution_count": 127,
     "metadata": {},
     "output_type": "execute_result"
    }
   ],
   "source": [
    "list(set(liaison.id_web.unique()).difference(WEB.sku.unique()))"
   ]
  },
  {
   "cell_type": "code",
   "execution_count": 39,
   "metadata": {},
   "outputs": [
    {
     "data": {
      "text/html": [
       "<div>\n",
       "<style scoped>\n",
       "    .dataframe tbody tr th:only-of-type {\n",
       "        vertical-align: middle;\n",
       "    }\n",
       "\n",
       "    .dataframe tbody tr th {\n",
       "        vertical-align: top;\n",
       "    }\n",
       "\n",
       "    .dataframe thead th {\n",
       "        text-align: right;\n",
       "    }\n",
       "</style>\n",
       "<table border=\"1\" class=\"dataframe\">\n",
       "  <thead>\n",
       "    <tr style=\"text-align: right;\">\n",
       "      <th></th>\n",
       "      <th>product_id</th>\n",
       "      <th>id_web</th>\n",
       "    </tr>\n",
       "  </thead>\n",
       "  <tbody>\n",
       "    <tr>\n",
       "      <th>443</th>\n",
       "      <td>4954</td>\n",
       "      <td>bon-cadeau-25-euros</td>\n",
       "    </tr>\n",
       "  </tbody>\n",
       "</table>\n",
       "</div>"
      ],
      "text/plain": [
       "     product_id               id_web\n",
       "443        4954  bon-cadeau-25-euros"
      ]
     },
     "metadata": {},
     "output_type": "display_data"
    },
    {
     "data": {
      "text/plain": []
     },
     "execution_count": 39,
     "metadata": {},
     "output_type": "execute_result"
    }
   ],
   "source": [
    "liaison.query('id_web==\"bon-cadeau-25-euros\"')"
   ]
  },
  {
   "cell_type": "markdown",
   "metadata": {},
   "source": [
    "<h4>Profilage des colonnes</h4>"
   ]
  },
  {
   "cell_type": "markdown",
   "metadata": {},
   "source": [
    "Post_author ne contient que 2 données et seulement 2 viennent de l'auteur \"1.0\". La colonne semble donc peu pertinente. On la supprime."
   ]
  },
  {
   "cell_type": "code",
   "execution_count": 40,
   "metadata": {
    "scrolled": true
   },
   "outputs": [
    {
     "data": {
      "text/html": [
       "<div>\n",
       "<style scoped>\n",
       "    .dataframe tbody tr th:only-of-type {\n",
       "        vertical-align: middle;\n",
       "    }\n",
       "\n",
       "    .dataframe tbody tr th {\n",
       "        vertical-align: top;\n",
       "    }\n",
       "\n",
       "    .dataframe thead th {\n",
       "        text-align: right;\n",
       "    }\n",
       "</style>\n",
       "<table border=\"1\" class=\"dataframe\">\n",
       "  <thead>\n",
       "    <tr style=\"text-align: right;\">\n",
       "      <th></th>\n",
       "      <th>sku</th>\n",
       "      <th>total_sales</th>\n",
       "      <th>tax_status</th>\n",
       "      <th>post_author</th>\n",
       "      <th>post_date</th>\n",
       "      <th>post_date_gmt</th>\n",
       "      <th>post_title</th>\n",
       "      <th>post_excerpt</th>\n",
       "      <th>post_name</th>\n",
       "      <th>post_modified</th>\n",
       "      <th>post_modified_gmt</th>\n",
       "      <th>guid</th>\n",
       "      <th>post_type</th>\n",
       "    </tr>\n",
       "  </thead>\n",
       "  <tbody>\n",
       "    <tr>\n",
       "      <th>0</th>\n",
       "      <td>bon-cadeau-25-euros</td>\n",
       "      <td>10.0</td>\n",
       "      <td>taxable</td>\n",
       "      <td>1.0</td>\n",
       "      <td>2018-06-01 13:53:46</td>\n",
       "      <td>2018-06-01 11:53:46</td>\n",
       "      <td>Bon cadeau de 25€</td>\n",
       "      <td>&lt;span style=\"color: #a85253;\"&gt;&lt;strong&gt;Parlons peu, parlons vin.&lt;/strong&gt;\\n&lt;strong&gt;Parlons cadeau !&lt;/strong&gt;&lt;/span&gt;\\n\\nUn bon cadeau à offrir à vos proches... sans modération !</td>\n",
       "      <td>bon-cadeau-de-25-euros</td>\n",
       "      <td>2018-06-01 14:13:57</td>\n",
       "      <td>2018-06-01 12:13:57</td>\n",
       "      <td>https://www.bottle-neck.fr/?post_type=product&amp;#038;p=4954</td>\n",
       "      <td>product</td>\n",
       "    </tr>\n",
       "    <tr>\n",
       "      <th>1209</th>\n",
       "      <td>bon-cadeau-25-euros</td>\n",
       "      <td>10.0</td>\n",
       "      <td>NaN</td>\n",
       "      <td>1.0</td>\n",
       "      <td>2018-06-01 13:53:46</td>\n",
       "      <td>2018-06-01 11:53:46</td>\n",
       "      <td>Bon cadeau de 25€</td>\n",
       "      <td>NaN</td>\n",
       "      <td>bon-cadeau-de-25-euros</td>\n",
       "      <td>2018-06-01 14:13:57</td>\n",
       "      <td>2018-06-01 12:13:57</td>\n",
       "      <td>https://www.bottle-neck.fr/wp-content/uploads/2020/03/bon-cadeau-de-25-euros.jpg</td>\n",
       "      <td>attachment</td>\n",
       "    </tr>\n",
       "  </tbody>\n",
       "</table>\n",
       "</div>"
      ],
      "text/plain": [
       "                      sku  total_sales tax_status  post_author  \\\n",
       "0     bon-cadeau-25-euros         10.0    taxable          1.0   \n",
       "1209  bon-cadeau-25-euros         10.0        NaN          1.0   \n",
       "\n",
       "               post_date       post_date_gmt         post_title  \\\n",
       "0    2018-06-01 13:53:46 2018-06-01 11:53:46  Bon cadeau de 25€   \n",
       "1209 2018-06-01 13:53:46 2018-06-01 11:53:46  Bon cadeau de 25€   \n",
       "\n",
       "                                                                                                                                                                         post_excerpt  \\\n",
       "0     <span style=\"color: #a85253;\"><strong>Parlons peu, parlons vin.</strong>\\n<strong>Parlons cadeau !</strong></span>\\n\\nUn bon cadeau à offrir à vos proches... sans modération !   \n",
       "1209                                                                                                                                                                              NaN   \n",
       "\n",
       "                   post_name       post_modified   post_modified_gmt  \\\n",
       "0     bon-cadeau-de-25-euros 2018-06-01 14:13:57 2018-06-01 12:13:57   \n",
       "1209  bon-cadeau-de-25-euros 2018-06-01 14:13:57 2018-06-01 12:13:57   \n",
       "\n",
       "                                                                                  guid  \\\n",
       "0                            https://www.bottle-neck.fr/?post_type=product&#038;p=4954   \n",
       "1209  https://www.bottle-neck.fr/wp-content/uploads/2020/03/bon-cadeau-de-25-euros.jpg   \n",
       "\n",
       "       post_type  \n",
       "0        product  \n",
       "1209  attachment  "
      ]
     },
     "metadata": {},
     "output_type": "display_data"
    },
    {
     "data": {
      "text/plain": []
     },
     "execution_count": 40,
     "metadata": {},
     "output_type": "execute_result"
    }
   ],
   "source": [
    "WEB.query('post_author==1.')"
   ]
  },
  {
   "cell_type": "markdown",
   "metadata": {},
   "source": [
    "Dans le brief, Laurent nous explique que les dates ne sont pas pertinentes. On les supprime aussi."
   ]
  },
  {
   "cell_type": "code",
   "execution_count": 41,
   "metadata": {
    "scrolled": true
   },
   "outputs": [
    {
     "data": {
      "text/html": [
       "<div>\n",
       "<style scoped>\n",
       "    .dataframe tbody tr th:only-of-type {\n",
       "        vertical-align: middle;\n",
       "    }\n",
       "\n",
       "    .dataframe tbody tr th {\n",
       "        vertical-align: top;\n",
       "    }\n",
       "\n",
       "    .dataframe thead th {\n",
       "        text-align: right;\n",
       "    }\n",
       "</style>\n",
       "<table border=\"1\" class=\"dataframe\">\n",
       "  <thead>\n",
       "    <tr style=\"text-align: right;\">\n",
       "      <th></th>\n",
       "      <th>post_date</th>\n",
       "      <th>post_date_gmt</th>\n",
       "      <th>post_modified</th>\n",
       "      <th>post_modified_gmt</th>\n",
       "    </tr>\n",
       "  </thead>\n",
       "  <tbody>\n",
       "    <tr>\n",
       "      <th>0</th>\n",
       "      <td>2018-06-01 13:53:46</td>\n",
       "      <td>2018-06-01 11:53:46</td>\n",
       "      <td>2018-06-01 14:13:57</td>\n",
       "      <td>2018-06-01 12:13:57</td>\n",
       "    </tr>\n",
       "    <tr>\n",
       "      <th>1</th>\n",
       "      <td>2018-02-08 12:58:52</td>\n",
       "      <td>2018-02-08 11:58:52</td>\n",
       "      <td>2019-12-30 09:30:29</td>\n",
       "      <td>2019-12-30 08:30:29</td>\n",
       "    </tr>\n",
       "    <tr>\n",
       "      <th>2</th>\n",
       "      <td>2018-02-08 13:49:41</td>\n",
       "      <td>2018-02-08 12:49:41</td>\n",
       "      <td>2019-12-21 09:00:17</td>\n",
       "      <td>2019-12-21 08:00:17</td>\n",
       "    </tr>\n",
       "    <tr>\n",
       "      <th>3</th>\n",
       "      <td>2018-02-08 14:08:36</td>\n",
       "      <td>2018-02-08 13:08:36</td>\n",
       "      <td>2020-06-26 18:15:03</td>\n",
       "      <td>2020-06-26 16:15:03</td>\n",
       "    </tr>\n",
       "    <tr>\n",
       "      <th>4</th>\n",
       "      <td>2018-02-09 14:01:05</td>\n",
       "      <td>2018-02-09 13:01:05</td>\n",
       "      <td>2020-01-04 16:36:01</td>\n",
       "      <td>2020-01-04 15:36:01</td>\n",
       "    </tr>\n",
       "    <tr>\n",
       "      <th>...</th>\n",
       "      <td>...</td>\n",
       "      <td>...</td>\n",
       "      <td>...</td>\n",
       "      <td>...</td>\n",
       "    </tr>\n",
       "    <tr>\n",
       "      <th>1508</th>\n",
       "      <td>2020-04-25 13:22:38</td>\n",
       "      <td>2020-04-25 11:22:38</td>\n",
       "      <td>2020-08-26 17:35:03</td>\n",
       "      <td>2020-08-26 15:35:03</td>\n",
       "    </tr>\n",
       "    <tr>\n",
       "      <th>1509</th>\n",
       "      <td>2020-05-02 14:53:40</td>\n",
       "      <td>2020-05-02 12:53:40</td>\n",
       "      <td>2020-08-26 17:35:02</td>\n",
       "      <td>2020-08-26 15:35:02</td>\n",
       "    </tr>\n",
       "    <tr>\n",
       "      <th>1510</th>\n",
       "      <td>2020-05-02 15:00:54</td>\n",
       "      <td>2020-05-02 13:00:54</td>\n",
       "      <td>2020-08-14 18:15:03</td>\n",
       "      <td>2020-08-14 16:15:03</td>\n",
       "    </tr>\n",
       "    <tr>\n",
       "      <th>1511</th>\n",
       "      <td>2020-06-09 15:42:04</td>\n",
       "      <td>2020-06-09 13:42:04</td>\n",
       "      <td>2020-07-20 17:09:06</td>\n",
       "      <td>2020-07-20 15:09:06</td>\n",
       "    </tr>\n",
       "    <tr>\n",
       "      <th>1512</th>\n",
       "      <td>2020-07-20 11:00:00</td>\n",
       "      <td>2020-07-20 09:00:00</td>\n",
       "      <td>2020-08-13 10:45:03</td>\n",
       "      <td>2020-08-13 08:45:03</td>\n",
       "    </tr>\n",
       "  </tbody>\n",
       "</table>\n",
       "<p>1428 rows × 4 columns</p>\n",
       "</div>"
      ],
      "text/plain": [
       "               post_date       post_date_gmt       post_modified  \\\n",
       "0    2018-06-01 13:53:46 2018-06-01 11:53:46 2018-06-01 14:13:57   \n",
       "1    2018-02-08 12:58:52 2018-02-08 11:58:52 2019-12-30 09:30:29   \n",
       "2    2018-02-08 13:49:41 2018-02-08 12:49:41 2019-12-21 09:00:17   \n",
       "3    2018-02-08 14:08:36 2018-02-08 13:08:36 2020-06-26 18:15:03   \n",
       "4    2018-02-09 14:01:05 2018-02-09 13:01:05 2020-01-04 16:36:01   \n",
       "...                  ...                 ...                 ...   \n",
       "1508 2020-04-25 13:22:38 2020-04-25 11:22:38 2020-08-26 17:35:03   \n",
       "1509 2020-05-02 14:53:40 2020-05-02 12:53:40 2020-08-26 17:35:02   \n",
       "1510 2020-05-02 15:00:54 2020-05-02 13:00:54 2020-08-14 18:15:03   \n",
       "1511 2020-06-09 15:42:04 2020-06-09 13:42:04 2020-07-20 17:09:06   \n",
       "1512 2020-07-20 11:00:00 2020-07-20 09:00:00 2020-08-13 10:45:03   \n",
       "\n",
       "       post_modified_gmt  \n",
       "0    2018-06-01 12:13:57  \n",
       "1    2019-12-30 08:30:29  \n",
       "2    2019-12-21 08:00:17  \n",
       "3    2020-06-26 16:15:03  \n",
       "4    2020-01-04 15:36:01  \n",
       "...                  ...  \n",
       "1508 2020-08-26 15:35:03  \n",
       "1509 2020-08-26 15:35:02  \n",
       "1510 2020-08-14 16:15:03  \n",
       "1511 2020-07-20 15:09:06  \n",
       "1512 2020-08-13 08:45:03  \n",
       "\n",
       "[1428 rows x 4 columns]"
      ]
     },
     "metadata": {},
     "output_type": "display_data"
    },
    {
     "data": {
      "text/plain": []
     },
     "execution_count": 41,
     "metadata": {},
     "output_type": "execute_result"
    }
   ],
   "source": [
    "colDate=['post_date','post_date_gmt','post_modified','post_modified_gmt']\n",
    "WEB[colDate]"
   ]
  },
  {
   "cell_type": "markdown",
   "metadata": {},
   "source": [
    "La colonne guid ne semble pas pertinente non plus (liens cassés)."
   ]
  },
  {
   "cell_type": "code",
   "execution_count": 42,
   "metadata": {},
   "outputs": [
    {
     "data": {
      "text/plain": [
       "['sku',\n",
       " 'total_sales',\n",
       " 'tax_status',\n",
       " 'post_author',\n",
       " 'post_date',\n",
       " 'post_date_gmt',\n",
       " 'post_title',\n",
       " 'post_excerpt',\n",
       " 'post_name',\n",
       " 'post_modified',\n",
       " 'post_modified_gmt',\n",
       " 'guid',\n",
       " 'post_type']"
      ]
     },
     "execution_count": 42,
     "metadata": {},
     "output_type": "execute_result"
    }
   ],
   "source": [
    "WEB.columns.tolist()"
   ]
  },
  {
   "cell_type": "code",
   "execution_count": 43,
   "metadata": {},
   "outputs": [
    {
     "name": "stderr",
     "output_type": "stream",
     "text": [
      "C:\\Users\\mario\\anaconda3\\lib\\site-packages\\pandas\\core\\generic.py:3890: SettingWithCopyWarning:\n",
      "A value is trying to be set on a copy of a slice from a DataFrame\n",
      "\n",
      "See the caveats in the documentation: https://pandas.pydata.org/pandas-docs/stable/user_guide/indexing.html#returning-a-view-versus-a-copy\n"
     ]
    }
   ],
   "source": [
    "WEB.drop(['post_author','post_date','post_date_gmt','post_modified','post_modified_gmt','guid'],axis=1, inplace= True)"
   ]
  },
  {
   "cell_type": "code",
   "execution_count": 44,
   "metadata": {},
   "outputs": [
    {
     "data": {
      "text/html": [
       "<div>\n",
       "<style scoped>\n",
       "    .dataframe tbody tr th:only-of-type {\n",
       "        vertical-align: middle;\n",
       "    }\n",
       "\n",
       "    .dataframe tbody tr th {\n",
       "        vertical-align: top;\n",
       "    }\n",
       "\n",
       "    .dataframe thead th {\n",
       "        text-align: right;\n",
       "    }\n",
       "</style>\n",
       "<table border=\"1\" class=\"dataframe\">\n",
       "  <thead>\n",
       "    <tr style=\"text-align: right;\">\n",
       "      <th></th>\n",
       "      <th>sku</th>\n",
       "      <th>total_sales</th>\n",
       "      <th>tax_status</th>\n",
       "      <th>post_title</th>\n",
       "      <th>post_excerpt</th>\n",
       "      <th>post_name</th>\n",
       "      <th>post_type</th>\n",
       "    </tr>\n",
       "  </thead>\n",
       "  <tbody>\n",
       "    <tr>\n",
       "      <th>0</th>\n",
       "      <td>bon-cadeau-25-euros</td>\n",
       "      <td>10.0</td>\n",
       "      <td>taxable</td>\n",
       "      <td>Bon cadeau de 25€</td>\n",
       "      <td>&lt;span style=\"color: #a85253;\"&gt;&lt;strong&gt;Parlons peu, parlons vin.&lt;/strong&gt;\\n&lt;strong&gt;Parlons cadeau !&lt;/strong&gt;&lt;/span&gt;\\n\\nUn bon cadeau à offrir à vos proches... sans modération !</td>\n",
       "      <td>bon-cadeau-de-25-euros</td>\n",
       "      <td>product</td>\n",
       "    </tr>\n",
       "    <tr>\n",
       "      <th>1</th>\n",
       "      <td>15298</td>\n",
       "      <td>6.0</td>\n",
       "      <td>taxable</td>\n",
       "      <td>Pierre Jean Villa Saint-Joseph Préface 2018</td>\n",
       "      <td>Il exhale un nez subtil, racé avec du poivre fin et de la tourbe. La bouche est une caresse grâce à des tanins élégants. De la haute couture.</td>\n",
       "      <td>pierre-jean-villa-saint-joseph-preface-2018</td>\n",
       "      <td>product</td>\n",
       "    </tr>\n",
       "    <tr>\n",
       "      <th>2</th>\n",
       "      <td>15296</td>\n",
       "      <td>0.0</td>\n",
       "      <td>taxable</td>\n",
       "      <td>Pierre Jean Villa Saint-Joseph Rouge Tildé 2017</td>\n",
       "      <td>Les vieilles vignes lui apportent une rare profondeur. L’attaque affiche de l’élégance. La bouche est portée par un minéral saisissant et des tanins de belle qualité. Grande bouteille !</td>\n",
       "      <td>pierre-jean-villa-saint-joseph-tilde-2017</td>\n",
       "      <td>product</td>\n",
       "    </tr>\n",
       "    <tr>\n",
       "      <th>3</th>\n",
       "      <td>15300</td>\n",
       "      <td>0.0</td>\n",
       "      <td>taxable</td>\n",
       "      <td>Pierre Jean Villa Crozes-Hermitage Accroche Coeur 2018</td>\n",
       "      <td>Dentelle de fruit de jeunes syrah, aux tanins légers et épicés. Hyper digeste. Un délice.</td>\n",
       "      <td>pierre-jean-villa-croze-hermitage-accroche-coeur-2018</td>\n",
       "      <td>product</td>\n",
       "    </tr>\n",
       "    <tr>\n",
       "      <th>4</th>\n",
       "      <td>19814</td>\n",
       "      <td>3.0</td>\n",
       "      <td>taxable</td>\n",
       "      <td>Pierre Jean Villa IGP Collines Rhodaniennes Gamine 2018</td>\n",
       "      <td>Gamine représente tout le fruité et la gourmandise de la syrah. Une touche épicée et des tanins fondus lui apportent une belle complexité.</td>\n",
       "      <td>pierre-jean-villa-igp-gamine-2018</td>\n",
       "      <td>product</td>\n",
       "    </tr>\n",
       "    <tr>\n",
       "      <th>...</th>\n",
       "      <td>...</td>\n",
       "      <td>...</td>\n",
       "      <td>...</td>\n",
       "      <td>...</td>\n",
       "      <td>...</td>\n",
       "      <td>...</td>\n",
       "      <td>...</td>\n",
       "    </tr>\n",
       "    <tr>\n",
       "      <th>1508</th>\n",
       "      <td>16135</td>\n",
       "      <td>5.0</td>\n",
       "      <td>NaN</td>\n",
       "      <td>Mouthes Le Bihan Côtes de Duras L'Aimé Chai 2015</td>\n",
       "      <td>NaN</td>\n",
       "      <td>mouthes-le-bihan-aime-chai-2015</td>\n",
       "      <td>attachment</td>\n",
       "    </tr>\n",
       "    <tr>\n",
       "      <th>1509</th>\n",
       "      <td>15891</td>\n",
       "      <td>0.0</td>\n",
       "      <td>NaN</td>\n",
       "      <td>Camin Larredya Jurançon Sec La Virada 2018</td>\n",
       "      <td>NaN</td>\n",
       "      <td>camin-larredya-jurancon-sec-la-virada-2018</td>\n",
       "      <td>attachment</td>\n",
       "    </tr>\n",
       "    <tr>\n",
       "      <th>1510</th>\n",
       "      <td>15887</td>\n",
       "      <td>0.0</td>\n",
       "      <td>NaN</td>\n",
       "      <td>Domaine Jamet Côte Rôtie Fructus Voluptas 2018</td>\n",
       "      <td>NaN</td>\n",
       "      <td>jamet-cote-rotie-fructus-voluptas-2018</td>\n",
       "      <td>attachment</td>\n",
       "    </tr>\n",
       "    <tr>\n",
       "      <th>1511</th>\n",
       "      <td>13127-1</td>\n",
       "      <td>0.0</td>\n",
       "      <td>NaN</td>\n",
       "      <td>Clos du Mont-Olivet Châteauneuf-du-Pape 2007</td>\n",
       "      <td>NaN</td>\n",
       "      <td>clos-du-mont-olivet-chateauneuf-du-pape-2007-2</td>\n",
       "      <td>attachment</td>\n",
       "    </tr>\n",
       "    <tr>\n",
       "      <th>1512</th>\n",
       "      <td>16230</td>\n",
       "      <td>0.0</td>\n",
       "      <td>NaN</td>\n",
       "      <td>Domaine Saint-Nicolas Vin de France Blanc Les Clous 2019</td>\n",
       "      <td>NaN</td>\n",
       "      <td>domaine-saint-nicolas-fiefs-vendeens-blanc-les-clous-2019</td>\n",
       "      <td>attachment</td>\n",
       "    </tr>\n",
       "  </tbody>\n",
       "</table>\n",
       "<p>1428 rows × 7 columns</p>\n",
       "</div>"
      ],
      "text/plain": [
       "                      sku  total_sales tax_status  \\\n",
       "0     bon-cadeau-25-euros         10.0    taxable   \n",
       "1                   15298          6.0    taxable   \n",
       "2                   15296          0.0    taxable   \n",
       "3                   15300          0.0    taxable   \n",
       "4                   19814          3.0    taxable   \n",
       "...                   ...          ...        ...   \n",
       "1508                16135          5.0        NaN   \n",
       "1509                15891          0.0        NaN   \n",
       "1510                15887          0.0        NaN   \n",
       "1511              13127-1          0.0        NaN   \n",
       "1512                16230          0.0        NaN   \n",
       "\n",
       "                                                    post_title  \\\n",
       "0                                            Bon cadeau de 25€   \n",
       "1                  Pierre Jean Villa Saint-Joseph Préface 2018   \n",
       "2              Pierre Jean Villa Saint-Joseph Rouge Tildé 2017   \n",
       "3       Pierre Jean Villa Crozes-Hermitage Accroche Coeur 2018   \n",
       "4      Pierre Jean Villa IGP Collines Rhodaniennes Gamine 2018   \n",
       "...                                                        ...   \n",
       "1508          Mouthes Le Bihan Côtes de Duras L'Aimé Chai 2015   \n",
       "1509                Camin Larredya Jurançon Sec La Virada 2018   \n",
       "1510            Domaine Jamet Côte Rôtie Fructus Voluptas 2018   \n",
       "1511              Clos du Mont-Olivet Châteauneuf-du-Pape 2007   \n",
       "1512  Domaine Saint-Nicolas Vin de France Blanc Les Clous 2019   \n",
       "\n",
       "                                                                                                                                                                                   post_excerpt  \\\n",
       "0               <span style=\"color: #a85253;\"><strong>Parlons peu, parlons vin.</strong>\\n<strong>Parlons cadeau !</strong></span>\\n\\nUn bon cadeau à offrir à vos proches... sans modération !   \n",
       "1                                                 Il exhale un nez subtil, racé avec du poivre fin et de la tourbe. La bouche est une caresse grâce à des tanins élégants. De la haute couture.   \n",
       "2     Les vieilles vignes lui apportent une rare profondeur. L’attaque affiche de l’élégance. La bouche est portée par un minéral saisissant et des tanins de belle qualité. Grande bouteille !   \n",
       "3                                                                                                     Dentelle de fruit de jeunes syrah, aux tanins légers et épicés. Hyper digeste. Un délice.   \n",
       "4                                                    Gamine représente tout le fruité et la gourmandise de la syrah. Une touche épicée et des tanins fondus lui apportent une belle complexité.   \n",
       "...                                                                                                                                                                                         ...   \n",
       "1508                                                                                                                                                                                        NaN   \n",
       "1509                                                                                                                                                                                        NaN   \n",
       "1510                                                                                                                                                                                        NaN   \n",
       "1511                                                                                                                                                                                        NaN   \n",
       "1512                                                                                                                                                                                        NaN   \n",
       "\n",
       "                                                      post_name   post_type  \n",
       "0                                        bon-cadeau-de-25-euros     product  \n",
       "1                   pierre-jean-villa-saint-joseph-preface-2018     product  \n",
       "2                     pierre-jean-villa-saint-joseph-tilde-2017     product  \n",
       "3         pierre-jean-villa-croze-hermitage-accroche-coeur-2018     product  \n",
       "4                             pierre-jean-villa-igp-gamine-2018     product  \n",
       "...                                                         ...         ...  \n",
       "1508                            mouthes-le-bihan-aime-chai-2015  attachment  \n",
       "1509                 camin-larredya-jurancon-sec-la-virada-2018  attachment  \n",
       "1510                     jamet-cote-rotie-fructus-voluptas-2018  attachment  \n",
       "1511             clos-du-mont-olivet-chateauneuf-du-pape-2007-2  attachment  \n",
       "1512  domaine-saint-nicolas-fiefs-vendeens-blanc-les-clous-2019  attachment  \n",
       "\n",
       "[1428 rows x 7 columns]"
      ]
     },
     "metadata": {},
     "output_type": "display_data"
    },
    {
     "data": {
      "text/plain": []
     },
     "execution_count": 44,
     "metadata": {},
     "output_type": "execute_result"
    }
   ],
   "source": [
    "WEB"
   ]
  },
  {
   "cell_type": "markdown",
   "metadata": {},
   "source": [
    "<h1>Fusion</h1>"
   ]
  },
  {
   "cell_type": "markdown",
   "metadata": {},
   "source": [
    "<h2> Fusion ERP-Liaison</h2>"
   ]
  },
  {
   "cell_type": "code",
   "execution_count": 45,
   "metadata": {},
   "outputs": [
    {
     "name": "stdout",
     "output_type": "stream",
     "text": [
      "<class 'lux.core.frame.LuxDataFrame'>\n",
      "RangeIndex: 825 entries, 0 to 824\n",
      "Data columns (total 5 columns):\n",
      " #   Column          Non-Null Count  Dtype  \n",
      "---  ------          --------------  -----  \n",
      " 0   product_id      825 non-null    int64  \n",
      " 1   onsale_web      825 non-null    int64  \n",
      " 2   price           825 non-null    float64\n",
      " 3   stock_quantity  825 non-null    int64  \n",
      " 4   stock_status    825 non-null    object \n",
      "dtypes: float64(1), int64(3), object(1)\n",
      "memory usage: 32.4+ KB\n"
     ]
    }
   ],
   "source": [
    "ERP.info()"
   ]
  },
  {
   "cell_type": "code",
   "execution_count": 46,
   "metadata": {},
   "outputs": [
    {
     "name": "stdout",
     "output_type": "stream",
     "text": [
      "<class 'lux.core.frame.LuxDataFrame'>\n",
      "Int64Index: 734 entries, 0 to 824\n",
      "Data columns (total 2 columns):\n",
      " #   Column      Non-Null Count  Dtype \n",
      "---  ------      --------------  ----- \n",
      " 0   product_id  734 non-null    int64 \n",
      " 1   id_web      734 non-null    object\n",
      "dtypes: int64(1), object(1)\n",
      "memory usage: 17.2+ KB\n"
     ]
    }
   ],
   "source": [
    "liaison.info()"
   ]
  },
  {
   "cell_type": "code",
   "execution_count": 47,
   "metadata": {},
   "outputs": [],
   "source": [
    "Fusion=pd.merge(ERP, liaison, how='left', on ='product_id')"
   ]
  },
  {
   "cell_type": "code",
   "execution_count": 48,
   "metadata": {},
   "outputs": [
    {
     "data": {
      "application/vnd.jupyter.widget-view+json": {
       "model_id": "5c219c3560474872a58a6ed58860c301",
       "version_major": 2,
       "version_minor": 0
      },
      "text/plain": [
       "Button(description='Toggle Pandas/Lux', layout=Layout(top='5px', width='140px'), style=ButtonStyle())"
      ]
     },
     "metadata": {},
     "output_type": "display_data"
    },
    {
     "data": {
      "application/vnd.jupyter.widget-view+json": {
       "model_id": "806d0d1ff01441038da624488f5247e6",
       "version_major": 2,
       "version_minor": 0
      },
      "text/plain": [
       "Output()"
      ]
     },
     "metadata": {},
     "output_type": "display_data"
    },
    {
     "data": {
      "text/plain": []
     },
     "execution_count": 48,
     "metadata": {},
     "output_type": "execute_result"
    }
   ],
   "source": [
    "Fusion"
   ]
  },
  {
   "cell_type": "markdown",
   "metadata": {},
   "source": [
    "On note que comme anticipé nous avons des id_web manquant"
   ]
  },
  {
   "cell_type": "markdown",
   "metadata": {},
   "source": [
    "<h2> Fusion avec le fichier WEB </h2>"
   ]
  },
  {
   "cell_type": "code",
   "execution_count": 49,
   "metadata": {},
   "outputs": [],
   "source": [
    "WebSales= pd.merge(Fusion, WEB, how='inner', left_on='id_web', right_on='sku')"
   ]
  },
  {
   "cell_type": "code",
   "execution_count": 50,
   "metadata": {},
   "outputs": [
    {
     "name": "stderr",
     "output_type": "stream",
     "text": [
      "C:\\Users\\mario\\anaconda3\\lib\\site-packages\\lux\\executor\\PandasExecutor.py:250: UserWarning:\n",
      "Lux detects that the attribute 'sku' maybe contain mixed type.\n",
      "To visualize this attribute, you may want to convert the 'sku' into a uniform type as follows:\n",
      "\tdf['sku'] = df['sku'].astype(str)\n"
     ]
    },
    {
     "data": {
      "application/vnd.jupyter.widget-view+json": {
       "model_id": "6989fab63917491fa2eb81427bf4aad8",
       "version_major": 2,
       "version_minor": 0
      },
      "text/plain": [
       "Button(description='Toggle Pandas/Lux', layout=Layout(top='5px', width='140px'), style=ButtonStyle())"
      ]
     },
     "metadata": {},
     "output_type": "display_data"
    },
    {
     "data": {
      "application/vnd.jupyter.widget-view+json": {
       "model_id": "0f4c9d78b95a4dcf82e6411a159a004d",
       "version_major": 2,
       "version_minor": 0
      },
      "text/plain": [
       "Output()"
      ]
     },
     "metadata": {},
     "output_type": "display_data"
    },
    {
     "data": {
      "text/plain": []
     },
     "execution_count": 50,
     "metadata": {},
     "output_type": "execute_result"
    }
   ],
   "source": [
    "WebSales"
   ]
  },
  {
   "cell_type": "markdown",
   "metadata": {},
   "source": [
    "On a le même nombre de rang que dans le df WEB"
   ]
  },
  {
   "cell_type": "markdown",
   "metadata": {},
   "source": [
    "<h2> Vérification du df <b> WebSales</b> </h2>"
   ]
  },
  {
   "cell_type": "markdown",
   "metadata": {},
   "source": [
    "<h3> suppression des colonnes inutiles</h3>"
   ]
  },
  {
   "cell_type": "code",
   "execution_count": 51,
   "metadata": {
    "scrolled": true
   },
   "outputs": [],
   "source": [
    "WebSales.drop(['sku','id_web'], axis=1, inplace =True)"
   ]
  },
  {
   "cell_type": "code",
   "execution_count": 52,
   "metadata": {},
   "outputs": [
    {
     "data": {
      "text/plain": [
       "1"
      ]
     },
     "execution_count": 52,
     "metadata": {},
     "output_type": "execute_result"
    }
   ],
   "source": [
    "WebSales.onsale_web.nunique()"
   ]
  },
  {
   "cell_type": "code",
   "execution_count": 53,
   "metadata": {},
   "outputs": [],
   "source": [
    "WebSales.drop('onsale_web', axis=1, inplace=True)"
   ]
  },
  {
   "cell_type": "markdown",
   "metadata": {},
   "source": [
    "<h3> dédoublonnage massif</h3>"
   ]
  },
  {
   "cell_type": "code",
   "execution_count": 54,
   "metadata": {},
   "outputs": [
    {
     "name": "stdout",
     "output_type": "stream",
     "text": [
      "<class 'lux.core.frame.LuxDataFrame'>\n",
      "Int64Index: 1428 entries, 0 to 1427\n",
      "Data columns (total 10 columns):\n",
      " #   Column          Non-Null Count  Dtype  \n",
      "---  ------          --------------  -----  \n",
      " 0   product_id      1428 non-null   int64  \n",
      " 1   price           1428 non-null   float64\n",
      " 2   stock_quantity  1428 non-null   int64  \n",
      " 3   stock_status    1428 non-null   object \n",
      " 4   total_sales     1428 non-null   float64\n",
      " 5   tax_status      714 non-null    object \n",
      " 6   post_title      1428 non-null   object \n",
      " 7   post_excerpt    714 non-null    object \n",
      " 8   post_name       1428 non-null   object \n",
      " 9   post_type       1428 non-null   object \n",
      "dtypes: float64(2), int64(2), object(6)\n",
      "memory usage: 122.7+ KB\n"
     ]
    }
   ],
   "source": [
    "WebSales.info()"
   ]
  },
  {
   "cell_type": "code",
   "execution_count": 55,
   "metadata": {},
   "outputs": [
    {
     "data": {
      "text/html": [
       "<div>\n",
       "<style scoped>\n",
       "    .dataframe tbody tr th:only-of-type {\n",
       "        vertical-align: middle;\n",
       "    }\n",
       "\n",
       "    .dataframe tbody tr th {\n",
       "        vertical-align: top;\n",
       "    }\n",
       "\n",
       "    .dataframe thead th {\n",
       "        text-align: right;\n",
       "    }\n",
       "</style>\n",
       "<table border=\"1\" class=\"dataframe\">\n",
       "  <thead>\n",
       "    <tr style=\"text-align: right;\">\n",
       "      <th></th>\n",
       "      <th>product_id</th>\n",
       "      <th>price</th>\n",
       "      <th>stock_quantity</th>\n",
       "      <th>stock_status</th>\n",
       "      <th>total_sales</th>\n",
       "      <th>tax_status</th>\n",
       "      <th>post_title</th>\n",
       "      <th>post_excerpt</th>\n",
       "      <th>post_name</th>\n",
       "      <th>post_type</th>\n",
       "    </tr>\n",
       "  </thead>\n",
       "  <tbody>\n",
       "    <tr>\n",
       "      <th>0</th>\n",
       "      <td>3847</td>\n",
       "      <td>24.2</td>\n",
       "      <td>0</td>\n",
       "      <td>outofstock</td>\n",
       "      <td>6.0</td>\n",
       "      <td>taxable</td>\n",
       "      <td>Pierre Jean Villa Saint-Joseph Préface 2018</td>\n",
       "      <td>Il exhale un nez subtil, racé avec du poivre fin et de la tourbe. La bouche est une caresse grâce à des tanins élégants. De la haute couture.</td>\n",
       "      <td>pierre-jean-villa-saint-joseph-preface-2018</td>\n",
       "      <td>product</td>\n",
       "    </tr>\n",
       "    <tr>\n",
       "      <th>1</th>\n",
       "      <td>3847</td>\n",
       "      <td>24.2</td>\n",
       "      <td>0</td>\n",
       "      <td>outofstock</td>\n",
       "      <td>6.0</td>\n",
       "      <td>NaN</td>\n",
       "      <td>Pierre Jean Villa Saint-Joseph Préface 2018</td>\n",
       "      <td>NaN</td>\n",
       "      <td>pierre-jean-villa-saint-joseph-preface-2018</td>\n",
       "      <td>attachment</td>\n",
       "    </tr>\n",
       "    <tr>\n",
       "      <th>2</th>\n",
       "      <td>3849</td>\n",
       "      <td>34.3</td>\n",
       "      <td>0</td>\n",
       "      <td>outofstock</td>\n",
       "      <td>0.0</td>\n",
       "      <td>taxable</td>\n",
       "      <td>Pierre Jean Villa Saint-Joseph Rouge Tildé 2017</td>\n",
       "      <td>Les vieilles vignes lui apportent une rare profondeur. L’attaque affiche de l’élégance. La bouche est portée par un minéral saisissant et des tanins de belle qualité. Grande bouteille !</td>\n",
       "      <td>pierre-jean-villa-saint-joseph-tilde-2017</td>\n",
       "      <td>product</td>\n",
       "    </tr>\n",
       "    <tr>\n",
       "      <th>3</th>\n",
       "      <td>3849</td>\n",
       "      <td>34.3</td>\n",
       "      <td>0</td>\n",
       "      <td>outofstock</td>\n",
       "      <td>0.0</td>\n",
       "      <td>NaN</td>\n",
       "      <td>Pierre Jean Villa Saint-Joseph Rouge Tildé 2017</td>\n",
       "      <td>NaN</td>\n",
       "      <td>pierre-jean-villa-saint-joseph-tilde-2017</td>\n",
       "      <td>attachment</td>\n",
       "    </tr>\n",
       "    <tr>\n",
       "      <th>4</th>\n",
       "      <td>3850</td>\n",
       "      <td>20.8</td>\n",
       "      <td>0</td>\n",
       "      <td>outofstock</td>\n",
       "      <td>0.0</td>\n",
       "      <td>taxable</td>\n",
       "      <td>Pierre Jean Villa Crozes-Hermitage Accroche Coeur 2018</td>\n",
       "      <td>Dentelle de fruit de jeunes syrah, aux tanins légers et épicés. Hyper digeste. Un délice.</td>\n",
       "      <td>pierre-jean-villa-croze-hermitage-accroche-coeur-2018</td>\n",
       "      <td>product</td>\n",
       "    </tr>\n",
       "    <tr>\n",
       "      <th>...</th>\n",
       "      <td>...</td>\n",
       "      <td>...</td>\n",
       "      <td>...</td>\n",
       "      <td>...</td>\n",
       "      <td>...</td>\n",
       "      <td>...</td>\n",
       "      <td>...</td>\n",
       "      <td>...</td>\n",
       "      <td>...</td>\n",
       "      <td>...</td>\n",
       "    </tr>\n",
       "    <tr>\n",
       "      <th>1423</th>\n",
       "      <td>7025</td>\n",
       "      <td>69.0</td>\n",
       "      <td>2</td>\n",
       "      <td>instock</td>\n",
       "      <td>0.0</td>\n",
       "      <td>NaN</td>\n",
       "      <td>Domaine Jamet Côte Rôtie Fructus Voluptas 2018</td>\n",
       "      <td>NaN</td>\n",
       "      <td>jamet-cote-rotie-fructus-voluptas-2018</td>\n",
       "      <td>attachment</td>\n",
       "    </tr>\n",
       "    <tr>\n",
       "      <th>1424</th>\n",
       "      <td>7247</td>\n",
       "      <td>54.8</td>\n",
       "      <td>23</td>\n",
       "      <td>instock</td>\n",
       "      <td>0.0</td>\n",
       "      <td>taxable</td>\n",
       "      <td>Clos du Mont-Olivet Châteauneuf-du-Pape 2007</td>\n",
       "      <td>Nez gracieux, très élégant avec une touche florale et un parfum de vendange entière. Il évolue sur une note d'agrume. Bouche avec du relief et une belle énergie. Il y a du muscle mais accompagné par une sensation de fruit plein et dense.</td>\n",
       "      <td>clos-du-mont-olivet-chateauneuf-du-pape-2007-2</td>\n",
       "      <td>product</td>\n",
       "    </tr>\n",
       "    <tr>\n",
       "      <th>1425</th>\n",
       "      <td>7247</td>\n",
       "      <td>54.8</td>\n",
       "      <td>23</td>\n",
       "      <td>instock</td>\n",
       "      <td>0.0</td>\n",
       "      <td>NaN</td>\n",
       "      <td>Clos du Mont-Olivet Châteauneuf-du-Pape 2007</td>\n",
       "      <td>NaN</td>\n",
       "      <td>clos-du-mont-olivet-chateauneuf-du-pape-2007-2</td>\n",
       "      <td>attachment</td>\n",
       "    </tr>\n",
       "    <tr>\n",
       "      <th>1426</th>\n",
       "      <td>7338</td>\n",
       "      <td>16.3</td>\n",
       "      <td>45</td>\n",
       "      <td>instock</td>\n",
       "      <td>0.0</td>\n",
       "      <td>taxable</td>\n",
       "      <td>Domaine Saint-Nicolas Vin de France Blanc Les Clous 2019</td>\n",
       "      <td>Issu d'un assemblage de chenin blanc et de chardonnay, ce vin présente des notes iodées ainsi que des arômes de fleurs blanches. En bouche, un vin d'une grande tension se dévoile, avec des saveurs salées et une fine amertume.</td>\n",
       "      <td>domaine-saint-nicolas-fiefs-vendeens-blanc-les-clous-2019</td>\n",
       "      <td>product</td>\n",
       "    </tr>\n",
       "    <tr>\n",
       "      <th>1427</th>\n",
       "      <td>7338</td>\n",
       "      <td>16.3</td>\n",
       "      <td>45</td>\n",
       "      <td>instock</td>\n",
       "      <td>0.0</td>\n",
       "      <td>NaN</td>\n",
       "      <td>Domaine Saint-Nicolas Vin de France Blanc Les Clous 2019</td>\n",
       "      <td>NaN</td>\n",
       "      <td>domaine-saint-nicolas-fiefs-vendeens-blanc-les-clous-2019</td>\n",
       "      <td>attachment</td>\n",
       "    </tr>\n",
       "  </tbody>\n",
       "</table>\n",
       "<p>1428 rows × 10 columns</p>\n",
       "</div>"
      ],
      "text/plain": [
       "      product_id  price  stock_quantity stock_status  total_sales tax_status  \\\n",
       "0           3847   24.2               0   outofstock          6.0    taxable   \n",
       "1           3847   24.2               0   outofstock          6.0        NaN   \n",
       "2           3849   34.3               0   outofstock          0.0    taxable   \n",
       "3           3849   34.3               0   outofstock          0.0        NaN   \n",
       "4           3850   20.8               0   outofstock          0.0    taxable   \n",
       "...          ...    ...             ...          ...          ...        ...   \n",
       "1423        7025   69.0               2      instock          0.0        NaN   \n",
       "1424        7247   54.8              23      instock          0.0    taxable   \n",
       "1425        7247   54.8              23      instock          0.0        NaN   \n",
       "1426        7338   16.3              45      instock          0.0    taxable   \n",
       "1427        7338   16.3              45      instock          0.0        NaN   \n",
       "\n",
       "                                                    post_title  \\\n",
       "0                  Pierre Jean Villa Saint-Joseph Préface 2018   \n",
       "1                  Pierre Jean Villa Saint-Joseph Préface 2018   \n",
       "2              Pierre Jean Villa Saint-Joseph Rouge Tildé 2017   \n",
       "3              Pierre Jean Villa Saint-Joseph Rouge Tildé 2017   \n",
       "4       Pierre Jean Villa Crozes-Hermitage Accroche Coeur 2018   \n",
       "...                                                        ...   \n",
       "1423            Domaine Jamet Côte Rôtie Fructus Voluptas 2018   \n",
       "1424              Clos du Mont-Olivet Châteauneuf-du-Pape 2007   \n",
       "1425              Clos du Mont-Olivet Châteauneuf-du-Pape 2007   \n",
       "1426  Domaine Saint-Nicolas Vin de France Blanc Les Clous 2019   \n",
       "1427  Domaine Saint-Nicolas Vin de France Blanc Les Clous 2019   \n",
       "\n",
       "                                                                                                                                                                                                                                       post_excerpt  \\\n",
       "0                                                                                                     Il exhale un nez subtil, racé avec du poivre fin et de la tourbe. La bouche est une caresse grâce à des tanins élégants. De la haute couture.   \n",
       "1                                                                                                                                                                                                                                               NaN   \n",
       "2                                                         Les vieilles vignes lui apportent une rare profondeur. L’attaque affiche de l’élégance. La bouche est portée par un minéral saisissant et des tanins de belle qualité. Grande bouteille !   \n",
       "3                                                                                                                                                                                                                                               NaN   \n",
       "4                                                                                                                                                         Dentelle de fruit de jeunes syrah, aux tanins légers et épicés. Hyper digeste. Un délice.   \n",
       "...                                                                                                                                                                                                                                             ...   \n",
       "1423                                                                                                                                                                                                                                            NaN   \n",
       "1424  Nez gracieux, très élégant avec une touche florale et un parfum de vendange entière. Il évolue sur une note d'agrume. Bouche avec du relief et une belle énergie. Il y a du muscle mais accompagné par une sensation de fruit plein et dense.   \n",
       "1425                                                                                                                                                                                                                                            NaN   \n",
       "1426              Issu d'un assemblage de chenin blanc et de chardonnay, ce vin présente des notes iodées ainsi que des arômes de fleurs blanches. En bouche, un vin d'une grande tension se dévoile, avec des saveurs salées et une fine amertume.   \n",
       "1427                                                                                                                                                                                                                                            NaN   \n",
       "\n",
       "                                                      post_name   post_type  \n",
       "0                   pierre-jean-villa-saint-joseph-preface-2018     product  \n",
       "1                   pierre-jean-villa-saint-joseph-preface-2018  attachment  \n",
       "2                     pierre-jean-villa-saint-joseph-tilde-2017     product  \n",
       "3                     pierre-jean-villa-saint-joseph-tilde-2017  attachment  \n",
       "4         pierre-jean-villa-croze-hermitage-accroche-coeur-2018     product  \n",
       "...                                                         ...         ...  \n",
       "1423                     jamet-cote-rotie-fructus-voluptas-2018  attachment  \n",
       "1424             clos-du-mont-olivet-chateauneuf-du-pape-2007-2     product  \n",
       "1425             clos-du-mont-olivet-chateauneuf-du-pape-2007-2  attachment  \n",
       "1426  domaine-saint-nicolas-fiefs-vendeens-blanc-les-clous-2019     product  \n",
       "1427  domaine-saint-nicolas-fiefs-vendeens-blanc-les-clous-2019  attachment  \n",
       "\n",
       "[1428 rows x 10 columns]"
      ]
     },
     "metadata": {},
     "output_type": "display_data"
    },
    {
     "data": {
      "text/plain": []
     },
     "execution_count": 55,
     "metadata": {},
     "output_type": "execute_result"
    }
   ],
   "source": [
    "WebSales"
   ]
  },
  {
   "cell_type": "code",
   "execution_count": 56,
   "metadata": {},
   "outputs": [],
   "source": [
    "att=WebSales.query(\"post_type=='attachment'\").reset_index()"
   ]
  },
  {
   "cell_type": "code",
   "execution_count": 57,
   "metadata": {},
   "outputs": [],
   "source": [
    "prod=WebSales.query(\"post_type=='product'\").reset_index()"
   ]
  },
  {
   "cell_type": "code",
   "execution_count": 58,
   "metadata": {},
   "outputs": [
    {
     "name": "stderr",
     "output_type": "stream",
     "text": [
      "C:\\Users\\mario\\anaconda3\\lib\\site-packages\\IPython\\core\\formatters.py:345: UserWarning:\n",
      "Lux does not currently support dataframes with hierarchical indexes.\n",
      "Please convert the dataframe into a flat table via `pandas.DataFrame.reset_index`.\n",
      "\n"
     ]
    },
    {
     "data": {
      "text/html": [
       "<div>\n",
       "<style scoped>\n",
       "    .dataframe tbody tr th:only-of-type {\n",
       "        vertical-align: middle;\n",
       "    }\n",
       "\n",
       "    .dataframe tbody tr th {\n",
       "        vertical-align: top;\n",
       "    }\n",
       "\n",
       "    .dataframe thead tr th {\n",
       "        text-align: left;\n",
       "    }\n",
       "</style>\n",
       "<table border=\"1\" class=\"dataframe\">\n",
       "  <thead>\n",
       "    <tr>\n",
       "      <th></th>\n",
       "      <th colspan=\"2\" halign=\"left\">index</th>\n",
       "      <th colspan=\"2\" halign=\"left\">tax_status</th>\n",
       "      <th colspan=\"2\" halign=\"left\">post_excerpt</th>\n",
       "      <th colspan=\"2\" halign=\"left\">post_type</th>\n",
       "    </tr>\n",
       "    <tr>\n",
       "      <th></th>\n",
       "      <th>self</th>\n",
       "      <th>other</th>\n",
       "      <th>self</th>\n",
       "      <th>other</th>\n",
       "      <th>self</th>\n",
       "      <th>other</th>\n",
       "      <th>self</th>\n",
       "      <th>other</th>\n",
       "    </tr>\n",
       "  </thead>\n",
       "  <tbody>\n",
       "    <tr>\n",
       "      <th>0</th>\n",
       "      <td>1</td>\n",
       "      <td>0</td>\n",
       "      <td>NaN</td>\n",
       "      <td>taxable</td>\n",
       "      <td>NaN</td>\n",
       "      <td>Il exhale un nez subtil, racé avec du poivre fin et de la tourbe. La bouche est une caresse grâce à des tanins élégants. De la haute couture.</td>\n",
       "      <td>attachment</td>\n",
       "      <td>product</td>\n",
       "    </tr>\n",
       "    <tr>\n",
       "      <th>1</th>\n",
       "      <td>3</td>\n",
       "      <td>2</td>\n",
       "      <td>NaN</td>\n",
       "      <td>taxable</td>\n",
       "      <td>NaN</td>\n",
       "      <td>Les vieilles vignes lui apportent une rare profondeur. L’attaque affiche de l’élégance. La bouche est portée par un minéral saisissant et des tanins de belle qualité. Grande bouteille !</td>\n",
       "      <td>attachment</td>\n",
       "      <td>product</td>\n",
       "    </tr>\n",
       "    <tr>\n",
       "      <th>2</th>\n",
       "      <td>5</td>\n",
       "      <td>4</td>\n",
       "      <td>NaN</td>\n",
       "      <td>taxable</td>\n",
       "      <td>NaN</td>\n",
       "      <td>Dentelle de fruit de jeunes syrah, aux tanins légers et épicés. Hyper digeste. Un délice.</td>\n",
       "      <td>attachment</td>\n",
       "      <td>product</td>\n",
       "    </tr>\n",
       "    <tr>\n",
       "      <th>3</th>\n",
       "      <td>7</td>\n",
       "      <td>6</td>\n",
       "      <td>NaN</td>\n",
       "      <td>taxable</td>\n",
       "      <td>NaN</td>\n",
       "      <td>Gamine représente tout le fruité et la gourmandise de la syrah. Une touche épicée et des tanins fondus lui apportent une belle complexité.</td>\n",
       "      <td>attachment</td>\n",
       "      <td>product</td>\n",
       "    </tr>\n",
       "    <tr>\n",
       "      <th>4</th>\n",
       "      <td>9</td>\n",
       "      <td>8</td>\n",
       "      <td>NaN</td>\n",
       "      <td>taxable</td>\n",
       "      <td>NaN</td>\n",
       "      <td>Le côte rôtie Carmina monte en puissance mais garde un milieu de bouche pulpeux aux tanins aboutis. En référence à Carmina Burana, ce Côte Rôtie associe puissance, pureté, complexité et sensualité.</td>\n",
       "      <td>attachment</td>\n",
       "      <td>product</td>\n",
       "    </tr>\n",
       "    <tr>\n",
       "      <th>...</th>\n",
       "      <td>...</td>\n",
       "      <td>...</td>\n",
       "      <td>...</td>\n",
       "      <td>...</td>\n",
       "      <td>...</td>\n",
       "      <td>...</td>\n",
       "      <td>...</td>\n",
       "      <td>...</td>\n",
       "    </tr>\n",
       "    <tr>\n",
       "      <th>709</th>\n",
       "      <td>1419</td>\n",
       "      <td>1418</td>\n",
       "      <td>NaN</td>\n",
       "      <td>taxable</td>\n",
       "      <td>NaN</td>\n",
       "      <td>Belle robe jeune à dominante rubis soutenue. Nez fruité, avec des notes de fruits  confits, de confiture, de fruits noirs, épicé, poivré et mentholé. Bouche charnue, vin plein, dense, fruité, fumé, finissant sur des tanins tactiles et croquants Un vin de repas entre copains!</td>\n",
       "      <td>attachment</td>\n",
       "      <td>product</td>\n",
       "    </tr>\n",
       "    <tr>\n",
       "      <th>710</th>\n",
       "      <td>1421</td>\n",
       "      <td>1420</td>\n",
       "      <td>NaN</td>\n",
       "      <td>taxable</td>\n",
       "      <td>NaN</td>\n",
       "      <td>L'exotisme du nez est complété par d'élégantes et complexes notes de pistache et d'amande amère. La fraîcheur apparaît tendue, millimétrée, et empreinte de pureté. La mandarine, l'orange, les fruits exotiques apportent des arômes gourmands. L'allonge s'étire sans perdre d'éclat. Un modèle de précision.</td>\n",
       "      <td>attachment</td>\n",
       "      <td>product</td>\n",
       "    </tr>\n",
       "    <tr>\n",
       "      <th>711</th>\n",
       "      <td>1423</td>\n",
       "      <td>1422</td>\n",
       "      <td>NaN</td>\n",
       "      <td>taxable</td>\n",
       "      <td>NaN</td>\n",
       "      <td>Pour cette cuvée, Jean-Paul Jamet recherche un plaisir sur le fruit plus immédiat tout en conservant un potentiel de garde.\\n\\n&amp;nbsp;</td>\n",
       "      <td>attachment</td>\n",
       "      <td>product</td>\n",
       "    </tr>\n",
       "    <tr>\n",
       "      <th>712</th>\n",
       "      <td>1425</td>\n",
       "      <td>1424</td>\n",
       "      <td>NaN</td>\n",
       "      <td>taxable</td>\n",
       "      <td>NaN</td>\n",
       "      <td>Nez gracieux, très élégant avec une touche florale et un parfum de vendange entière. Il évolue sur une note d'agrume. Bouche avec du relief et une belle énergie. Il y a du muscle mais accompagné par une sensation de fruit plein et dense.</td>\n",
       "      <td>attachment</td>\n",
       "      <td>product</td>\n",
       "    </tr>\n",
       "    <tr>\n",
       "      <th>713</th>\n",
       "      <td>1427</td>\n",
       "      <td>1426</td>\n",
       "      <td>NaN</td>\n",
       "      <td>taxable</td>\n",
       "      <td>NaN</td>\n",
       "      <td>Issu d'un assemblage de chenin blanc et de chardonnay, ce vin présente des notes iodées ainsi que des arômes de fleurs blanches. En bouche, un vin d'une grande tension se dévoile, avec des saveurs salées et une fine amertume.</td>\n",
       "      <td>attachment</td>\n",
       "      <td>product</td>\n",
       "    </tr>\n",
       "  </tbody>\n",
       "</table>\n",
       "<p>714 rows × 8 columns</p>\n",
       "</div>"
      ],
      "text/plain": [
       "    index       tax_status          post_excerpt  \\\n",
       "     self other       self    other         self   \n",
       "0       1     0        NaN  taxable          NaN   \n",
       "1       3     2        NaN  taxable          NaN   \n",
       "2       5     4        NaN  taxable          NaN   \n",
       "3       7     6        NaN  taxable          NaN   \n",
       "4       9     8        NaN  taxable          NaN   \n",
       "..    ...   ...        ...      ...          ...   \n",
       "709  1419  1418        NaN  taxable          NaN   \n",
       "710  1421  1420        NaN  taxable          NaN   \n",
       "711  1423  1422        NaN  taxable          NaN   \n",
       "712  1425  1424        NaN  taxable          NaN   \n",
       "713  1427  1426        NaN  taxable          NaN   \n",
       "\n",
       "                                                                                                                                                                                                                                                                                                                      \\\n",
       "                                                                                                                                                                                                                                                                                                               other   \n",
       "0                                                                                                                                                                      Il exhale un nez subtil, racé avec du poivre fin et de la tourbe. La bouche est une caresse grâce à des tanins élégants. De la haute couture.   \n",
       "1                                                                                                                          Les vieilles vignes lui apportent une rare profondeur. L’attaque affiche de l’élégance. La bouche est portée par un minéral saisissant et des tanins de belle qualité. Grande bouteille !   \n",
       "2                                                                                                                                                                                                                          Dentelle de fruit de jeunes syrah, aux tanins légers et épicés. Hyper digeste. Un délice.   \n",
       "3                                                                                                                                                                         Gamine représente tout le fruité et la gourmandise de la syrah. Une touche épicée et des tanins fondus lui apportent une belle complexité.   \n",
       "4                                                                                                              Le côte rôtie Carmina monte en puissance mais garde un milieu de bouche pulpeux aux tanins aboutis. En référence à Carmina Burana, ce Côte Rôtie associe puissance, pureté, complexité et sensualité.   \n",
       "..                                                                                                                                                                                                                                                                                                               ...   \n",
       "709                              Belle robe jeune à dominante rubis soutenue. Nez fruité, avec des notes de fruits  confits, de confiture, de fruits noirs, épicé, poivré et mentholé. Bouche charnue, vin plein, dense, fruité, fumé, finissant sur des tanins tactiles et croquants Un vin de repas entre copains!   \n",
       "710  L'exotisme du nez est complété par d'élégantes et complexes notes de pistache et d'amande amère. La fraîcheur apparaît tendue, millimétrée, et empreinte de pureté. La mandarine, l'orange, les fruits exotiques apportent des arômes gourmands. L'allonge s'étire sans perdre d'éclat. Un modèle de précision.   \n",
       "711                                                                                                                                                                            Pour cette cuvée, Jean-Paul Jamet recherche un plaisir sur le fruit plus immédiat tout en conservant un potentiel de garde.\\n\\n&nbsp;   \n",
       "712                                                                    Nez gracieux, très élégant avec une touche florale et un parfum de vendange entière. Il évolue sur une note d'agrume. Bouche avec du relief et une belle énergie. Il y a du muscle mais accompagné par une sensation de fruit plein et dense.   \n",
       "713                                                                                Issu d'un assemblage de chenin blanc et de chardonnay, ce vin présente des notes iodées ainsi que des arômes de fleurs blanches. En bouche, un vin d'une grande tension se dévoile, avec des saveurs salées et une fine amertume.   \n",
       "\n",
       "      post_type           \n",
       "           self    other  \n",
       "0    attachment  product  \n",
       "1    attachment  product  \n",
       "2    attachment  product  \n",
       "3    attachment  product  \n",
       "4    attachment  product  \n",
       "..          ...      ...  \n",
       "709  attachment  product  \n",
       "710  attachment  product  \n",
       "711  attachment  product  \n",
       "712  attachment  product  \n",
       "713  attachment  product  \n",
       "\n",
       "[714 rows x 8 columns]"
      ]
     },
     "metadata": {},
     "output_type": "display_data"
    },
    {
     "data": {
      "text/plain": []
     },
     "execution_count": 58,
     "metadata": {},
     "output_type": "execute_result"
    }
   ],
   "source": [
    "att.compare(prod)"
   ]
  },
  {
   "cell_type": "markdown",
   "metadata": {},
   "source": [
    "il semble qu'il y ait un doublonnage entre les post_type attachment et product. product contenant plus l'info, on garde ces lignes et on drop la colonne."
   ]
  },
  {
   "cell_type": "code",
   "execution_count": 59,
   "metadata": {},
   "outputs": [],
   "source": [
    "WebSales = WebSales.query(\"post_type=='product'\")"
   ]
  },
  {
   "cell_type": "code",
   "execution_count": 60,
   "metadata": {},
   "outputs": [
    {
     "name": "stderr",
     "output_type": "stream",
     "text": [
      "C:\\Users\\mario\\anaconda3\\lib\\site-packages\\pandas\\core\\generic.py:3890: SettingWithCopyWarning:\n",
      "A value is trying to be set on a copy of a slice from a DataFrame\n",
      "\n",
      "See the caveats in the documentation: https://pandas.pydata.org/pandas-docs/stable/user_guide/indexing.html#returning-a-view-versus-a-copy\n"
     ]
    }
   ],
   "source": [
    "WebSales.drop('post_type', axis=1, inplace=True)"
   ]
  },
  {
   "cell_type": "markdown",
   "metadata": {},
   "source": [
    "<h3>suppression colonnes inutiles (2)</h3>"
   ]
  },
  {
   "cell_type": "code",
   "execution_count": 61,
   "metadata": {},
   "outputs": [
    {
     "name": "stdout",
     "output_type": "stream",
     "text": [
      "tax_status-['taxable']\n"
     ]
    }
   ],
   "source": [
    "for col in WebSales.columns:\n",
    "    N_unique= WebSales[col].nunique()\n",
    "    if N_unique <=1 :\n",
    "        valeur_unique= WebSales[col].unique()\n",
    "        print('{}-{}'.format(col,valeur_unique))"
   ]
  },
  {
   "cell_type": "markdown",
   "metadata": {},
   "source": [
    "Il n'y a plus qu'un status de taxe. On drop la colonne et post_name (moins lisible que post_title)"
   ]
  },
  {
   "cell_type": "code",
   "execution_count": 62,
   "metadata": {},
   "outputs": [],
   "source": [
    "WebSales.drop(['tax_status', 'post_name'], axis=1, inplace=True)"
   ]
  },
  {
   "cell_type": "markdown",
   "metadata": {},
   "source": [
    "On peut lever l'ambiguité sur le stock_status car l'entrée concernée est 'bon cadeau de 25€' on comprends qu'il n'y ai pas besoin d'avoir de stock pour que ce soit disponible à la vente. Je drop la colonne stock_status"
   ]
  },
  {
   "cell_type": "code",
   "execution_count": 63,
   "metadata": {},
   "outputs": [
    {
     "name": "stderr",
     "output_type": "stream",
     "text": [
      "C:\\Users\\mario\\anaconda3\\lib\\site-packages\\IPython\\core\\formatters.py:345: UserWarning:\n",
      "Lux defaults to Pandas when there are no valid actions defined.\n"
     ]
    },
    {
     "data": {
      "text/html": [
       "<div>\n",
       "<style scoped>\n",
       "    .dataframe tbody tr th:only-of-type {\n",
       "        vertical-align: middle;\n",
       "    }\n",
       "\n",
       "    .dataframe tbody tr th {\n",
       "        vertical-align: top;\n",
       "    }\n",
       "\n",
       "    .dataframe thead th {\n",
       "        text-align: right;\n",
       "    }\n",
       "</style>\n",
       "<table border=\"1\" class=\"dataframe\">\n",
       "  <thead>\n",
       "    <tr style=\"text-align: right;\">\n",
       "      <th></th>\n",
       "      <th>product_id</th>\n",
       "      <th>price</th>\n",
       "      <th>stock_quantity</th>\n",
       "      <th>stock_status</th>\n",
       "      <th>total_sales</th>\n",
       "      <th>post_title</th>\n",
       "      <th>post_excerpt</th>\n",
       "    </tr>\n",
       "  </thead>\n",
       "  <tbody>\n",
       "    <tr>\n",
       "      <th>820</th>\n",
       "      <td>4954</td>\n",
       "      <td>25.0</td>\n",
       "      <td>0</td>\n",
       "      <td>instock</td>\n",
       "      <td>10.0</td>\n",
       "      <td>Bon cadeau de 25€</td>\n",
       "      <td>&lt;span style=\"color: #a85253;\"&gt;&lt;strong&gt;Parlons peu, parlons vin.&lt;/strong&gt;\\n&lt;strong&gt;Parlons cadeau !&lt;/strong&gt;&lt;/span&gt;\\n\\nUn bon cadeau à offrir à vos proches... sans modération !</td>\n",
       "    </tr>\n",
       "  </tbody>\n",
       "</table>\n",
       "</div>"
      ],
      "text/plain": [
       "     product_id  price  stock_quantity stock_status  total_sales  \\\n",
       "820        4954   25.0               0      instock         10.0   \n",
       "\n",
       "            post_title  \\\n",
       "820  Bon cadeau de 25€   \n",
       "\n",
       "                                                                                                                                                                        post_excerpt  \n",
       "820  <span style=\"color: #a85253;\"><strong>Parlons peu, parlons vin.</strong>\\n<strong>Parlons cadeau !</strong></span>\\n\\nUn bon cadeau à offrir à vos proches... sans modération !  "
      ]
     },
     "metadata": {},
     "output_type": "display_data"
    },
    {
     "data": {
      "text/plain": []
     },
     "execution_count": 63,
     "metadata": {},
     "output_type": "execute_result"
    }
   ],
   "source": [
    "WebSales.query(\"stock_quantity==0 & stock_status=='instock'\")"
   ]
  },
  {
   "cell_type": "code",
   "execution_count": 64,
   "metadata": {},
   "outputs": [
    {
     "name": "stderr",
     "output_type": "stream",
     "text": [
      "C:\\Users\\mario\\anaconda3\\lib\\site-packages\\pandas\\core\\generic.py:3890: SettingWithCopyWarning:\n",
      "A value is trying to be set on a copy of a slice from a DataFrame\n",
      "\n",
      "See the caveats in the documentation: https://pandas.pydata.org/pandas-docs/stable/user_guide/indexing.html#returning-a-view-versus-a-copy\n"
     ]
    }
   ],
   "source": [
    "WebSales.drop('stock_status',axis=1, inplace=True)"
   ]
  },
  {
   "cell_type": "code",
   "execution_count": 65,
   "metadata": {},
   "outputs": [
    {
     "data": {
      "application/vnd.jupyter.widget-view+json": {
       "model_id": "4d366d3cf3c94531a6a3564d788f499c",
       "version_major": 2,
       "version_minor": 0
      },
      "text/plain": [
       "Button(description='Toggle Pandas/Lux', layout=Layout(top='5px', width='140px'), style=ButtonStyle())"
      ]
     },
     "metadata": {},
     "output_type": "display_data"
    },
    {
     "data": {
      "application/vnd.jupyter.widget-view+json": {
       "model_id": "126e4f84caab49538bd46a6f1a6cef39",
       "version_major": 2,
       "version_minor": 0
      },
      "text/plain": [
       "Output()"
      ]
     },
     "metadata": {},
     "output_type": "display_data"
    },
    {
     "data": {
      "text/plain": []
     },
     "execution_count": 65,
     "metadata": {},
     "output_type": "execute_result"
    }
   ],
   "source": [
    "\n",
    "WebSales"
   ]
  },
  {
   "cell_type": "markdown",
   "metadata": {},
   "source": [
    "<h3>Derniers doublons</h3>"
   ]
  },
  {
   "cell_type": "code",
   "execution_count": 66,
   "metadata": {},
   "outputs": [
    {
     "data": {
      "text/plain": [
       "711"
      ]
     },
     "execution_count": 66,
     "metadata": {},
     "output_type": "execute_result"
    }
   ],
   "source": [
    "WebSales.post_title.nunique()"
   ]
  },
  {
   "cell_type": "code",
   "execution_count": 67,
   "metadata": {},
   "outputs": [
    {
     "data": {
      "application/vnd.jupyter.widget-view+json": {
       "model_id": "cf30e5444a4647498241c33929e009ac",
       "version_major": 2,
       "version_minor": 0
      },
      "text/plain": [
       "Button(description='Toggle Pandas/Lux', layout=Layout(top='5px', width='140px'), style=ButtonStyle())"
      ]
     },
     "metadata": {},
     "output_type": "display_data"
    },
    {
     "data": {
      "application/vnd.jupyter.widget-view+json": {
       "model_id": "2061d8f20e5149238da395e92fc20e8a",
       "version_major": 2,
       "version_minor": 0
      },
      "text/plain": [
       "Output()"
      ]
     },
     "metadata": {},
     "output_type": "display_data"
    },
    {
     "data": {
      "text/plain": []
     },
     "execution_count": 67,
     "metadata": {},
     "output_type": "execute_result"
    }
   ],
   "source": [
    "WebSales.post_title.value_counts()"
   ]
  },
  {
   "cell_type": "code",
   "execution_count": 68,
   "metadata": {},
   "outputs": [
    {
     "data": {
      "application/vnd.jupyter.widget-view+json": {
       "model_id": "ce8300bf518b49adacbf60186e3b1e43",
       "version_major": 2,
       "version_minor": 0
      },
      "text/plain": [
       "Button(description='Toggle Pandas/Lux', layout=Layout(top='5px', width='140px'), style=ButtonStyle())"
      ]
     },
     "metadata": {},
     "output_type": "display_data"
    },
    {
     "data": {
      "application/vnd.jupyter.widget-view+json": {
       "model_id": "07a0a86fc4d84c0f90fa166ef8a1baca",
       "version_major": 2,
       "version_minor": 0
      },
      "text/plain": [
       "Output()"
      ]
     },
     "metadata": {},
     "output_type": "display_data"
    },
    {
     "data": {
      "text/plain": []
     },
     "execution_count": 68,
     "metadata": {},
     "output_type": "execute_result"
    }
   ],
   "source": [
    "WebSales.query(\"post_title in ['Clos du Mont-Olivet Châteauneuf-du-Pape 2007','Marc Colin Et Fils Chassagne-Montrachet Blanc Les Vide-Bourses 1er Cru 2016','Domaine Hauvette IGP Alpilles Jaspe 2017']\").sort_values(by='post_title')"
   ]
  },
  {
   "cell_type": "markdown",
   "metadata": {},
   "source": [
    "On a trois couples d'entrées avec le même nom mais pas le même product_id. On va devoir traiter les choses couple par couple."
   ]
  },
  {
   "cell_type": "markdown",
   "metadata": {},
   "source": [
    "<h4> Domaine Hauvette IGP Alpilles Jaspe 2017</h4>"
   ]
  },
  {
   "cell_type": "code",
   "execution_count": 69,
   "metadata": {},
   "outputs": [
    {
     "name": "stderr",
     "output_type": "stream",
     "text": [
      "C:\\Users\\mario\\anaconda3\\lib\\site-packages\\IPython\\core\\formatters.py:345: UserWarning:\n",
      "Lux defaults to Pandas when there are no valid actions defined.\n"
     ]
    },
    {
     "data": {
      "text/html": [
       "<div>\n",
       "<style scoped>\n",
       "    .dataframe tbody tr th:only-of-type {\n",
       "        vertical-align: middle;\n",
       "    }\n",
       "\n",
       "    .dataframe tbody tr th {\n",
       "        vertical-align: top;\n",
       "    }\n",
       "\n",
       "    .dataframe thead th {\n",
       "        text-align: right;\n",
       "    }\n",
       "</style>\n",
       "<table border=\"1\" class=\"dataframe\">\n",
       "  <thead>\n",
       "    <tr style=\"text-align: right;\">\n",
       "      <th></th>\n",
       "      <th>product_id</th>\n",
       "      <th>price</th>\n",
       "      <th>stock_quantity</th>\n",
       "      <th>total_sales</th>\n",
       "      <th>post_title</th>\n",
       "      <th>post_excerpt</th>\n",
       "    </tr>\n",
       "  </thead>\n",
       "  <tbody>\n",
       "    <tr>\n",
       "      <th>368</th>\n",
       "      <td>4288</td>\n",
       "      <td>26.7</td>\n",
       "      <td>8</td>\n",
       "      <td>1.0</td>\n",
       "      <td>Domaine Hauvette IGP Alpilles Jaspe 2017</td>\n",
       "      <td>Un magnifique blanc 100% Roussanne avec une fraîcheur, de l'élégance et de la gourmandise. Un grand blanc du Sud !</td>\n",
       "    </tr>\n",
       "    <tr>\n",
       "      <th>1396</th>\n",
       "      <td>6665</td>\n",
       "      <td>27.7</td>\n",
       "      <td>8</td>\n",
       "      <td>1.0</td>\n",
       "      <td>Domaine Hauvette IGP Alpilles Jaspe 2017</td>\n",
       "      <td>Un magnifique blanc 100% Roussanne avec une fraîcheur, de l'élégance et de la gourmandise. Un grand blanc du Sud !</td>\n",
       "    </tr>\n",
       "  </tbody>\n",
       "</table>\n",
       "</div>"
      ],
      "text/plain": [
       "      product_id  price  stock_quantity  total_sales  \\\n",
       "368         4288   26.7               8          1.0   \n",
       "1396        6665   27.7               8          1.0   \n",
       "\n",
       "                                    post_title  \\\n",
       "368   Domaine Hauvette IGP Alpilles Jaspe 2017   \n",
       "1396  Domaine Hauvette IGP Alpilles Jaspe 2017   \n",
       "\n",
       "                                                                                                            post_excerpt  \n",
       "368   Un magnifique blanc 100% Roussanne avec une fraîcheur, de l'élégance et de la gourmandise. Un grand blanc du Sud !  \n",
       "1396  Un magnifique blanc 100% Roussanne avec une fraîcheur, de l'élégance et de la gourmandise. Un grand blanc du Sud !  "
      ]
     },
     "metadata": {},
     "output_type": "display_data"
    },
    {
     "data": {
      "text/plain": []
     },
     "execution_count": 69,
     "metadata": {},
     "output_type": "execute_result"
    }
   ],
   "source": [
    "WebSales.query(\"post_title =='Domaine Hauvette IGP Alpilles Jaspe 2017'\")"
   ]
  },
  {
   "cell_type": "markdown",
   "metadata": {},
   "source": [
    "Nous avons 2 product_id différents et 2 prix différents. Le reste est identique.<br><br>\n",
    "Nous supposons qu'il y a eu un changement de prix et que cela a généré une nouvelle entrée. Je vais donc affecter la moyenne des prix au product_ID 4288 et supprimer l'entrée product_ID 6665."
   ]
  },
  {
   "cell_type": "code",
   "execution_count": 70,
   "metadata": {},
   "outputs": [
    {
     "name": "stderr",
     "output_type": "stream",
     "text": [
      "C:\\Users\\mario\\anaconda3\\lib\\site-packages\\pandas\\core\\indexing.py:1765: SettingWithCopyWarning:\n",
      "A value is trying to be set on a copy of a slice from a DataFrame.\n",
      "Try using .loc[row_indexer,col_indexer] = value instead\n",
      "\n",
      "See the caveats in the documentation: https://pandas.pydata.org/pandas-docs/stable/user_guide/indexing.html#returning-a-view-versus-a-copy\n"
     ]
    }
   ],
   "source": [
    "WebSales.loc[368,'price']= 27.2"
   ]
  },
  {
   "cell_type": "code",
   "execution_count": 71,
   "metadata": {},
   "outputs": [],
   "source": [
    "WebSales.loc[368,'total_sales']= 2"
   ]
  },
  {
   "cell_type": "code",
   "execution_count": 72,
   "metadata": {},
   "outputs": [
    {
     "name": "stderr",
     "output_type": "stream",
     "text": [
      "C:\\Users\\mario\\anaconda3\\lib\\site-packages\\pandas\\core\\generic.py:3890: SettingWithCopyWarning:\n",
      "A value is trying to be set on a copy of a slice from a DataFrame\n",
      "\n",
      "See the caveats in the documentation: https://pandas.pydata.org/pandas-docs/stable/user_guide/indexing.html#returning-a-view-versus-a-copy\n"
     ]
    }
   ],
   "source": [
    "WebSales.drop(1396, inplace=True)"
   ]
  },
  {
   "cell_type": "markdown",
   "metadata": {},
   "source": [
    "<h4>Marc Colin Et Fils Chassagne-Montrachet Blanc les vides-bourses 1er cru 2016</h4>"
   ]
  },
  {
   "cell_type": "code",
   "execution_count": 73,
   "metadata": {},
   "outputs": [
    {
     "name": "stderr",
     "output_type": "stream",
     "text": [
      "C:\\Users\\mario\\anaconda3\\lib\\site-packages\\IPython\\core\\formatters.py:345: UserWarning:\n",
      "Lux defaults to Pandas when there are no valid actions defined.\n"
     ]
    },
    {
     "data": {
      "text/html": [
       "<div>\n",
       "<style scoped>\n",
       "    .dataframe tbody tr th:only-of-type {\n",
       "        vertical-align: middle;\n",
       "    }\n",
       "\n",
       "    .dataframe tbody tr th {\n",
       "        vertical-align: top;\n",
       "    }\n",
       "\n",
       "    .dataframe thead th {\n",
       "        text-align: right;\n",
       "    }\n",
       "</style>\n",
       "<table border=\"1\" class=\"dataframe\">\n",
       "  <thead>\n",
       "    <tr style=\"text-align: right;\">\n",
       "      <th></th>\n",
       "      <th>product_id</th>\n",
       "      <th>price</th>\n",
       "      <th>stock_quantity</th>\n",
       "      <th>total_sales</th>\n",
       "      <th>post_title</th>\n",
       "      <th>post_excerpt</th>\n",
       "    </tr>\n",
       "  </thead>\n",
       "  <tbody>\n",
       "    <tr>\n",
       "      <th>458</th>\n",
       "      <td>4597</td>\n",
       "      <td>61.6</td>\n",
       "      <td>0</td>\n",
       "      <td>2.0</td>\n",
       "      <td>Marc Colin Et Fils Chassagne-Montrachet Blanc Les Vide-Bourses 1er Cru 2016</td>\n",
       "      <td>Ce Chassagne Montrachet se révèle être un vin assez expressif, aux notes minérales et d’agrumes. La bouche est généreuse et longue. C’est un vin d’une grande élégance, un digne représentant de l’appellation.</td>\n",
       "    </tr>\n",
       "    <tr>\n",
       "      <th>980</th>\n",
       "      <td>5544</td>\n",
       "      <td>61.6</td>\n",
       "      <td>0</td>\n",
       "      <td>0.0</td>\n",
       "      <td>Marc Colin Et Fils Chassagne-Montrachet Blanc Les Vide-Bourses 1er Cru 2016</td>\n",
       "      <td>Ce Chassagne Montrachet se révèle être un vin assez expressif, aux notes minérales et d’agrumes. La bouche est généreuse et longue. C’est un vin d’une grande élégance, un digne représentant de l’appellation.</td>\n",
       "    </tr>\n",
       "  </tbody>\n",
       "</table>\n",
       "</div>"
      ],
      "text/plain": [
       "     product_id  price  stock_quantity  total_sales  \\\n",
       "458        4597   61.6               0          2.0   \n",
       "980        5544   61.6               0          0.0   \n",
       "\n",
       "                                                                      post_title  \\\n",
       "458  Marc Colin Et Fils Chassagne-Montrachet Blanc Les Vide-Bourses 1er Cru 2016   \n",
       "980  Marc Colin Et Fils Chassagne-Montrachet Blanc Les Vide-Bourses 1er Cru 2016   \n",
       "\n",
       "                                                                                                                                                                                                        post_excerpt  \n",
       "458  Ce Chassagne Montrachet se révèle être un vin assez expressif, aux notes minérales et d’agrumes. La bouche est généreuse et longue. C’est un vin d’une grande élégance, un digne représentant de l’appellation.  \n",
       "980  Ce Chassagne Montrachet se révèle être un vin assez expressif, aux notes minérales et d’agrumes. La bouche est généreuse et longue. C’est un vin d’une grande élégance, un digne représentant de l’appellation.  "
      ]
     },
     "metadata": {},
     "output_type": "display_data"
    },
    {
     "data": {
      "text/plain": []
     },
     "execution_count": 73,
     "metadata": {},
     "output_type": "execute_result"
    }
   ],
   "source": [
    "WebSales.query(\"post_title =='Marc Colin Et Fils Chassagne-Montrachet Blanc Les Vide-Bourses 1er Cru 2016'\")\n"
   ]
  },
  {
   "cell_type": "markdown",
   "metadata": {},
   "source": [
    "Nous avons 2 entrées avec des product_id différents et des total_sales différentes. Le reste étant identique.<br><br>\n",
    "Je supprime la ligne 980 ."
   ]
  },
  {
   "cell_type": "code",
   "execution_count": 74,
   "metadata": {},
   "outputs": [
    {
     "name": "stderr",
     "output_type": "stream",
     "text": [
      "C:\\Users\\mario\\anaconda3\\lib\\site-packages\\pandas\\core\\generic.py:3890: SettingWithCopyWarning:\n",
      "A value is trying to be set on a copy of a slice from a DataFrame\n",
      "\n",
      "See the caveats in the documentation: https://pandas.pydata.org/pandas-docs/stable/user_guide/indexing.html#returning-a-view-versus-a-copy\n"
     ]
    }
   ],
   "source": [
    "WebSales.drop(980, inplace=True)"
   ]
  },
  {
   "cell_type": "markdown",
   "metadata": {},
   "source": [
    "<h4>Clos du Mont-Olivet Châteauneuf-du-Pape 2007</h4>"
   ]
  },
  {
   "cell_type": "code",
   "execution_count": 75,
   "metadata": {},
   "outputs": [
    {
     "data": {
      "application/vnd.jupyter.widget-view+json": {
       "model_id": "a6d7ba065f8a44e0a7f996ac60b724c7",
       "version_major": 2,
       "version_minor": 0
      },
      "text/plain": [
       "Button(description='Toggle Pandas/Lux', layout=Layout(top='5px', width='140px'), style=ButtonStyle())"
      ]
     },
     "metadata": {},
     "output_type": "display_data"
    },
    {
     "data": {
      "application/vnd.jupyter.widget-view+json": {
       "model_id": "45d909c002434afc81bb202ce435da8e",
       "version_major": 2,
       "version_minor": 0
      },
      "text/plain": [
       "Output()"
      ]
     },
     "metadata": {},
     "output_type": "display_data"
    },
    {
     "data": {
      "text/plain": []
     },
     "execution_count": 75,
     "metadata": {},
     "output_type": "execute_result"
    }
   ],
   "source": [
    "WebSales.query(\"post_title in 'Clos du Mont-Olivet Châteauneuf-du-Pape 2007'\")"
   ]
  },
  {
   "cell_type": "markdown",
   "metadata": {},
   "source": [
    "ces 2 entrées sont plus problématiques. N'étant pas capable de dire si il s'agit de 2 vins différents et en tout cas quel est le bon stock. Nous gardons les 2. <br><br>\n",
    "\n",
    "La partie nettoyage étant terminée on supprime la colonne 'post_excerpt' qui ne nous sera pas utile pour la suite. <br>Nous avons donc au final, un df <b>WebSales</b>  de 712 rangs et 5 colonnes."
   ]
  },
  {
   "cell_type": "code",
   "execution_count": 76,
   "metadata": {},
   "outputs": [
    {
     "name": "stderr",
     "output_type": "stream",
     "text": [
      "C:\\Users\\mario\\anaconda3\\lib\\site-packages\\pandas\\core\\generic.py:3890: SettingWithCopyWarning:\n",
      "A value is trying to be set on a copy of a slice from a DataFrame\n",
      "\n",
      "See the caveats in the documentation: https://pandas.pydata.org/pandas-docs/stable/user_guide/indexing.html#returning-a-view-versus-a-copy\n"
     ]
    }
   ],
   "source": [
    "WebSales.drop('post_excerpt', axis=1, inplace=True)"
   ]
  },
  {
   "cell_type": "markdown",
   "metadata": {},
   "source": [
    "<h1> Analyse des ventes Web</h1>"
   ]
  },
  {
   "cell_type": "markdown",
   "metadata": {},
   "source": [
    "<h2> Chiffre d'affaire </h2>"
   ]
  },
  {
   "cell_type": "markdown",
   "metadata": {},
   "source": [
    "<h3> Chiffre d'affaire au niveau global</h3>"
   ]
  },
  {
   "cell_type": "markdown",
   "metadata": {},
   "source": [
    "On créé une colonne 'Revenue' qui contient le CA réalisé par chaque entrée"
   ]
  },
  {
   "cell_type": "code",
   "execution_count": 77,
   "metadata": {
    "hide_input": true,
    "scrolled": true
   },
   "outputs": [
    {
     "name": "stderr",
     "output_type": "stream",
     "text": [
      "C:\\Users\\mario\\anaconda3\\lib\\site-packages\\pandas\\core\\frame.py:3040: SettingWithCopyWarning:\n",
      "A value is trying to be set on a copy of a slice from a DataFrame.\n",
      "Try using .loc[row_indexer,col_indexer] = value instead\n",
      "\n",
      "See the caveats in the documentation: https://pandas.pydata.org/pandas-docs/stable/user_guide/indexing.html#returning-a-view-versus-a-copy\n"
     ]
    }
   ],
   "source": [
    "WebSales['Revenue']=WebSales.price*WebSales.total_sales"
   ]
  },
  {
   "cell_type": "code",
   "execution_count": 78,
   "metadata": {},
   "outputs": [
    {
     "data": {
      "application/vnd.jupyter.widget-view+json": {
       "model_id": "21ddd76ae9774f2f840f206eaf94f18a",
       "version_major": 2,
       "version_minor": 0
      },
      "text/plain": [
       "Button(description='Toggle Pandas/Lux', layout=Layout(top='5px', width='140px'), style=ButtonStyle())"
      ]
     },
     "metadata": {},
     "output_type": "display_data"
    },
    {
     "data": {
      "application/vnd.jupyter.widget-view+json": {
       "model_id": "d4771eea6f5747178338579f780f788b",
       "version_major": 2,
       "version_minor": 0
      },
      "text/plain": [
       "Output()"
      ]
     },
     "metadata": {},
     "output_type": "display_data"
    },
    {
     "data": {
      "text/plain": []
     },
     "execution_count": 78,
     "metadata": {},
     "output_type": "execute_result"
    }
   ],
   "source": [
    "WebSales.query('Revenue>0').describe()"
   ]
  },
  {
   "cell_type": "code",
   "execution_count": 79,
   "metadata": {
    "hide_input": true
   },
   "outputs": [
    {
     "name": "stdout",
     "output_type": "stream",
     "text": [
      "Moyenne des prix de Ventes : \n",
      "24.631273996509602\n",
      "CA Tot:\n",
      "70568.6\n",
      "NB total Ventes :\n",
      "2865.0\n",
      "part des ventes réalisées avec un prix inférieur à 18€: \n",
      "0.5019197207678883\n",
      "part du CA généré par des ventes à des prix inférieur à 33.3€ : \n",
      "0.5052572957377643\n",
      "nombre de références vendues:\n",
      "384\n",
      "nombre de référence proposées:\n",
      "711\n"
     ]
    }
   ],
   "source": [
    "print(\"Moyenne des prix de Ventes : \")\n",
    "print(WebSales.Revenue.sum()/WebSales.query(\"Revenue>0\").total_sales.sum())\n",
    "print('CA Tot:')\n",
    "print(WebSales.query(\"Revenue>0\").Revenue.sum())\n",
    "print('NB total Ventes :')\n",
    "print(WebSales.query(\"Revenue>0\").total_sales.sum())\n",
    "print('part des ventes réalisées avec un prix inférieur à 18€: ')\n",
    "print(WebSales.query(\"price<18\").total_sales.sum()/WebSales.total_sales.sum())\n",
    "print('part du CA généré par des ventes à des prix inférieur à 33.3€ : ')\n",
    "print(WebSales.query(\"price<33.3\").Revenue.sum()/WebSales.Revenue.sum())\n",
    "print(\"nombre de références vendues:\")\n",
    "print(WebSales.query(\"Revenue>0\").post_title.nunique())\n",
    "print(\"nombre de référence proposées:\")\n",
    "print(WebSales.post_title.nunique())"
   ]
  },
  {
   "cell_type": "code",
   "execution_count": 80,
   "metadata": {
    "hide_input": true
   },
   "outputs": [
    {
     "data": {
      "text/plain": [
       "Text(0.5, 1.1, 'Relation entre CA, volume et prix de ventes sur le site internet')"
      ]
     },
     "execution_count": 80,
     "metadata": {},
     "output_type": "execute_result"
    },
    {
     "data": {
      "image/png": "[encoded data removed]",
      "text/plain": [
       "<Figure size 421.5x360 with 1 Axes>"
      ]
     },
     "metadata": {
      "needs_background": "light"
     },
     "output_type": "display_data"
    }
   ],
   "source": [
    "ax = sns.relplot(data=WebSales.query(\"Revenue >0 \"), x='price', y='total_sales',\n",
    "                 hue='Revenue', palette=sns.color_palette(\"icefire\", as_cmap=True))\n",
    "\n",
    "# mediane vente cumulée\n",
    "\n",
    "ax2 = plt.axvline(18, color='#4a824b',\n",
    "                  alpha=0.75)\n",
    "plt.text(x=-50, y=102,\n",
    "         s='med. Vol = 18€', fontsize=12, color='#4a824b')\n",
    "# mediane CA cumulé\n",
    "ax3 = plt.axvline(33.3, color='grey',\n",
    "                  alpha=0.75)\n",
    "\n",
    "plt.text(x=36, y=102,\n",
    "         s='med. CA = 33.30€', fontsize=12, color='dimgrey')\n",
    "#titre\n",
    "ax.fig.suptitle(\n",
    "    'Relation entre CA, volume et prix de ventes sur le site internet', y=1.1, fontsize=18)"
   ]
  },
  {
   "cell_type": "markdown",
   "metadata": {},
   "source": [
    "Au total, le site web permet de réalisé un <b>chiffre d'affaire de 70k€</b> <br><br>avec un prix de vente moyen de <b>24.65 €</b> pour un peu plus de 2 800 produits vendus et 54% des références.\n",
    "<br><br> Plus de <b>50% des ventes sont réalisées avec des produits à moins de 18€</b> \n",
    "<br><br> Plus de <b>50% du CA est réalisé avec des produits à moins de 33.30€ </b>\n",
    "\n"
   ]
  },
  {
   "cell_type": "markdown",
   "metadata": {},
   "source": [
    "<h3> décompostion par produit </h3>"
   ]
  },
  {
   "cell_type": "markdown",
   "metadata": {
    "hide_input": true
   },
   "source": [
    "Plus de <b>50% du CA sont réalisés avec 32 références</b> <br><br>\n",
    "Les <b>10 principales sources de CA représententent 28,4% de ce dernier</b>. 6 d'entre eux sont des champagnes.\n",
    "<br><br> Il est évident que 2 références (<b>Champagne Gosset Grand Blanc de Blancs </b>et<b> Champagne Gosset Grand Rosé</b>) sortent du lot même si leur prix semble cohérent (<b> 12.7% CA</b>)."
   ]
  },
  {
   "cell_type": "code",
   "execution_count": 81,
   "metadata": {
    "hide_input": true,
    "scrolled": true
   },
   "outputs": [
    {
     "data": {
      "text/plain": [
       "Text(0.25, 1.1, '32 produits réalisant plus de 50% du CA')"
      ]
     },
     "execution_count": 81,
     "metadata": {},
     "output_type": "execute_result"
    },
    {
     "data": {
      "image/png": "[encoded data removed]",
      "text/plain": [
       "<Figure size 768.875x360 with 1 Axes>"
      ]
     },
     "metadata": {
      "needs_background": "light"
     },
     "output_type": "display_data"
    }
   ],
   "source": [
    "ax = sns.relplot(data=WebSales[['post_title', 'price', 'total_sales', 'Revenue']].query(\n",
    "    \"Revenue>0\").sort_values(by=\"Revenue\", ascending=False).head(32), x='price', y='total_sales', hue='post_title')\n",
    "ax2= plt.axvline(33.3, color='grey',\n",
    "                  alpha=0.75)\n",
    "plt.text(x=36, y=65,\n",
    "         s='mediane CA :33.30€', fontsize=12,color='dimgrey')\n",
    "ax.fig.suptitle(\n",
    "    '32 produits réalisant plus de 50% du CA',x=0.25, y=1.1, fontsize=18)"
   ]
  },
  {
   "cell_type": "code",
   "execution_count": 82,
   "metadata": {
    "scrolled": true
   },
   "outputs": [
    {
     "data": {
      "text/plain": [
       "Text(0.5, 1.1, '10 produits générant le plus de CA - 28,4%')"
      ]
     },
     "execution_count": 82,
     "metadata": {},
     "output_type": "execute_result"
    },
    {
     "data": {
      "image/png": "[encoded data removed]",
      "text/plain": [
       "<Figure size 658x360 with 1 Axes>"
      ]
     },
     "metadata": {
      "needs_background": "light"
     },
     "output_type": "display_data"
    }
   ],
   "source": [
    "ax=sns.relplot(data=WebSales[['post_title', 'price', 'total_sales', 'Revenue']].query(\"Revenue>0\").sort_values(\n",
    "    by=\"Revenue\", ascending=False).head(10), x='price', y='total_sales', hue='post_title')\n",
    "ax.fig.suptitle( '10 produits générant le plus de CA - 28,4%',y=1.1, fontsize=18)"
   ]
  },
  {
   "cell_type": "code",
   "execution_count": 83,
   "metadata": {},
   "outputs": [],
   "source": [
    "freq=[]\n",
    "Nom=['champagne','Crozes','patrimonio','Marmandais', 'cognac', 'Châteauneuf-du-Pape','Chassagne-Montrachet','Rully','Pinot Noir','Provence','Corton Charlemagne','Côte Rôtie','Bourgogne Rouge', 'Ambonnay Rouge','Languedoc','Muscat','Anjou Blanc','Bandol Rosé','Meursault']\n",
    "for nom in Nom:\n",
    "    freq.append(WebSales.query(\"Revenue>0\").sort_values(by=\"Revenue\", ascending=False).head(32).post_title.str.contains(nom,case=False).sum())\n",
    "    "
   ]
  },
  {
   "cell_type": "code",
   "execution_count": 84,
   "metadata": {
    "scrolled": true
   },
   "outputs": [
    {
     "data": {
      "image/png": "[encoded data removed]",
      "text/plain": [
       "<Figure size 432x288 with 1 Axes>"
      ]
     },
     "metadata": {
      "needs_background": "light"
     },
     "output_type": "display_data"
    }
   ],
   "source": [
    "ax= sns.barplot(data= pd.DataFrame( freq , index= Nom), x=freq, \n",
    "             y=pd.DataFrame( freq , index= Nom).index)\n"
   ]
  },
  {
   "cell_type": "code",
   "execution_count": 85,
   "metadata": {},
   "outputs": [],
   "source": [
    "freq2=[]\n",
    "for nom in Nom:\n",
    "    freq2.append(WebSales.query(\"Revenue>0\").sort_values(by=\"Revenue\", ascending=False).post_title.str.contains(nom,case=False).sum())\n",
    "    "
   ]
  },
  {
   "cell_type": "code",
   "execution_count": 86,
   "metadata": {},
   "outputs": [
    {
     "data": {
      "text/plain": [
       "<AxesSubplot:>"
      ]
     },
     "execution_count": 86,
     "metadata": {},
     "output_type": "execute_result"
    },
    {
     "data": {
      "image/png": "[encoded data removed]",
      "text/plain": [
       "<Figure size 432x288 with 1 Axes>"
      ]
     },
     "metadata": {
      "needs_background": "light"
     },
     "output_type": "display_data"
    }
   ],
   "source": [
    " sns.barplot(data= pd.DataFrame( freq2 , index= Nom), x=freq2, \n",
    "             y=pd.DataFrame( freq2 , index= Nom).index)"
   ]
  },
  {
   "cell_type": "code",
   "execution_count": 87,
   "metadata": {},
   "outputs": [
    {
     "data": {
      "text/plain": [
       "0.2838075291276857"
      ]
     },
     "execution_count": 87,
     "metadata": {},
     "output_type": "execute_result"
    }
   ],
   "source": [
    "WebSales.sort_values(by=\"Revenue\", ascending=False).Revenue.head(10).sum()/WebSales.Revenue.sum()"
   ]
  },
  {
   "cell_type": "code",
   "execution_count": 88,
   "metadata": {},
   "outputs": [
    {
     "name": "stderr",
     "output_type": "stream",
     "text": [
      "C:\\Users\\mario\\anaconda3\\lib\\site-packages\\IPython\\core\\formatters.py:345: UserWarning:\n",
      "Lux defaults to Pandas when there are no valid actions defined.\n"
     ]
    },
    {
     "data": {
      "text/html": [
       "<div>\n",
       "<style scoped>\n",
       "    .dataframe tbody tr th:only-of-type {\n",
       "        vertical-align: middle;\n",
       "    }\n",
       "\n",
       "    .dataframe tbody tr th {\n",
       "        vertical-align: top;\n",
       "    }\n",
       "\n",
       "    .dataframe thead th {\n",
       "        text-align: right;\n",
       "    }\n",
       "</style>\n",
       "<table border=\"1\" class=\"dataframe\">\n",
       "  <thead>\n",
       "    <tr style=\"text-align: right;\">\n",
       "      <th></th>\n",
       "      <th>product_id</th>\n",
       "      <th>price</th>\n",
       "      <th>stock_quantity</th>\n",
       "      <th>total_sales</th>\n",
       "      <th>Revenue</th>\n",
       "    </tr>\n",
       "    <tr>\n",
       "      <th>post_title</th>\n",
       "      <th></th>\n",
       "      <th></th>\n",
       "      <th></th>\n",
       "      <th></th>\n",
       "      <th></th>\n",
       "    </tr>\n",
       "  </thead>\n",
       "  <tbody>\n",
       "    <tr>\n",
       "      <th>Champagne Gosset Grand Blanc de Blancs</th>\n",
       "      <td>4334</td>\n",
       "      <td>49.0</td>\n",
       "      <td>0</td>\n",
       "      <td>96.0</td>\n",
       "      <td>4704.0</td>\n",
       "    </tr>\n",
       "    <tr>\n",
       "      <th>Champagne Gosset Grand Rosé</th>\n",
       "      <td>4144</td>\n",
       "      <td>49.0</td>\n",
       "      <td>11</td>\n",
       "      <td>87.0</td>\n",
       "      <td>4263.0</td>\n",
       "    </tr>\n",
       "    <tr>\n",
       "      <th>Cognac Frapin VIP XO</th>\n",
       "      <td>4402</td>\n",
       "      <td>176.0</td>\n",
       "      <td>8</td>\n",
       "      <td>13.0</td>\n",
       "      <td>2288.0</td>\n",
       "    </tr>\n",
       "    <tr>\n",
       "      <th>Champagne Gosset Grand Millésime 2006</th>\n",
       "      <td>4142</td>\n",
       "      <td>53.0</td>\n",
       "      <td>8</td>\n",
       "      <td>30.0</td>\n",
       "      <td>1590.0</td>\n",
       "    </tr>\n",
       "    <tr>\n",
       "      <th>Champagne Gosset Grande Réserve</th>\n",
       "      <td>4141</td>\n",
       "      <td>39.0</td>\n",
       "      <td>1</td>\n",
       "      <td>40.0</td>\n",
       "      <td>1560.0</td>\n",
       "    </tr>\n",
       "    <tr>\n",
       "      <th>Champagne Egly-Ouriet Grand Cru Blanc de Noirs</th>\n",
       "      <td>4355</td>\n",
       "      <td>126.5</td>\n",
       "      <td>2</td>\n",
       "      <td>11.0</td>\n",
       "      <td>1391.5</td>\n",
       "    </tr>\n",
       "    <tr>\n",
       "      <th>Champagne Egly-Ouriet Grand Cru Millésimé 2008</th>\n",
       "      <td>4352</td>\n",
       "      <td>225.0</td>\n",
       "      <td>0</td>\n",
       "      <td>5.0</td>\n",
       "      <td>1125.0</td>\n",
       "    </tr>\n",
       "    <tr>\n",
       "      <th>Elian Daros Côtes du Marmandais Clos Baquey 2015</th>\n",
       "      <td>4153</td>\n",
       "      <td>29.0</td>\n",
       "      <td>0</td>\n",
       "      <td>36.0</td>\n",
       "      <td>1044.0</td>\n",
       "    </tr>\n",
       "    <tr>\n",
       "      <th>Domaine Giudicelli Patrimonio Blanc 2019</th>\n",
       "      <td>6206</td>\n",
       "      <td>25.2</td>\n",
       "      <td>120</td>\n",
       "      <td>41.0</td>\n",
       "      <td>1033.2</td>\n",
       "    </tr>\n",
       "    <tr>\n",
       "      <th>Gilles Robin Crozes-Hermitage Rouge Papillon 2019</th>\n",
       "      <td>4068</td>\n",
       "      <td>16.6</td>\n",
       "      <td>157</td>\n",
       "      <td>62.0</td>\n",
       "      <td>1029.2</td>\n",
       "    </tr>\n",
       "  </tbody>\n",
       "</table>\n",
       "</div>"
      ],
      "text/plain": [
       "                                                   product_id  price  \\\n",
       "post_title                                                             \n",
       "Champagne Gosset Grand Blanc de Blancs                   4334   49.0   \n",
       "Champagne Gosset Grand Rosé                              4144   49.0   \n",
       "Cognac Frapin VIP XO                                     4402  176.0   \n",
       "Champagne Gosset Grand Millésime 2006                    4142   53.0   \n",
       "Champagne Gosset Grande Réserve                          4141   39.0   \n",
       "Champagne Egly-Ouriet Grand Cru Blanc de Noirs           4355  126.5   \n",
       "Champagne Egly-Ouriet Grand Cru Millésimé 2008           4352  225.0   \n",
       "Elian Daros Côtes du Marmandais Clos Baquey 2015         4153   29.0   \n",
       "Domaine Giudicelli Patrimonio Blanc 2019                 6206   25.2   \n",
       "Gilles Robin Crozes-Hermitage Rouge Papillon 2019        4068   16.6   \n",
       "\n",
       "                                                   stock_quantity  \\\n",
       "post_title                                                          \n",
       "Champagne Gosset Grand Blanc de Blancs                          0   \n",
       "Champagne Gosset Grand Rosé                                    11   \n",
       "Cognac Frapin VIP XO                                            8   \n",
       "Champagne Gosset Grand Millésime 2006                           8   \n",
       "Champagne Gosset Grande Réserve                                 1   \n",
       "Champagne Egly-Ouriet Grand Cru Blanc de Noirs                  2   \n",
       "Champagne Egly-Ouriet Grand Cru Millésimé 2008                  0   \n",
       "Elian Daros Côtes du Marmandais Clos Baquey 2015                0   \n",
       "Domaine Giudicelli Patrimonio Blanc 2019                      120   \n",
       "Gilles Robin Crozes-Hermitage Rouge Papillon 2019             157   \n",
       "\n",
       "                                                   total_sales  Revenue  \n",
       "post_title                                                               \n",
       "Champagne Gosset Grand Blanc de Blancs                    96.0   4704.0  \n",
       "Champagne Gosset Grand Rosé                               87.0   4263.0  \n",
       "Cognac Frapin VIP XO                                      13.0   2288.0  \n",
       "Champagne Gosset Grand Millésime 2006                     30.0   1590.0  \n",
       "Champagne Gosset Grande Réserve                           40.0   1560.0  \n",
       "Champagne Egly-Ouriet Grand Cru Blanc de Noirs            11.0   1391.5  \n",
       "Champagne Egly-Ouriet Grand Cru Millésimé 2008             5.0   1125.0  \n",
       "Elian Daros Côtes du Marmandais Clos Baquey 2015          36.0   1044.0  \n",
       "Domaine Giudicelli Patrimonio Blanc 2019                  41.0   1033.2  \n",
       "Gilles Robin Crozes-Hermitage Rouge Papillon 2019         62.0   1029.2  "
      ]
     },
     "metadata": {},
     "output_type": "display_data"
    },
    {
     "data": {
      "text/plain": []
     },
     "execution_count": 88,
     "metadata": {},
     "output_type": "execute_result"
    }
   ],
   "source": [
    "WebSales.sort_values(by=\"Revenue\", ascending=False).head(10).set_index('post_title')"
   ]
  },
  {
   "cell_type": "code",
   "execution_count": 89,
   "metadata": {},
   "outputs": [
    {
     "data": {
      "text/plain": [
       "<seaborn.axisgrid.FacetGrid at 0x24ecd914a90>"
      ]
     },
     "execution_count": 89,
     "metadata": {},
     "output_type": "execute_result"
    },
    {
     "data": {
      "text/plain": [
       "<Figure size 576x576 with 0 Axes>"
      ]
     },
     "metadata": {},
     "output_type": "display_data"
    },
    {
     "data": {
      "image/png": "[encoded data removed]",
      "text/plain": [
       "<Figure size 416.5x360 with 1 Axes>"
      ]
     },
     "metadata": {},
     "output_type": "display_data"
    }
   ],
   "source": [
    "x=WebSales.query(\"Revenue>0\").price\n",
    "y=WebSales.query(\"Revenue>0\").Revenue\n",
    "s=WebSales.query('Revenue>0').total_sales\n",
    "plt.figure(figsize=(8,8))\n",
    "sns.set_style('whitegrid')\n",
    "sns.relplot(x=x,y=y,hue=s)"
   ]
  },
  {
   "cell_type": "code",
   "execution_count": 90,
   "metadata": {
    "scrolled": false
   },
   "outputs": [
    {
     "data": {
      "text/plain": [
       "<seaborn.axisgrid.FacetGrid at 0x24ecf5dea00>"
      ]
     },
     "execution_count": 90,
     "metadata": {},
     "output_type": "execute_result"
    },
    {
     "data": {
      "text/plain": [
       "<Figure size 576x576 with 0 Axes>"
      ]
     },
     "metadata": {},
     "output_type": "display_data"
    },
    {
     "data": {
      "image/png": "[encoded data removed]",
      "text/plain": [
       "<Figure size 412.875x360 with 1 Axes>"
      ]
     },
     "metadata": {},
     "output_type": "display_data"
    }
   ],
   "source": [
    "x=WebSales.query(\"Revenue>0 \").price\n",
    "y=WebSales.query(\"Revenue>0 \").Revenue\n",
    "s=WebSales.query('Revenue>0').total_sales\n",
    "plt.figure(figsize=(8,8))\n",
    "sns.set_style('whitegrid')\n",
    "sns.relplot(x=s,y=y,hue=x)"
   ]
  },
  {
   "cell_type": "code",
   "execution_count": 91,
   "metadata": {},
   "outputs": [
    {
     "data": {
      "text/plain": [
       "0.08592206732172665"
      ]
     },
     "execution_count": 91,
     "metadata": {},
     "output_type": "execute_result"
    }
   ],
   "source": [
    "WebSales.sort_values(by=\"Revenue\", ascending=False).head(32).query( \"price > 100\").Revenue.sum()/WebSales.Revenue.sum()\n"
   ]
  },
  {
   "cell_type": "code",
   "execution_count": 92,
   "metadata": {},
   "outputs": [
    {
     "name": "stderr",
     "output_type": "stream",
     "text": [
      "C:\\Users\\mario\\anaconda3\\lib\\site-packages\\IPython\\core\\formatters.py:345: UserWarning:\n",
      "Lux defaults to Pandas when there are no valid actions defined.\n"
     ]
    },
    {
     "data": {
      "text/html": [
       "<div>\n",
       "<style scoped>\n",
       "    .dataframe tbody tr th:only-of-type {\n",
       "        vertical-align: middle;\n",
       "    }\n",
       "\n",
       "    .dataframe tbody tr th {\n",
       "        vertical-align: top;\n",
       "    }\n",
       "\n",
       "    .dataframe thead th {\n",
       "        text-align: right;\n",
       "    }\n",
       "</style>\n",
       "<table border=\"1\" class=\"dataframe\">\n",
       "  <thead>\n",
       "    <tr style=\"text-align: right;\">\n",
       "      <th></th>\n",
       "      <th>product_id</th>\n",
       "      <th>price</th>\n",
       "      <th>stock_quantity</th>\n",
       "      <th>total_sales</th>\n",
       "      <th>post_title</th>\n",
       "      <th>Revenue</th>\n",
       "    </tr>\n",
       "  </thead>\n",
       "  <tbody>\n",
       "    <tr>\n",
       "      <th>388</th>\n",
       "      <td>4334</td>\n",
       "      <td>49.0</td>\n",
       "      <td>0</td>\n",
       "      <td>96.0</td>\n",
       "      <td>Champagne Gosset Grand Blanc de Blancs</td>\n",
       "      <td>4704.0</td>\n",
       "    </tr>\n",
       "    <tr>\n",
       "      <th>142</th>\n",
       "      <td>4144</td>\n",
       "      <td>49.0</td>\n",
       "      <td>11</td>\n",
       "      <td>87.0</td>\n",
       "      <td>Champagne Gosset Grand Rosé</td>\n",
       "      <td>4263.0</td>\n",
       "    </tr>\n",
       "    <tr>\n",
       "      <th>60</th>\n",
       "      <td>4068</td>\n",
       "      <td>16.6</td>\n",
       "      <td>157</td>\n",
       "      <td>62.0</td>\n",
       "      <td>Gilles Robin Crozes-Hermitage Rouge Papillon 2019</td>\n",
       "      <td>1029.2</td>\n",
       "    </tr>\n",
       "    <tr>\n",
       "      <th>238</th>\n",
       "      <td>4200</td>\n",
       "      <td>5.8</td>\n",
       "      <td>190</td>\n",
       "      <td>46.0</td>\n",
       "      <td>Moulin de Gassac IGP Pays d'Hérault Guilhem Rosé 2019</td>\n",
       "      <td>266.8</td>\n",
       "    </tr>\n",
       "    <tr>\n",
       "      <th>194</th>\n",
       "      <td>4172</td>\n",
       "      <td>5.7</td>\n",
       "      <td>167</td>\n",
       "      <td>43.0</td>\n",
       "      <td>Maurel Pays d'Oc Chardonnay 2019</td>\n",
       "      <td>245.1</td>\n",
       "    </tr>\n",
       "    <tr>\n",
       "      <th>218</th>\n",
       "      <td>4187</td>\n",
       "      <td>13.3</td>\n",
       "      <td>90</td>\n",
       "      <td>42.0</td>\n",
       "      <td>Le Pas de l'Escalette Languedoc Les Petits Pas 2019</td>\n",
       "      <td>558.6</td>\n",
       "    </tr>\n",
       "    <tr>\n",
       "      <th>1302</th>\n",
       "      <td>6206</td>\n",
       "      <td>25.2</td>\n",
       "      <td>120</td>\n",
       "      <td>41.0</td>\n",
       "      <td>Domaine Giudicelli Patrimonio Blanc 2019</td>\n",
       "      <td>1033.2</td>\n",
       "    </tr>\n",
       "    <tr>\n",
       "      <th>138</th>\n",
       "      <td>4141</td>\n",
       "      <td>39.0</td>\n",
       "      <td>1</td>\n",
       "      <td>40.0</td>\n",
       "      <td>Champagne Gosset Grande Réserve</td>\n",
       "      <td>1560.0</td>\n",
       "    </tr>\n",
       "    <tr>\n",
       "      <th>648</th>\n",
       "      <td>4729</td>\n",
       "      <td>8.6</td>\n",
       "      <td>151</td>\n",
       "      <td>38.0</td>\n",
       "      <td>Emile Boeckel Crémant Brut Blanc de Blancs</td>\n",
       "      <td>326.8</td>\n",
       "    </tr>\n",
       "    <tr>\n",
       "      <th>1250</th>\n",
       "      <td>6047</td>\n",
       "      <td>10.9</td>\n",
       "      <td>46</td>\n",
       "      <td>38.0</td>\n",
       "      <td>Château de La Liquière Faugères L'Ampoule 2019</td>\n",
       "      <td>414.2</td>\n",
       "    </tr>\n",
       "    <tr>\n",
       "      <th>1304</th>\n",
       "      <td>6207</td>\n",
       "      <td>25.2</td>\n",
       "      <td>363</td>\n",
       "      <td>37.0</td>\n",
       "      <td>Domaine Giudicelli Patrimonio Rouge 2016</td>\n",
       "      <td>932.4</td>\n",
       "    </tr>\n",
       "    <tr>\n",
       "      <th>158</th>\n",
       "      <td>4153</td>\n",
       "      <td>29.0</td>\n",
       "      <td>0</td>\n",
       "      <td>36.0</td>\n",
       "      <td>Elian Daros Côtes du Marmandais Clos Baquey 2015</td>\n",
       "      <td>1044.0</td>\n",
       "    </tr>\n",
       "    <tr>\n",
       "      <th>746</th>\n",
       "      <td>4891</td>\n",
       "      <td>27.9</td>\n",
       "      <td>0</td>\n",
       "      <td>36.0</td>\n",
       "      <td>Jacqueson Rully Blanc 1er Cru La Pucelle 2018</td>\n",
       "      <td>1004.4</td>\n",
       "    </tr>\n",
       "    <tr>\n",
       "      <th>732</th>\n",
       "      <td>4870</td>\n",
       "      <td>9.3</td>\n",
       "      <td>0</td>\n",
       "      <td>33.0</td>\n",
       "      <td>Triennes IGP Méditerranée Rosé 2019</td>\n",
       "      <td>306.9</td>\n",
       "    </tr>\n",
       "    <tr>\n",
       "      <th>608</th>\n",
       "      <td>4706</td>\n",
       "      <td>16.8</td>\n",
       "      <td>23</td>\n",
       "      <td>32.0</td>\n",
       "      <td>Albert Mann Muscat 2018</td>\n",
       "      <td>537.6</td>\n",
       "    </tr>\n",
       "    <tr>\n",
       "      <th>140</th>\n",
       "      <td>4142</td>\n",
       "      <td>53.0</td>\n",
       "      <td>8</td>\n",
       "      <td>30.0</td>\n",
       "      <td>Champagne Gosset Grand Millésime 2006</td>\n",
       "      <td>1590.0</td>\n",
       "    </tr>\n",
       "    <tr>\n",
       "      <th>310</th>\n",
       "      <td>4250</td>\n",
       "      <td>19.5</td>\n",
       "      <td>14</td>\n",
       "      <td>30.0</td>\n",
       "      <td>Domaine Saint-Denis Bourgogne Rouge Clos de la Coque 2018</td>\n",
       "      <td>585.0</td>\n",
       "    </tr>\n",
       "    <tr>\n",
       "      <th>722</th>\n",
       "      <td>4861</td>\n",
       "      <td>8.5</td>\n",
       "      <td>284</td>\n",
       "      <td>29.0</td>\n",
       "      <td>Philippe Nusswitz Duché d'Uzès Orénia Rouge 2017</td>\n",
       "      <td>246.5</td>\n",
       "    </tr>\n",
       "    <tr>\n",
       "      <th>828</th>\n",
       "      <td>4965</td>\n",
       "      <td>7.1</td>\n",
       "      <td>203</td>\n",
       "      <td>26.0</td>\n",
       "      <td>Château Turcaud Entre-Deux-Mers 2019</td>\n",
       "      <td>184.6</td>\n",
       "    </tr>\n",
       "    <tr>\n",
       "      <th>1122</th>\n",
       "      <td>5778</td>\n",
       "      <td>5.8</td>\n",
       "      <td>36</td>\n",
       "      <td>24.0</td>\n",
       "      <td>Maurel Pays d'Oc Merlot 2018</td>\n",
       "      <td>139.2</td>\n",
       "    </tr>\n",
       "  </tbody>\n",
       "</table>\n",
       "</div>"
      ],
      "text/plain": [
       "      product_id  price  stock_quantity  total_sales  \\\n",
       "388         4334   49.0               0         96.0   \n",
       "142         4144   49.0              11         87.0   \n",
       "60          4068   16.6             157         62.0   \n",
       "238         4200    5.8             190         46.0   \n",
       "194         4172    5.7             167         43.0   \n",
       "218         4187   13.3              90         42.0   \n",
       "1302        6206   25.2             120         41.0   \n",
       "138         4141   39.0               1         40.0   \n",
       "648         4729    8.6             151         38.0   \n",
       "1250        6047   10.9              46         38.0   \n",
       "1304        6207   25.2             363         37.0   \n",
       "158         4153   29.0               0         36.0   \n",
       "746         4891   27.9               0         36.0   \n",
       "732         4870    9.3               0         33.0   \n",
       "608         4706   16.8              23         32.0   \n",
       "140         4142   53.0               8         30.0   \n",
       "310         4250   19.5              14         30.0   \n",
       "722         4861    8.5             284         29.0   \n",
       "828         4965    7.1             203         26.0   \n",
       "1122        5778    5.8              36         24.0   \n",
       "\n",
       "                                                     post_title  Revenue  \n",
       "388                      Champagne Gosset Grand Blanc de Blancs   4704.0  \n",
       "142                                 Champagne Gosset Grand Rosé   4263.0  \n",
       "60            Gilles Robin Crozes-Hermitage Rouge Papillon 2019   1029.2  \n",
       "238       Moulin de Gassac IGP Pays d'Hérault Guilhem Rosé 2019    266.8  \n",
       "194                            Maurel Pays d'Oc Chardonnay 2019    245.1  \n",
       "218         Le Pas de l'Escalette Languedoc Les Petits Pas 2019    558.6  \n",
       "1302                   Domaine Giudicelli Patrimonio Blanc 2019   1033.2  \n",
       "138                             Champagne Gosset Grande Réserve   1560.0  \n",
       "648                  Emile Boeckel Crémant Brut Blanc de Blancs    326.8  \n",
       "1250             Château de La Liquière Faugères L'Ampoule 2019    414.2  \n",
       "1304                   Domaine Giudicelli Patrimonio Rouge 2016    932.4  \n",
       "158            Elian Daros Côtes du Marmandais Clos Baquey 2015   1044.0  \n",
       "746               Jacqueson Rully Blanc 1er Cru La Pucelle 2018   1004.4  \n",
       "732                         Triennes IGP Méditerranée Rosé 2019    306.9  \n",
       "608                                     Albert Mann Muscat 2018    537.6  \n",
       "140                       Champagne Gosset Grand Millésime 2006   1590.0  \n",
       "310   Domaine Saint-Denis Bourgogne Rouge Clos de la Coque 2018    585.0  \n",
       "722            Philippe Nusswitz Duché d'Uzès Orénia Rouge 2017    246.5  \n",
       "828                        Château Turcaud Entre-Deux-Mers 2019    184.6  \n",
       "1122                               Maurel Pays d'Oc Merlot 2018    139.2  "
      ]
     },
     "metadata": {},
     "output_type": "display_data"
    },
    {
     "data": {
      "text/plain": []
     },
     "execution_count": 92,
     "metadata": {},
     "output_type": "execute_result"
    }
   ],
   "source": [
    "WebSales.query(\"Revenue>0\").sort_values(by=\"total_sales\", ascending=False).head(20)"
   ]
  },
  {
   "cell_type": "code",
   "execution_count": 93,
   "metadata": {},
   "outputs": [
    {
     "data": {
      "text/plain": [
       "<seaborn.axisgrid.FacetGrid at 0x24ecf585ac0>"
      ]
     },
     "execution_count": 93,
     "metadata": {},
     "output_type": "execute_result"
    },
    {
     "data": {
      "image/png": "[encoded data removed]",
      "text/plain": [
       "<Figure size 416.5x360 with 1 Axes>"
      ]
     },
     "metadata": {},
     "output_type": "display_data"
    }
   ],
   "source": [
    "sns.relplot(data= WebSales.query('Revenue>0 & price <18'), x='price',y='Revenue', size='total_sales', color='#AD283B')"
   ]
  },
  {
   "cell_type": "code",
   "execution_count": 94,
   "metadata": {},
   "outputs": [
    {
     "name": "stdout",
     "output_type": "stream",
     "text": [
      "le taux de convertion de l'offre de bouteilles à moins de 18€ en achat est de 70% \n"
     ]
    }
   ],
   "source": [
    "print(\"le taux de convertion de l'offre de bouteilles à moins de 18€ en achat est de {}% \".format(round(WebSales.query('Revenue>0 & price <18').post_title.nunique()*100/WebSales.query('price <18').post_title.nunique())))"
   ]
  },
  {
   "cell_type": "markdown",
   "metadata": {},
   "source": [
    "<h2> Analyse des prix</h2>"
   ]
  },
  {
   "cell_type": "code",
   "execution_count": 95,
   "metadata": {
    "scrolled": true
   },
   "outputs": [
    {
     "data": {
      "application/vnd.jupyter.widget-view+json": {
       "model_id": "d4072ba1a359415c84c71697770bb2f7",
       "version_major": 2,
       "version_minor": 0
      },
      "text/plain": [
       "Button(description='Toggle Pandas/Lux', layout=Layout(top='5px', width='140px'), style=ButtonStyle())"
      ]
     },
     "metadata": {},
     "output_type": "display_data"
    },
    {
     "data": {
      "application/vnd.jupyter.widget-view+json": {
       "model_id": "b6164e0e840a46f4858f9a2572afc3ec",
       "version_major": 2,
       "version_minor": 0
      },
      "text/plain": [
       "Output()"
      ]
     },
     "metadata": {},
     "output_type": "display_data"
    },
    {
     "data": {
      "text/plain": []
     },
     "execution_count": 95,
     "metadata": {},
     "output_type": "execute_result"
    }
   ],
   "source": [
    "WebSales.price.describe()"
   ]
  },
  {
   "cell_type": "markdown",
   "metadata": {},
   "source": [
    "Un premier coup d'oeil rapide montre notre gamme de produit a un <b> prix moyen de32,5 €</b>, avec <b>50% des références proposées à moins de 23,45€ </b>. Quelques références proposées plus chères tirent la moyennes. "
   ]
  },
  {
   "cell_type": "code",
   "execution_count": 96,
   "metadata": {},
   "outputs": [
    {
     "data": {
      "text/plain": [
       "Text(-26.55, 0.025, 'mediane: 23.45€')"
      ]
     },
     "execution_count": 96,
     "metadata": {},
     "output_type": "execute_result"
    },
    {
     "data": {
      "image/png": "[encoded data removed]",
      "text/plain": [
       "<Figure size 504x360 with 1 Axes>"
      ]
     },
     "metadata": {},
     "output_type": "display_data"
    }
   ],
   "source": [
    "ax = sns.displot(data=WebSales, x='price', kind='kde',\n",
    "                 color='#AD283B', height=5, aspect=1.4)\n",
    "ax.fig.suptitle('sur toute la gamme', fontsize=18, y= 0.04)\n",
    "#moyenne\n",
    "ax2 = plt.axvline(WebSales.price.mean(), color='#4a824b',\n",
    "                  alpha=0.5, label='mean')\n",
    "plt.text(x=WebSales.price.mean()+3, y=0.025,\n",
    "         s='mean: {:.2f}€'.format(WebSales.price.mean()), color='#4a824b')  \n",
    "#Médiane\n",
    "ax3 = plt.axvline(WebSales.price.quantile(0.5), color='grey', alpha=0.5)\n",
    "plt.text(x=WebSales.price.quantile(0.5)-50, y=0.025,\n",
    "         s='mediane: {:.2f}€'.format(WebSales.price.quantile(0.5)), color='grey')  "
   ]
  },
  {
   "cell_type": "code",
   "execution_count": 97,
   "metadata": {},
   "outputs": [
    {
     "data": {
      "text/plain": [
       "Text(-31.0, 0.03, 'mediane: 19.00€')"
      ]
     },
     "execution_count": 97,
     "metadata": {},
     "output_type": "execute_result"
    },
    {
     "data": {
      "image/png": "[encoded data removed]",
      "text/plain": [
       "<Figure size 504x360 with 1 Axes>"
      ]
     },
     "metadata": {},
     "output_type": "display_data"
    }
   ],
   "source": [
    "ax = sns.displot(data=WebSales.query(\"Revenue>0\"), x='price', kind='kde',\n",
    "                 color='#AD283B', height=5, aspect=1.4)\n",
    "ax.fig.suptitle('sur les produits ayant été vendus en ligne', fontsize=18, y= 0.04)\n",
    "#moyenne\n",
    "ax2 = plt.axvline(WebSales.query(\"Revenue>0\").price.mean(), color='#4a824b',\n",
    "                  alpha=0.5, label='mean')\n",
    "plt.text(x=WebSales.query(\"Revenue>0\").price.mean()+3, y=0.03,\n",
    "         s='mean: {:.2f}€'.format(WebSales.query(\"Revenue>0\").price.mean()), color='#4a824b')  \n",
    "#Médiane\n",
    "ax3 = plt.axvline(WebSales.query(\"Revenue>0\").price.quantile(0.5), color='grey', alpha=0.5)\n",
    "plt.text(x=WebSales.query(\"Revenue>0\").price.quantile(0.5)-50, y=0.03,\n",
    "         s='mediane: {:.2f}€'.format(WebSales.query(\"Revenue>0\").price.quantile(0.5)), color='grey')  "
   ]
  },
  {
   "cell_type": "code",
   "execution_count": 98,
   "metadata": {},
   "outputs": [
    {
     "name": "stdout",
     "output_type": "stream",
     "text": [
      "Gamme complète vendue en ligne\n",
      "coef d'assymétrie:\n",
      "2.5854684450399055\n",
      "coef d'applatissement :\n",
      "10.104339239492381\n",
      "Produits ayant été vendu en ligne\n",
      "coef d'assymétrie:\n",
      "3.714882099572873\n",
      "coef d'applatissement :\n",
      "20.132338986119123\n"
     ]
    }
   ],
   "source": [
    "print(\"Gamme complète vendue en ligne\")\n",
    "print(\"coef d'assymétrie:\")\n",
    "print(WebSales.price.skew())\n",
    "print(\"coef d'applatissement :\")\n",
    "print(WebSales.price.kurtosis())\n",
    "print(\"Produits ayant été vendu en ligne\")\n",
    "print(\"coef d'assymétrie:\")\n",
    "print(WebSales.query(\"Revenue>0\").price.skew())\n",
    "print(\"coef d'applatissement :\")\n",
    "print(WebSales.query(\"Revenue>0\").price.kurtosis())\n"
   ]
  },
  {
   "cell_type": "markdown",
   "metadata": {},
   "source": [
    "<h3>Détection des outliers:  Méthode des écarts interquartiles</h3>"
   ]
  },
  {
   "cell_type": "markdown",
   "metadata": {},
   "source": [
    "Selon la méthodes des écarts interquartiles, <b>toute bouteille vendue plus de 84,20€ </b>est un outlier. Graphiquement, on peut le représenter par une boite à moustache ou un graphique à densité de point"
   ]
  },
  {
   "cell_type": "code",
   "execution_count": 99,
   "metadata": {},
   "outputs": [
    {
     "name": "stdout",
     "output_type": "stream",
     "text": [
      "84.18125\n"
     ]
    }
   ],
   "source": [
    "Q1=WebSales.price.quantile(0.25)\n",
    "Q2=WebSales.price.quantile(0.5)\n",
    "Q3=WebSales.price.quantile(0.75)\n",
    "limOutlier=Q3 +(Q3-Q1)*1.5\n",
    "print(limOutlier)"
   ]
  },
  {
   "cell_type": "code",
   "execution_count": 100,
   "metadata": {
    "hide_input": true,
    "scrolled": true
   },
   "outputs": [
    {
     "data": {
      "text/plain": [
       "Text(0.5, 143.8, 'Tchebichev = 143.80 €')"
      ]
     },
     "execution_count": 100,
     "metadata": {},
     "output_type": "execute_result"
    },
    {
     "data": {
      "image/png": "[encoded data removed]",
      "text/plain": [
       "<Figure size 360x360 with 1 Axes>"
      ]
     },
     "metadata": {},
     "output_type": "display_data"
    }
   ],
   "source": [
    "ax= sns.catplot(data=WebSales, y='price', kind='strip',color='#AD283B')\n",
    "ax2=plt.axhline((Q3 +(Q3-Q1)*1.5), color='grey',dashes=(5, 2), label='84.20', alpha=0.5)\n",
    "plt.text(x = 0.5,y=83,s = 'IQR = 84.20 €',color = 'grey')\n",
    "ax3= plt.axhline(WebSales.price.mean()+ 4* WebSales.price.std(), color='grey',dashes=(5, 2), label='143.80€', alpha=0.5)\n",
    "plt.text(x = 0.5,y=143.8,s = 'Tchebichev = 143.80 €',color = 'grey')"
   ]
  },
  {
   "cell_type": "code",
   "execution_count": 101,
   "metadata": {
    "scrolled": true
   },
   "outputs": [
    {
     "data": {
      "image/png": "[encoded data removed]",
      "text/plain": [
       "<Figure size 360x360 with 1 Axes>"
      ]
     },
     "metadata": {},
     "output_type": "display_data"
    }
   ],
   "source": [
    "ax=sns.catplot(data=WebSales, y='price', kind='box',color='#AD283B' )\n"
   ]
  },
  {
   "cell_type": "markdown",
   "metadata": {},
   "source": [
    "Nous référençons <b>32 bouteilles avec un prix supérieur à 84.20€</b> dont <b>28 actuellement en stock</b> et <b>10</b> ayant fait l'objet d'une <b>vente sur internet</b>."
   ]
  },
  {
   "cell_type": "code",
   "execution_count": 102,
   "metadata": {
    "scrolled": true
   },
   "outputs": [
    {
     "data": {
      "application/vnd.jupyter.widget-view+json": {
       "model_id": "d38f9bb493f841e79835d211c0054dd4",
       "version_major": 2,
       "version_minor": 0
      },
      "text/plain": [
       "Button(description='Toggle Pandas/Lux', layout=Layout(top='5px', width='140px'), style=ButtonStyle())"
      ]
     },
     "metadata": {},
     "output_type": "display_data"
    },
    {
     "data": {
      "application/vnd.jupyter.widget-view+json": {
       "model_id": "75c801345c914bb48b2688b42a4e3955",
       "version_major": 2,
       "version_minor": 0
      },
      "text/plain": [
       "Output()"
      ]
     },
     "metadata": {},
     "output_type": "display_data"
    },
    {
     "data": {
      "text/plain": []
     },
     "execution_count": 102,
     "metadata": {},
     "output_type": "execute_result"
    }
   ],
   "source": [
    "WebSales.query(\"price>84.18125\").sort_values(by=\"price\",ascending=False)"
   ]
  },
  {
   "cell_type": "code",
   "execution_count": 103,
   "metadata": {},
   "outputs": [
    {
     "name": "stdout",
     "output_type": "stream",
     "text": [
      "nombre de référence de champagne vendues plus de 80.20€ :\n",
      "6\n",
      "nombre de référence de cognac vendues plus de 80.20€ :\n",
      "4\n",
      "nombre de référence de whisky vendues plus de 80.20€ :\n",
      "3\n"
     ]
    }
   ],
   "source": [
    "print(\"nombre de référence de champagne vendues plus de 80.20€ :\")\n",
    "print(len(WebSales.query(\"price>84.18125\")[WebSales.query(\"price>84.18125\").post_title.str.contains(\"Champagne\", case=False)]))\n",
    "print(\"nombre de référence de cognac vendues plus de 80.20€ :\")\n",
    "print(len(WebSales.query(\"price>84.18125\")[WebSales.query(\"price>84.18125\").post_title.str.contains(\"cognac\", case=False)]))\n",
    "print(\"nombre de référence de whisky vendues plus de 80.20€ :\")\n",
    "print(len(WebSales.query(\"price>84.18125\")[WebSales.query(\"price>84.18125\").post_title.str.contains(\"whisky\", case=False)]))"
   ]
  },
  {
   "cell_type": "code",
   "execution_count": 104,
   "metadata": {
    "scrolled": true
   },
   "outputs": [
    {
     "data": {
      "application/vnd.jupyter.widget-view+json": {
       "model_id": "c50610527aef4cef892c5358a33ae66f",
       "version_major": 2,
       "version_minor": 0
      },
      "text/plain": [
       "Button(description='Toggle Pandas/Lux', layout=Layout(top='5px', width='140px'), style=ButtonStyle())"
      ]
     },
     "metadata": {},
     "output_type": "display_data"
    },
    {
     "data": {
      "application/vnd.jupyter.widget-view+json": {
       "model_id": "f585aa4df2c04d3fb3935e87840904c6",
       "version_major": 2,
       "version_minor": 0
      },
      "text/plain": [
       "Output()"
      ]
     },
     "metadata": {},
     "output_type": "display_data"
    },
    {
     "data": {
      "text/plain": []
     },
     "execution_count": 104,
     "metadata": {},
     "output_type": "execute_result"
    }
   ],
   "source": [
    "WebSales.query(\"price>84.18125 & Revenue>0\").intent=['price','Revenue']\n",
    "WebSales.query(\"price>84.18125 & Revenue>0\")"
   ]
  },
  {
   "cell_type": "code",
   "execution_count": 105,
   "metadata": {},
   "outputs": [
    {
     "data": {
      "text/plain": [
       "<seaborn.axisgrid.FacetGrid at 0x24ec7d8a580>"
      ]
     },
     "execution_count": 105,
     "metadata": {},
     "output_type": "execute_result"
    },
    {
     "data": {
      "image/png": "[encoded data removed]",
      "text/plain": [
       "<Figure size 709.625x360 with 1 Axes>"
      ]
     },
     "metadata": {},
     "output_type": "display_data"
    }
   ],
   "source": [
    "sns.relplot(data=WebSales.query(\"price>84.18125 & Revenue>0\"), x='price', y='Revenue', hue='post_title')"
   ]
  },
  {
   "cell_type": "code",
   "execution_count": 106,
   "metadata": {},
   "outputs": [
    {
     "data": {
      "text/plain": [
       "0.09876914094937407"
      ]
     },
     "execution_count": 106,
     "metadata": {},
     "output_type": "execute_result"
    }
   ],
   "source": [
    "WebSales.query(\"price>84.18125 & Revenue>0\").Revenue.sum()/WebSales.Revenue.sum()"
   ]
  },
  {
   "cell_type": "markdown",
   "metadata": {},
   "source": [
    "Ces 10 références représentent presque 10% du CA réalisé en ligne."
   ]
  },
  {
   "cell_type": "markdown",
   "metadata": {},
   "source": [
    "<h3> Détection des outliers : Inégalité de Tchebychev </h3>"
   ]
  },
  {
   "cell_type": "code",
   "execution_count": 107,
   "metadata": {},
   "outputs": [
    {
     "data": {
      "text/plain": [
       "143.7695713709754"
      ]
     },
     "execution_count": 107,
     "metadata": {},
     "output_type": "execute_result"
    }
   ],
   "source": [
    "WebSales.price.mean()+ 4* WebSales.price.std()"
   ]
  },
  {
   "cell_type": "markdown",
   "metadata": {},
   "source": [
    "Selon ce Théorême,<b> au moins 94% des produits vendus sur le site devraient être vendu moins de 143,80€</b>. Selon cette méthode, nous n'avons que 6 outliers. 3 seulement ont fait l'objet d'une vente sur le site.\n"
   ]
  },
  {
   "cell_type": "code",
   "execution_count": 108,
   "metadata": {},
   "outputs": [
    {
     "data": {
      "application/vnd.jupyter.widget-view+json": {
       "model_id": "383d6a1f637746af99c415841143034b",
       "version_major": 2,
       "version_minor": 0
      },
      "text/plain": [
       "Button(description='Toggle Pandas/Lux', layout=Layout(top='5px', width='140px'), style=ButtonStyle())"
      ]
     },
     "metadata": {},
     "output_type": "display_data"
    },
    {
     "data": {
      "application/vnd.jupyter.widget-view+json": {
       "model_id": "a5a94a1012c24987a061be8c0b3b7cbb",
       "version_major": 2,
       "version_minor": 0
      },
      "text/plain": [
       "Output()"
      ]
     },
     "metadata": {},
     "output_type": "display_data"
    },
    {
     "data": {
      "text/plain": []
     },
     "execution_count": 108,
     "metadata": {},
     "output_type": "execute_result"
    }
   ],
   "source": [
    "WebSales.query(\"price>143.8\")"
   ]
  },
  {
   "cell_type": "code",
   "execution_count": 109,
   "metadata": {
    "scrolled": true
   },
   "outputs": [
    {
     "data": {
      "text/plain": [
       "Text(0.5, 143.8, '143.80 €')"
      ]
     },
     "execution_count": 109,
     "metadata": {},
     "output_type": "execute_result"
    },
    {
     "data": {
      "image/png": "[encoded data removed]",
      "text/plain": [
       "<Figure size 360x360 with 1 Axes>"
      ]
     },
     "metadata": {},
     "output_type": "display_data"
    }
   ],
   "source": [
    "ax= sns.catplot(data=WebSales, y='price', kind='strip',color='#AD283B' )\n",
    "ax2=plt.axhline(WebSales.price.mean()+ 4* WebSales.price.std(), color='grey',dashes=(5, 2), label='143.80€', alpha=0.5)\n",
    "plt.text(x = 0.5,y=143.8,s = '143.80 €',color = 'grey')"
   ]
  },
  {
   "cell_type": "markdown",
   "metadata": {},
   "source": [
    "<h3> Représentation graphique</h3>"
   ]
  },
  {
   "cell_type": "markdown",
   "metadata": {},
   "source": [
    "Selon la <b>méthodes des écarts interquartiles</b>, toute bouteille vendue plus de <b>84,20€</b> est un outlier. <br> <br>\n",
    "Nous référençons <b>32 bouteilles avec un prix supérieur à 84.20€</b> dont <b>28 actuellement en stock</b> et <b>10</b> ayant fait l'objet d'une <b>vente sur internet</b>.\n",
    "<br><br>Selon le <b>Théorême de Tchevichev</b>,on peut considérer comme outlier toute bouteille vendue plus de <b> 143,80€</b>. <br><br>"
   ]
  },
  {
   "cell_type": "code",
   "execution_count": 110,
   "metadata": {
    "hide_input": true
   },
   "outputs": [
    {
     "data": {
      "text/plain": [
       "Text(0.5, 0.98, 'Répartition prix des vins')"
      ]
     },
     "execution_count": 110,
     "metadata": {},
     "output_type": "execute_result"
    },
    {
     "data": {
      "image/png": "[encoded data removed]",
      "text/plain": [
       "<Figure size 360x360 with 1 Axes>"
      ]
     },
     "metadata": {},
     "output_type": "display_data"
    }
   ],
   "source": [
    "ax= sns.catplot(data=WebSales, y='price', kind='strip',color='#AD283B')\n",
    "ax2=plt.axhline((Q3 +(Q3-Q1)*1.5), color='grey',dashes=(5, 2), label='84.20', alpha=0.5)\n",
    "plt.text(x = 0.5,y=83,s = 'IQR = 84.20 €',color = 'grey')\n",
    "ax3= plt.axhline(WebSales.price.mean()+ 4* WebSales.price.std(), color='grey',dashes=(5, 2), label='143.80€', alpha=0.5)\n",
    "plt.text(x = 0.5,y=143.8,s = 'Tchebichev = 143.80 €',color = 'grey')\n",
    "ax.fig.suptitle('Répartition prix des vins', fontsize=18)"
   ]
  },
  {
   "cell_type": "code",
   "execution_count": 111,
   "metadata": {
    "hide_input": true
   },
   "outputs": [
    {
     "data": {
      "text/plain": [
       "Text(0.5, 0.98, 'Reférences vendues plus de 84.20€ et générant plus de 500€ de CA')"
      ]
     },
     "execution_count": 111,
     "metadata": {},
     "output_type": "execute_result"
    },
    {
     "data": {
      "image/png": "[encoded data removed]",
      "text/plain": [
       "<Figure size 360x360 with 1 Axes>"
      ]
     },
     "metadata": {},
     "output_type": "display_data"
    }
   ],
   "source": [
    "ax=sns.relplot(data=WebSales.query(\"price>84.18125 & Revenue>500\"), x='price', y='Revenue', hue='post_title', legend=False)\n",
    "ax.fig.suptitle('Reférences vendues plus de 84.20€ et générant plus de 500€ de CA', fontsize=18)"
   ]
  },
  {
   "cell_type": "code",
   "execution_count": 112,
   "metadata": {},
   "outputs": [
    {
     "data": {
      "application/vnd.jupyter.widget-view+json": {
       "model_id": "9ca6b28c682a44e8b278ce67e973af00",
       "version_major": 2,
       "version_minor": 0
      },
      "text/plain": [
       "Button(description='Toggle Pandas/Lux', layout=Layout(top='5px', width='140px'), style=ButtonStyle())"
      ]
     },
     "metadata": {},
     "output_type": "display_data"
    },
    {
     "data": {
      "application/vnd.jupyter.widget-view+json": {
       "model_id": "a17451c8c78044fdac6ef36fe8ec601f",
       "version_major": 2,
       "version_minor": 0
      },
      "text/plain": [
       "Output()"
      ]
     },
     "metadata": {},
     "output_type": "display_data"
    },
    {
     "data": {
      "text/plain": []
     },
     "execution_count": 112,
     "metadata": {},
     "output_type": "execute_result"
    }
   ],
   "source": [
    "WebSales.query(\"price>143 & Revenue>0\")"
   ]
  },
  {
   "cell_type": "code",
   "execution_count": 113,
   "metadata": {},
   "outputs": [
    {
     "data": {
      "text/plain": [
       "0.5393258426966292"
      ]
     },
     "execution_count": 113,
     "metadata": {},
     "output_type": "execute_result"
    }
   ],
   "source": [
    "len(WebSales.query(\"Revenue>0\").post_title)/len(WebSales.post_title)"
   ]
  },
  {
   "cell_type": "code",
   "execution_count": 114,
   "metadata": {},
   "outputs": [
    {
     "data": {
      "text/plain": [
       "<seaborn.axisgrid.FacetGrid at 0x24ed09f2be0>"
      ]
     },
     "execution_count": 114,
     "metadata": {},
     "output_type": "execute_result"
    },
    {
     "data": {
      "image/png": "[encoded data removed]",
      "text/plain": [
       "<Figure size 416.5x360 with 1 Axes>"
      ]
     },
     "metadata": {},
     "output_type": "display_data"
    }
   ],
   "source": [
    "sns.relplot(data= WebSales.query('Revenue>0 & price <18'), x='price',y='Revenue', size='total_sales', color='#AD283B')"
   ]
  },
  {
   "cell_type": "code",
   "execution_count": 115,
   "metadata": {},
   "outputs": [
    {
     "name": "stderr",
     "output_type": "stream",
     "text": [
      "C:\\Users\\mario\\anaconda3\\lib\\site-packages\\IPython\\core\\formatters.py:345: UserWarning:\n",
      "Lux defaults to Pandas when there are no valid actions defined.\n"
     ]
    },
    {
     "data": {
      "text/html": [
       "<div>\n",
       "<style scoped>\n",
       "    .dataframe tbody tr th:only-of-type {\n",
       "        vertical-align: middle;\n",
       "    }\n",
       "\n",
       "    .dataframe tbody tr th {\n",
       "        vertical-align: top;\n",
       "    }\n",
       "\n",
       "    .dataframe thead th {\n",
       "        text-align: right;\n",
       "    }\n",
       "</style>\n",
       "<table border=\"1\" class=\"dataframe\">\n",
       "  <thead>\n",
       "    <tr style=\"text-align: right;\">\n",
       "      <th></th>\n",
       "      <th>product_id</th>\n",
       "      <th>price</th>\n",
       "      <th>stock_quantity</th>\n",
       "      <th>total_sales</th>\n",
       "      <th>post_title</th>\n",
       "      <th>Revenue</th>\n",
       "    </tr>\n",
       "  </thead>\n",
       "  <tbody>\n",
       "    <tr>\n",
       "      <th>388</th>\n",
       "      <td>4334</td>\n",
       "      <td>49.0</td>\n",
       "      <td>0</td>\n",
       "      <td>96.0</td>\n",
       "      <td>Champagne Gosset Grand Blanc de Blancs</td>\n",
       "      <td>4704.0</td>\n",
       "    </tr>\n",
       "    <tr>\n",
       "      <th>142</th>\n",
       "      <td>4144</td>\n",
       "      <td>49.0</td>\n",
       "      <td>11</td>\n",
       "      <td>87.0</td>\n",
       "      <td>Champagne Gosset Grand Rosé</td>\n",
       "      <td>4263.0</td>\n",
       "    </tr>\n",
       "    <tr>\n",
       "      <th>60</th>\n",
       "      <td>4068</td>\n",
       "      <td>16.6</td>\n",
       "      <td>157</td>\n",
       "      <td>62.0</td>\n",
       "      <td>Gilles Robin Crozes-Hermitage Rouge Papillon 2019</td>\n",
       "      <td>1029.2</td>\n",
       "    </tr>\n",
       "    <tr>\n",
       "      <th>238</th>\n",
       "      <td>4200</td>\n",
       "      <td>5.8</td>\n",
       "      <td>190</td>\n",
       "      <td>46.0</td>\n",
       "      <td>Moulin de Gassac IGP Pays d'Hérault Guilhem Rosé 2019</td>\n",
       "      <td>266.8</td>\n",
       "    </tr>\n",
       "    <tr>\n",
       "      <th>194</th>\n",
       "      <td>4172</td>\n",
       "      <td>5.7</td>\n",
       "      <td>167</td>\n",
       "      <td>43.0</td>\n",
       "      <td>Maurel Pays d'Oc Chardonnay 2019</td>\n",
       "      <td>245.1</td>\n",
       "    </tr>\n",
       "    <tr>\n",
       "      <th>218</th>\n",
       "      <td>4187</td>\n",
       "      <td>13.3</td>\n",
       "      <td>90</td>\n",
       "      <td>42.0</td>\n",
       "      <td>Le Pas de l'Escalette Languedoc Les Petits Pas 2019</td>\n",
       "      <td>558.6</td>\n",
       "    </tr>\n",
       "    <tr>\n",
       "      <th>1302</th>\n",
       "      <td>6206</td>\n",
       "      <td>25.2</td>\n",
       "      <td>120</td>\n",
       "      <td>41.0</td>\n",
       "      <td>Domaine Giudicelli Patrimonio Blanc 2019</td>\n",
       "      <td>1033.2</td>\n",
       "    </tr>\n",
       "    <tr>\n",
       "      <th>138</th>\n",
       "      <td>4141</td>\n",
       "      <td>39.0</td>\n",
       "      <td>1</td>\n",
       "      <td>40.0</td>\n",
       "      <td>Champagne Gosset Grande Réserve</td>\n",
       "      <td>1560.0</td>\n",
       "    </tr>\n",
       "    <tr>\n",
       "      <th>648</th>\n",
       "      <td>4729</td>\n",
       "      <td>8.6</td>\n",
       "      <td>151</td>\n",
       "      <td>38.0</td>\n",
       "      <td>Emile Boeckel Crémant Brut Blanc de Blancs</td>\n",
       "      <td>326.8</td>\n",
       "    </tr>\n",
       "    <tr>\n",
       "      <th>1250</th>\n",
       "      <td>6047</td>\n",
       "      <td>10.9</td>\n",
       "      <td>46</td>\n",
       "      <td>38.0</td>\n",
       "      <td>Château de La Liquière Faugères L'Ampoule 2019</td>\n",
       "      <td>414.2</td>\n",
       "    </tr>\n",
       "    <tr>\n",
       "      <th>1304</th>\n",
       "      <td>6207</td>\n",
       "      <td>25.2</td>\n",
       "      <td>363</td>\n",
       "      <td>37.0</td>\n",
       "      <td>Domaine Giudicelli Patrimonio Rouge 2016</td>\n",
       "      <td>932.4</td>\n",
       "    </tr>\n",
       "    <tr>\n",
       "      <th>158</th>\n",
       "      <td>4153</td>\n",
       "      <td>29.0</td>\n",
       "      <td>0</td>\n",
       "      <td>36.0</td>\n",
       "      <td>Elian Daros Côtes du Marmandais Clos Baquey 2015</td>\n",
       "      <td>1044.0</td>\n",
       "    </tr>\n",
       "    <tr>\n",
       "      <th>746</th>\n",
       "      <td>4891</td>\n",
       "      <td>27.9</td>\n",
       "      <td>0</td>\n",
       "      <td>36.0</td>\n",
       "      <td>Jacqueson Rully Blanc 1er Cru La Pucelle 2018</td>\n",
       "      <td>1004.4</td>\n",
       "    </tr>\n",
       "    <tr>\n",
       "      <th>732</th>\n",
       "      <td>4870</td>\n",
       "      <td>9.3</td>\n",
       "      <td>0</td>\n",
       "      <td>33.0</td>\n",
       "      <td>Triennes IGP Méditerranée Rosé 2019</td>\n",
       "      <td>306.9</td>\n",
       "    </tr>\n",
       "    <tr>\n",
       "      <th>608</th>\n",
       "      <td>4706</td>\n",
       "      <td>16.8</td>\n",
       "      <td>23</td>\n",
       "      <td>32.0</td>\n",
       "      <td>Albert Mann Muscat 2018</td>\n",
       "      <td>537.6</td>\n",
       "    </tr>\n",
       "    <tr>\n",
       "      <th>140</th>\n",
       "      <td>4142</td>\n",
       "      <td>53.0</td>\n",
       "      <td>8</td>\n",
       "      <td>30.0</td>\n",
       "      <td>Champagne Gosset Grand Millésime 2006</td>\n",
       "      <td>1590.0</td>\n",
       "    </tr>\n",
       "    <tr>\n",
       "      <th>310</th>\n",
       "      <td>4250</td>\n",
       "      <td>19.5</td>\n",
       "      <td>14</td>\n",
       "      <td>30.0</td>\n",
       "      <td>Domaine Saint-Denis Bourgogne Rouge Clos de la Coque 2018</td>\n",
       "      <td>585.0</td>\n",
       "    </tr>\n",
       "    <tr>\n",
       "      <th>722</th>\n",
       "      <td>4861</td>\n",
       "      <td>8.5</td>\n",
       "      <td>284</td>\n",
       "      <td>29.0</td>\n",
       "      <td>Philippe Nusswitz Duché d'Uzès Orénia Rouge 2017</td>\n",
       "      <td>246.5</td>\n",
       "    </tr>\n",
       "    <tr>\n",
       "      <th>828</th>\n",
       "      <td>4965</td>\n",
       "      <td>7.1</td>\n",
       "      <td>203</td>\n",
       "      <td>26.0</td>\n",
       "      <td>Château Turcaud Entre-Deux-Mers 2019</td>\n",
       "      <td>184.6</td>\n",
       "    </tr>\n",
       "    <tr>\n",
       "      <th>1122</th>\n",
       "      <td>5778</td>\n",
       "      <td>5.8</td>\n",
       "      <td>36</td>\n",
       "      <td>24.0</td>\n",
       "      <td>Maurel Pays d'Oc Merlot 2018</td>\n",
       "      <td>139.2</td>\n",
       "    </tr>\n",
       "  </tbody>\n",
       "</table>\n",
       "</div>"
      ],
      "text/plain": [
       "      product_id  price  stock_quantity  total_sales  \\\n",
       "388         4334   49.0               0         96.0   \n",
       "142         4144   49.0              11         87.0   \n",
       "60          4068   16.6             157         62.0   \n",
       "238         4200    5.8             190         46.0   \n",
       "194         4172    5.7             167         43.0   \n",
       "218         4187   13.3              90         42.0   \n",
       "1302        6206   25.2             120         41.0   \n",
       "138         4141   39.0               1         40.0   \n",
       "648         4729    8.6             151         38.0   \n",
       "1250        6047   10.9              46         38.0   \n",
       "1304        6207   25.2             363         37.0   \n",
       "158         4153   29.0               0         36.0   \n",
       "746         4891   27.9               0         36.0   \n",
       "732         4870    9.3               0         33.0   \n",
       "608         4706   16.8              23         32.0   \n",
       "140         4142   53.0               8         30.0   \n",
       "310         4250   19.5              14         30.0   \n",
       "722         4861    8.5             284         29.0   \n",
       "828         4965    7.1             203         26.0   \n",
       "1122        5778    5.8              36         24.0   \n",
       "\n",
       "                                                     post_title  Revenue  \n",
       "388                      Champagne Gosset Grand Blanc de Blancs   4704.0  \n",
       "142                                 Champagne Gosset Grand Rosé   4263.0  \n",
       "60            Gilles Robin Crozes-Hermitage Rouge Papillon 2019   1029.2  \n",
       "238       Moulin de Gassac IGP Pays d'Hérault Guilhem Rosé 2019    266.8  \n",
       "194                            Maurel Pays d'Oc Chardonnay 2019    245.1  \n",
       "218         Le Pas de l'Escalette Languedoc Les Petits Pas 2019    558.6  \n",
       "1302                   Domaine Giudicelli Patrimonio Blanc 2019   1033.2  \n",
       "138                             Champagne Gosset Grande Réserve   1560.0  \n",
       "648                  Emile Boeckel Crémant Brut Blanc de Blancs    326.8  \n",
       "1250             Château de La Liquière Faugères L'Ampoule 2019    414.2  \n",
       "1304                   Domaine Giudicelli Patrimonio Rouge 2016    932.4  \n",
       "158            Elian Daros Côtes du Marmandais Clos Baquey 2015   1044.0  \n",
       "746               Jacqueson Rully Blanc 1er Cru La Pucelle 2018   1004.4  \n",
       "732                         Triennes IGP Méditerranée Rosé 2019    306.9  \n",
       "608                                     Albert Mann Muscat 2018    537.6  \n",
       "140                       Champagne Gosset Grand Millésime 2006   1590.0  \n",
       "310   Domaine Saint-Denis Bourgogne Rouge Clos de la Coque 2018    585.0  \n",
       "722            Philippe Nusswitz Duché d'Uzès Orénia Rouge 2017    246.5  \n",
       "828                        Château Turcaud Entre-Deux-Mers 2019    184.6  \n",
       "1122                               Maurel Pays d'Oc Merlot 2018    139.2  "
      ]
     },
     "metadata": {},
     "output_type": "display_data"
    },
    {
     "data": {
      "text/plain": []
     },
     "execution_count": 115,
     "metadata": {},
     "output_type": "execute_result"
    }
   ],
   "source": [
    "WebSales.query(\"Revenue>0\").sort_values(by=\"total_sales\", ascending=False).head(20)"
   ]
  },
  {
   "cell_type": "markdown",
   "metadata": {},
   "source": [
    "<h1> Analyse du stock</h1>"
   ]
  },
  {
   "cell_type": "markdown",
   "metadata": {},
   "source": [
    "<h2> risque de sur-stocks</h2>"
   ]
  },
  {
   "cell_type": "code",
   "execution_count": 116,
   "metadata": {
    "hide_input": true
   },
   "outputs": [
    {
     "data": {
      "text/plain": [
       "<seaborn.axisgrid.FacetGrid at 0x24ed0a36880>"
      ]
     },
     "execution_count": 116,
     "metadata": {},
     "output_type": "execute_result"
    },
    {
     "data": {
      "image/png": "[encoded data removed]",
      "text/plain": [
       "<Figure size 360x360 with 1 Axes>"
      ]
     },
     "metadata": {},
     "output_type": "display_data"
    }
   ],
   "source": [
    "sns.displot(data= WebSales.query(\"stock_quantity>0\"), x='stock_quantity', hue='stock_quantity', legend=False)"
   ]
  },
  {
   "cell_type": "code",
   "execution_count": 117,
   "metadata": {
    "scrolled": false
   },
   "outputs": [
    {
     "data": {
      "application/vnd.jupyter.widget-view+json": {
       "model_id": "d9e47f89aad949c392d6ab514017744e",
       "version_major": 2,
       "version_minor": 0
      },
      "text/plain": [
       "Button(description='Toggle Pandas/Lux', layout=Layout(top='5px', width='140px'), style=ButtonStyle())"
      ]
     },
     "metadata": {},
     "output_type": "display_data"
    },
    {
     "data": {
      "application/vnd.jupyter.widget-view+json": {
       "model_id": "d71c9515a40d40a3b11afac2eb4352a4",
       "version_major": 2,
       "version_minor": 0
      },
      "text/plain": [
       "Output()"
      ]
     },
     "metadata": {},
     "output_type": "display_data"
    },
    {
     "data": {
      "text/plain": []
     },
     "execution_count": 117,
     "metadata": {},
     "output_type": "execute_result"
    }
   ],
   "source": [
    "WebSales.query(\"stock_quantity >300\")"
   ]
  },
  {
   "cell_type": "code",
   "execution_count": 118,
   "metadata": {},
   "outputs": [
    {
     "data": {
      "application/vnd.jupyter.widget-view+json": {
       "model_id": "478094dc3af54bf29fa9e10e92916136",
       "version_major": 2,
       "version_minor": 0
      },
      "text/plain": [
       "Button(description='Toggle Pandas/Lux', layout=Layout(top='5px', width='140px'), style=ButtonStyle())"
      ]
     },
     "metadata": {},
     "output_type": "display_data"
    },
    {
     "data": {
      "application/vnd.jupyter.widget-view+json": {
       "model_id": "ec3c41ef5376405eba1bbba89be82139",
       "version_major": 2,
       "version_minor": 0
      },
      "text/plain": [
       "Output()"
      ]
     },
     "metadata": {},
     "output_type": "display_data"
    },
    {
     "data": {
      "text/plain": []
     },
     "execution_count": 118,
     "metadata": {},
     "output_type": "execute_result"
    }
   ],
   "source": [
    "WebSales.query(\"stock_quantity !=0\").stock_quantity.describe()"
   ]
  },
  {
   "cell_type": "markdown",
   "metadata": {},
   "source": [
    "Le domaine de Montrose Côtes de Thongue Rosé 2019 semble faire l'objet d'un stockage excessif (578 unités contre 35 en moyenne). Les rosées sont évidemment des vins à forte saisonalité mais c'est aussi des vins qui se gardent mal. <br>\n",
    "Concernant le Domaine Giudiceli Patrimonio Rouge 2016, j'ai moins d'inquiétude sur le stockage."
   ]
  },
  {
   "cell_type": "markdown",
   "metadata": {},
   "source": [
    "<h2> Risque sur la valeur du stock</h2>"
   ]
  },
  {
   "cell_type": "code",
   "execution_count": 119,
   "metadata": {},
   "outputs": [
    {
     "name": "stderr",
     "output_type": "stream",
     "text": [
      "C:\\Users\\mario\\anaconda3\\lib\\site-packages\\pandas\\core\\frame.py:3040: SettingWithCopyWarning:\n",
      "A value is trying to be set on a copy of a slice from a DataFrame.\n",
      "Try using .loc[row_indexer,col_indexer] = value instead\n",
      "\n",
      "See the caveats in the documentation: https://pandas.pydata.org/pandas-docs/stable/user_guide/indexing.html#returning-a-view-versus-a-copy\n"
     ]
    }
   ],
   "source": [
    "WebSales['stock_value']= WebSales.price * WebSales.stock_quantity"
   ]
  },
  {
   "cell_type": "code",
   "execution_count": 120,
   "metadata": {},
   "outputs": [
    {
     "data": {
      "application/vnd.jupyter.widget-view+json": {
       "model_id": "3f5ff6f7598b4720aa1201f946b1925e",
       "version_major": 2,
       "version_minor": 0
      },
      "text/plain": [
       "Button(description='Toggle Pandas/Lux', layout=Layout(top='5px', width='140px'), style=ButtonStyle())"
      ]
     },
     "metadata": {},
     "output_type": "display_data"
    },
    {
     "data": {
      "application/vnd.jupyter.widget-view+json": {
       "model_id": "db9869df16ad46beba61f556d71b9d62",
       "version_major": 2,
       "version_minor": 0
      },
      "text/plain": [
       "Output()"
      ]
     },
     "metadata": {},
     "output_type": "display_data"
    },
    {
     "data": {
      "text/plain": []
     },
     "execution_count": 120,
     "metadata": {},
     "output_type": "execute_result"
    }
   ],
   "source": [
    "WebSales.query('stock_value>0 & stock_quantity<300').sort_values(by='stock_value', ascending=False)"
   ]
  },
  {
   "cell_type": "code",
   "execution_count": 121,
   "metadata": {},
   "outputs": [
    {
     "data": {
      "application/vnd.jupyter.widget-view+json": {
       "model_id": "7874b853b01b4a72a46d253f9f09b2ac",
       "version_major": 2,
       "version_minor": 0
      },
      "text/plain": [
       "Button(description='Toggle Pandas/Lux', layout=Layout(top='5px', width='140px'), style=ButtonStyle())"
      ]
     },
     "metadata": {},
     "output_type": "display_data"
    },
    {
     "data": {
      "application/vnd.jupyter.widget-view+json": {
       "model_id": "297289f6bd874332aa03922b849cd937",
       "version_major": 2,
       "version_minor": 0
      },
      "text/plain": [
       "Output()"
      ]
     },
     "metadata": {},
     "output_type": "display_data"
    },
    {
     "data": {
      "text/plain": []
     },
     "execution_count": 121,
     "metadata": {},
     "output_type": "execute_result"
    }
   ],
   "source": [
    "WebSales.query('stock_value>0 & stock_quantity<300').stock_value.describe()"
   ]
  },
  {
   "cell_type": "code",
   "execution_count": 122,
   "metadata": {},
   "outputs": [
    {
     "data": {
      "text/plain": [
       "1853.9375"
      ]
     },
     "execution_count": 122,
     "metadata": {},
     "output_type": "execute_result"
    }
   ],
   "source": [
    "IQR= WebSales.query('stock_value>0  & stock_quantity<300').stock_value.quantile(0.75)+1.5*(WebSales.query('stock_value>0  & stock_quantity<300').stock_value.quantile(0.75)-WebSales.query('stock_value>0 & stock_quantity<300').stock_value.quantile(0.25))\n",
    "IQR"
   ]
  },
  {
   "cell_type": "code",
   "execution_count": 123,
   "metadata": {},
   "outputs": [
    {
     "data": {
      "text/plain": [
       "Text(0.5, 1853.9375, '1854€')"
      ]
     },
     "execution_count": 123,
     "metadata": {},
     "output_type": "execute_result"
    },
    {
     "data": {
      "image/png": "[encoded data removed]",
      "text/plain": [
       "<Figure size 360x360 with 1 Axes>"
      ]
     },
     "metadata": {},
     "output_type": "display_data"
    }
   ],
   "source": [
    "ax= sns.catplot(data=WebSales.query('stock_value>0 & stock_quantity<300'), y='stock_value', kind='strip',color='#AD283B')\n",
    "ax2=plt.axhline((IQR), color='grey',dashes=(5, 2), label='IQR', alpha=0.5)\n",
    "plt.text(x = 0.5,y=IQR,s = '1854€',color = 'grey')"
   ]
  },
  {
   "cell_type": "code",
   "execution_count": 124,
   "metadata": {},
   "outputs": [
    {
     "data": {
      "application/vnd.jupyter.widget-view+json": {
       "model_id": "c93d39c931a746568eb5511a58abbab8",
       "version_major": 2,
       "version_minor": 0
      },
      "text/plain": [
       "Button(description='Toggle Pandas/Lux', layout=Layout(top='5px', width='140px'), style=ButtonStyle())"
      ]
     },
     "metadata": {},
     "output_type": "display_data"
    },
    {
     "data": {
      "application/vnd.jupyter.widget-view+json": {
       "model_id": "01275d3f450946728e07483b67641c16",
       "version_major": 2,
       "version_minor": 0
      },
      "text/plain": [
       "Output()"
      ]
     },
     "metadata": {},
     "output_type": "display_data"
    },
    {
     "data": {
      "text/plain": []
     },
     "execution_count": 124,
     "metadata": {},
     "output_type": "execute_result"
    }
   ],
   "source": [
    "WebSales.query('stock_value>1854 & stock_quantity<300').sort_values(by=\"stock_value\", ascending=False)"
   ]
  },
  {
   "cell_type": "markdown",
   "metadata": {},
   "source": [
    "En plus des 2 vins cités ci-dessus, <b>30 autres produits</b> mériteraient que l'on s'arrête sur les quantités stockées pour vérifier quelles sont pertinentes au regard de l'immobilisation que cela représente."
   ]
  }
 ],
 "metadata": {
  "hide_input": true,
  "kernelspec": {
   "display_name": "Python 3",
   "language": "python",
   "name": "python3"
  },
  "language_info": {
   "codemirror_mode": {
    "name": "ipython",
    "version": 3
   },
   "file_extension": ".py",
   "mimetype": "text/x-python",
   "name": "python",
   "nbconvert_exporter": "python",
   "pygments_lexer": "ipython3",
   "version": "3.8.5"
  },
  "toc": {
   "base_numbering": 1,
   "nav_menu": {},
   "number_sections": true,
   "sideBar": true,
   "skip_h1_title": false,
   "title_cell": "Table of Contents",
   "title_sidebar": "Contents",
   "toc_cell": false,
   "toc_position": {
    "height": "calc(100% - 180px)",
    "left": "10px",
    "top": "150px",
    "width": "336.875px"
   },
   "toc_section_display": true,
   "toc_window_display": true
  }
 },
 "nbformat": 4,
 "nbformat_minor": 4
}
